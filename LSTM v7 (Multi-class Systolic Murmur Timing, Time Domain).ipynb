{
 "cells": [
  {
   "cell_type": "code",
   "execution_count": 1,
   "id": "d8588fce",
   "metadata": {
    "scrolled": true
   },
   "outputs": [
    {
     "name": "stdout",
     "output_type": "stream",
     "text": [
      "WARNING:tensorflow:From C:\\Users\\savit\\anaconda3\\Lib\\site-packages\\keras\\src\\losses.py:2976: The name tf.losses.sparse_softmax_cross_entropy is deprecated. Please use tf.compat.v1.losses.sparse_softmax_cross_entropy instead.\n",
      "\n"
     ]
    }
   ],
   "source": [
    "from keras.models import Sequential\n",
    "from keras.layers import GRU, Dense\n",
    "import numpy as np\n",
    "import random"
   ]
  },
  {
   "cell_type": "code",
   "execution_count": 2,
   "id": "82683317",
   "metadata": {},
   "outputs": [],
   "source": [
    "import pandas as pd\n",
    "\n",
    "df = pd.read_csv(\"the-circor-digiscope-phonocardiogram-dataset-1.0.3/training_data.csv\")"
   ]
  },
  {
   "cell_type": "code",
   "execution_count": 3,
   "id": "8c1ecbed",
   "metadata": {},
   "outputs": [
    {
     "name": "stdout",
     "output_type": "stream",
     "text": [
      "[2530, 9979, 9983, 13918, 14241, 14998, 23625, 24160, 29045, 29378, 31737, 33151, 36327, 38337, 39043, 39403, 39456, 40058, 40798, 40840, 43852, 44514, 45843, 46065, 46532, 46579, 46778, 47002, 49558, 49561, 49562, 49568, 49572, 49574, 49577, 49585, 49595, 49598, 49607, 49610, 49618, 49622, 49627, 49628, 49630, 49631, 49638, 49641, 49653, 49659, 49661, 49669, 49678, 49683, 49687, 49691, 49704, 49712, 49719, 49729, 49735, 49745, 49748, 49751, 49754, 49761, 49776, 49808, 49821, 49823, 49824, 49829, 49832, 49838, 49839, 49842, 49850, 49853, 49854, 49873, 49876, 49896, 49897, 49900, 49930, 49931, 49946, 49952, 49959, 49960, 49963, 49966, 49968, 49969, 49970, 49974, 49978, 49979, 49980, 49983, 49986, 49987, 49988, 49989, 49990, 49993, 49994, 49995, 49998, 49999, 50001, 50004, 50005, 50006, 50007, 50008, 50009, 50012, 50014, 50015, 50017, 50018, 50023, 50026, 50027, 50029, 50030, 50032, 50034, 50037, 50043, 50047, 50048, 50049, 50053, 50054, 50056, 50057, 50061, 50066, 50067, 50070, 50072, 50074, 50075, 50076, 50077, 50078, 50079, 50080, 50085, 50086, 50089, 50092, 50094, 50096, 50099, 50100, 50103, 50104, 50105, 50109, 50111, 50113, 50115, 50116, 50117, 50118, 50119, 50121, 50122, 50123, 50125, 50126, 50127, 50128, 50129, 50133, 50136, 50137, 50138, 50141, 50142, 50143, 50145, 50146, 50149, 50150, 50151, 50152, 50153, 50155, 50159, 50160, 50161, 50164, 50165, 50166, 50168, 50174, 50204, 50206, 50207, 50209, 50210, 50213, 50214, 50216, 50217, 50218, 50219, 50220, 50221, 50222, 50225, 50228, 50229, 50230, 50231, 50233, 50238, 50239, 50241, 50244, 50247, 50248, 50249, 50250, 50251, 50254, 50255, 50256, 50258, 50260, 50261, 50263, 50264, 50271, 50272, 50273, 50275, 50276, 50277, 50278, 50280, 50281, 50284, 50285, 50289, 50291, 50295, 50296, 50297, 50298, 50299, 50300, 50303, 50304, 50306, 50311, 50312, 50314, 50316, 50317, 50318, 50319, 50321, 50323, 50325, 50326, 50327, 50330, 50331, 50332, 50334, 50335, 50336, 50337, 50339, 50341, 50342, 50343, 50345, 50348, 50349, 50350, 50352, 50354, 50359, 50375, 50379, 50384, 50385, 50386, 50388, 50391, 50393, 50619, 50620, 50621, 50624, 50625, 50626, 50628, 50629, 50631, 50635, 50636, 50639, 50640, 50641, 50643, 50644, 50645, 50646, 50647, 50649, 50652, 50654, 50655, 50656, 50657, 50658, 50659, 50661, 50664, 50665, 50667, 50668, 50669, 50671, 50673, 50676, 50677, 50678, 50680, 50685, 50687, 50688, 50689, 50690, 50691, 50693, 50699, 50704, 50707, 50708, 50713, 50715, 50720, 50721, 50722, 50723, 50725, 50727, 50729, 50731, 50732, 50734, 50735, 50736, 50737, 50738, 50739, 50740, 50742, 50743, 50744, 50746, 50747, 50748, 50749, 50751, 50752, 50753, 50754, 50756, 50757, 50758, 50762, 50763, 50766, 50768, 50770, 50771, 50772, 50773, 50774, 50776, 50781, 50782, 50784, 50787, 50788, 50789, 50790, 50793, 50795, 50796, 50797, 50798, 50800, 50802, 50803, 50805, 50807, 50812, 50815, 50818, 50819, 50820, 50822, 50826, 50829, 51064, 51331, 55945, 57700, 57706, 59536, 61117, 61610, 63456, 63581, 64256, 64715, 68175, 68182, 68186, 68194, 68204, 68213, 68219, 68222, 68255, 68260, 68269, 68279, 68292, 68298, 68303, 68306, 68316, 68318, 68327, 68330, 68337, 68347, 68359, 68363, 68368, 68374, 68377, 68379, 68394, 68395, 68404, 68406, 68407, 68412, 68413, 68419, 68423, 68425, 68427, 68431, 68432, 68435, 68436, 68444, 68449, 68456, 68460, 68465, 68470, 68477, 68478, 68482, 68484, 68487, 68498, 68504, 68532, 68545, 68556, 68560, 68567, 68576, 68582, 68624, 68632, 68646, 68659, 68660, 68682, 68698, 68702, 68705, 68708, 68711, 68737, 68738, 68740, 68741, 68752, 68755, 68756, 68757, 68796, 68827, 68831, 68849, 68857, 68861, 68864, 68874, 68886, 68887, 68888, 68895, 68901, 68908, 68909, 68952, 69060, 69066, 69067, 69068, 69079, 69093, 69095, 69096, 69106, 69112, 69120, 69125, 69129, 69141, 69144, 69147, 69152, 69155, 69159, 69161, 69174, 69176, 69188, 70280, 72283, 72288, 73316, 73497, 74417, 74420, 75440, 76240, 76758, 77373, 78280, 78582, 78592, 80348, 81035, 81297, 81501, 81638, 82275, 83094, 84687, 84688, 84689, 84690, 84692, 84693, 84695, 84696, 84697, 84699, 84702, 84704, 84706, 84708, 84709, 84710, 84711, 84713, 84714, 84716, 84718, 84720, 84721, 84724, 84725, 84727, 84730, 84731, 84732, 84733, 84734, 84735, 84736, 84738, 84740, 84742, 84743, 84746, 84747, 84749, 84750, 84751, 84753, 84754, 84755, 84758, 84760, 84761, 84762, 84764, 84765, 84768, 84769, 84775, 84776, 84778, 84779, 84780, 84784, 84785, 84786, 84790, 84793, 84796, 84798, 84799, 84802, 84803, 84804, 84805, 84807, 84808, 84809, 84813, 84814, 84815, 84822, 84823, 84824, 84826, 84829, 84831, 84834, 84835, 84837, 84838, 84839, 84840, 84851, 84852, 84853, 84854, 84855, 84856, 84857, 84859, 84861, 84863, 84864, 84865, 84866, 84868, 84870, 84874, 84875, 84876, 84877, 84878, 84879, 84881, 84882, 84883, 84884, 84885, 84886, 84887, 84890, 84892, 84893, 84894, 84896, 84900, 84912, 84917, 84918, 84919, 84920, 84921, 84922, 84923, 84928, 84930, 84931, 84933, 84934, 84935, 84936, 84937, 84939, 84942, 84945, 84946, 84947, 84949, 84950, 84952, 84957, 84960, 84961, 84962, 84965, 84966, 84969, 84970, 84971, 84973, 84974, 84976, 84977, 84978, 84982, 84983, 84984, 84985, 84986, 84987, 84988, 84990, 84991, 84992, 84993, 84994, 84995, 84996, 85000, 85002, 85004, 85010, 85011, 85012, 85018, 85019, 85020, 85023, 85024, 85026, 85027, 85028, 85029, 85030, 85031, 85033, 85034, 85035, 85036, 85037, 85038, 85042, 85043, 85044, 85046, 85048, 85052, 85053, 85055, 85057, 85062, 85063, 85064, 85066, 85069, 85075, 85076, 85077, 85079, 85080, 85081, 85084, 85086, 85087, 85090, 85091, 85093, 85094, 85096, 85099, 85100, 85102, 85103, 85105, 85108, 85109, 85110, 85112, 85113, 85114, 85115, 85116, 85118, 85119, 85121, 85122, 85123, 85124, 85127, 85128, 85131, 85132, 85133, 85134, 85135, 85136, 85139, 85140, 85143, 85144, 85145, 85147, 85148, 85150, 85151, 85152, 85153, 85154, 85155, 85157, 85159, 85161, 85162, 85163, 85164, 85165, 85166, 85167, 85168, 85169, 85172, 85174, 85175, 85176, 85180, 85181, 85182, 85184, 85186, 85192, 85196, 85197, 85198, 85199, 85202, 85203, 85207, 85210, 85212, 85213, 85214, 85216, 85217, 85219, 85222, 85225, 85226, 85227, 85229, 85230, 85234, 85235, 85236, 85239, 85240, 85241, 85242, 85243, 85244, 85245, 85246, 85247, 85249, 85250, 85252, 85253, 85258, 85259, 85261, 85262, 85264, 85265, 85269, 85270, 85276, 85277, 85278, 85279, 85282, 85285, 85286, 85287, 85288, 85293, 85294, 85296, 85299, 85300, 85301, 85305, 85306, 85308, 85312, 85313, 85315, 85316, 85317, 85319, 85321, 85322, 85323, 85326, 85327, 85328, 85329, 85331, 85332, 85334, 85335, 85336, 85337, 85338, 85339, 85340, 85341, 85343, 85345, 85349]\n",
      "['AV+PV+TV+MV', 'AV+PV+TV+MV', 'AV+PV+TV+MV', 'AV+PV+TV+MV', 'AV+PV+TV+MV', 'AV+PV+TV+MV', 'AV+PV+TV+MV', 'AV+PV+TV+MV', 'AV+PV+TV+MV', 'AV+MV', 'AV+PV+TV+MV', 'AV+PV+TV+MV', 'AV+PV+TV+MV', 'AV+MV', 'AV+PV+TV+MV', 'AV+PV+TV+MV', 'PV+TV+MV', 'AV+PV+TV+MV', 'AV+PV+TV+MV', 'AV+PV+TV+MV', 'AV+PV+TV+MV', 'AV+PV+TV+MV', 'AV+PV+TV+MV', 'AV+PV+TV+MV', 'AV', 'AV+PV+TV+MV', 'MV', 'AV+MV', 'AV+MV', 'AV+PV+TV+MV', 'AV+PV+TV+MV', 'AV+PV+TV+MV', 'PV+TV+MV', 'AV+PV+TV+MV', 'AV+PV+TV+MV', 'AV+PV+TV+MV', 'AV+MV', 'AV+MV', 'MV', 'AV+PV+TV+MV', 'AV+MV', 'AV+MV', 'AV+PV+TV+MV', 'AV+PV+TV+MV', 'AV+PV+TV+MV', 'AV+MV', 'AV+PV+MV', 'AV+PV+TV+MV', 'AV+PV+TV+MV', 'AV+PV+TV+MV', 'AV+MV', 'PV+MV', 'AV+PV+TV+MV', 'AV+PV+TV+MV', 'AV+PV+TV+MV', 'AV+PV+TV+MV', 'AV+MV', 'AV+PV+TV+MV', 'AV+PV+TV+MV', 'AV+PV+TV+MV', 'PV+TV+MV', 'AV+PV+TV+MV', 'AV+AV+PV+PV+TV+MV', 'AV+PV+TV+MV', 'AV+PV+TV+MV', 'AV+MV', 'AV+MV', 'PV+TV+MV', 'AV+PV+TV+MV', 'PV+TV+MV', 'AV+PV+MV', 'AV+PV+TV+MV', 'AV+MV', 'MV', 'AV+PV+TV+MV', 'AV+PV+TV+MV', 'AV+MV', 'AV+PV+TV+MV', 'AV+PV+TV+MV', 'AV+MV', 'AV+PV+TV+MV', 'AV+PV+TV+MV', 'AV+PV+TV+MV', 'AV+MV', 'AV+PV+TV+MV', 'AV+PV+TV', 'PV+TV+MV', 'AV+PV+TV+MV+MV', 'AV+MV', 'AV+PV+TV+MV', 'AV+PV+TV+MV', 'MV', 'PV+TV+MV', 'MV', 'AV+MV', 'AV+PV+TV+MV', 'PV', 'MV', 'AV+PV+TV+MV', 'AV+PV+TV+MV', 'AV+MV', 'AV+MV', 'AV+PV+TV+MV', 'PV+MV', 'AV+PV+TV+MV', 'AV+PV+TV+MV', 'AV+PV+TV+MV', 'AV+PV+TV+MV', 'PV+TV+MV', 'AV+PV+TV+MV', 'AV+PV+TV+MV', 'PV+TV+MV', 'MV', 'AV+MV', 'AV+PV+TV+MV', 'AV+PV+TV+MV', 'AV', 'MV', 'AV+PV+TV+MV', 'AV+PV+TV+MV', 'AV+PV+TV+MV', 'AV+MV', 'AV+PV+TV+MV', 'AV+MV', 'AV+MV', 'AV+PV+TV+MV', 'PV+TV+MV', 'PV+TV+TV', 'AV+MV', 'AV+MV', 'AV+PV+TV', 'PV+TV+MV', 'PV+TV+MV', 'AV+PV+TV+MV', 'AV+PV+TV', 'AV+PV+TV+MV', 'AV+PV+TV+MV', 'PV+TV+MV', 'AV+PV+TV+MV', 'AV+MV', 'PV+TV+MV', 'AV+PV+TV+MV', 'PV+TV+MV', 'AV+PV+TV+MV', 'AV+MV', 'AV+PV+TV+MV', 'MV', 'AV+PV+TV+MV', 'AV+PV+TV', 'AV+PV+TV+MV', 'AV+PV+TV+MV', 'PV+TV+MV', 'AV+PV+TV', 'AV+PV+TV+MV', 'PV+TV+MV', 'AV+PV+TV+MV', 'PV+TV+MV', 'AV+MV', 'AV+PV+TV+MV', 'AV+PV+TV+MV', 'PV+TV+MV', 'AV+PV+TV+MV', 'AV+PV+TV+MV', 'AV+PV+TV+MV', 'AV+PV+PV+TV+TV+MV', 'AV+PV+TV+MV', 'PV+TV+MV', 'PV+TV+MV', 'PV', 'PV+TV', 'PV+TV+MV', 'MV', 'PV+TV+MV', 'AV+PV+TV+MV', 'AV+PV+TV+MV', 'AV+PV+TV+MV', 'AV+PV+TV+MV', 'MV', 'AV+MV', 'PV+TV+MV', 'AV+MV', 'AV', 'AV+MV', 'PV+TV', 'MV', 'MV', 'PV+MV', 'AV+PV+TV+MV', 'PV', 'AV+MV', 'AV+MV', 'AV+PV+TV', 'PV+TV+MV', 'PV+TV+MV', 'PV+TV+MV', 'PV+TV+MV', 'AV+PV+MV', 'MV', 'PV+TV+MV', 'AV+PV+TV+MV', 'AV+MV+MV', 'PV+TV+MV', 'AV+MV', 'AV+PV+TV+MV', 'AV+PV+TV+MV+MV', 'AV+PV+TV+MV', 'AV+MV', 'AV+PV+MV+Phc+Phc', 'AV+PV', 'AV+PV+TV+MV', 'AV+PV+MV', 'AV+MV', 'AV+MV', 'PV+TV', 'AV+PV+TV+MV', 'AV+MV', 'AV+PV+TV+MV', 'AV+PV+TV+MV', 'AV+PV+TV+MV', 'AV+PV+TV+MV', 'AV+PV+TV+MV', 'AV+PV+TV+MV', 'MV', 'AV+PV+TV+MV', 'AV+PV+MV', 'TV', 'AV+AV+MV', 'AV+PV+TV+TV+MV', 'AV+MV', 'AV+PV+TV+MV', 'AV+MV', 'AV+PV+TV+MV', 'PV+TV+MV', 'AV+PV+TV+MV', 'AV+PV+TV+MV', 'AV+PV+TV+TV+MV', 'AV+MV', 'AV+PV+TV+MV', 'AV+PV+TV+MV', 'AV+PV+TV+MV', 'AV+PV+TV+MV', 'AV+PV+TV+MV', 'AV+PV+TV+MV', 'AV+PV+TV+MV', 'AV+PV+TV', 'PV+TV+MV', 'AV+PV+TV+MV', 'MV', 'AV+PV+TV+MV', 'AV+PV+MV', 'AV+PV+TV+MV', 'AV+PV+TV+MV', 'AV+PV+TV+MV', 'PV+TV+MV', 'AV+PV+TV+MV', 'AV+MV', 'AV+PV+MV', 'PV', 'AV+PV+TV+MV', 'PV+TV+MV', 'AV+PV+TV+MV', 'AV+PV+TV+MV', 'AV+MV', 'AV+PV+TV', 'AV+PV+TV+MV', 'AV+PV+TV+MV', 'AV+AV+MV+MV', 'AV+PV+TV+MV', 'AV+PV+TV+MV', 'AV+PV+TV+MV', 'AV+PV+TV+MV', 'AV+MV', 'AV+PV+TV+MV', 'AV+MV', 'AV+PV+TV+MV', 'AV+MV', 'PV+TV+MV', 'PV+TV+MV', 'AV+PV+TV+MV', 'AV+MV', 'AV+MV', 'AV+PV+TV+MV', 'PV+TV+MV', 'AV+AV+PV+TV+MV', 'AV+PV+TV+MV', 'AV+PV+TV+MV', 'AV+PV+TV', 'AV+PV+TV+MV', 'AV+PV+TV+MV', 'AV+MV', 'AV+PV+TV+MV', 'AV+PV+TV+MV', 'AV+PV+TV+MV', 'AV+PV+TV+MV', 'AV+PV+TV+MV', 'PV+TV+MV', 'AV+PV+TV+MV', 'AV+PV+TV+MV', 'PV+TV', 'PV', 'AV+PV+TV+MV', 'AV+MV', 'AV+MV', 'AV+MV', 'AV+MV', 'AV+MV', 'AV+PV+TV+MV', 'AV+MV', 'PV+TV', 'MV', 'PV+TV+MV', 'AV+MV', 'AV+MV', 'AV+PV+TV+MV', 'AV+MV', 'AV+PV+TV+MV', 'AV+PV+TV+MV', 'AV+MV', 'AV+PV+TV', 'AV+MV', 'AV+PV+TV+TV+MV', 'AV+PV+TV+MV', 'AV+PV+TV+MV', 'AV+PV+TV+MV', 'AV+MV', 'AV+PV', 'PV+TV', 'AV+PV+TV+MV', 'AV+PV+TV+MV', 'AV+PV+TV+MV', 'MV', 'AV+PV+TV+MV', 'AV+PV+TV+MV', 'AV+PV', 'PV+TV+MV', 'AV+PV+TV+MV', 'AV+TV+MV', 'AV+PV+TV+MV', 'AV+PV+TV+MV', 'AV+PV+TV+MV', 'AV+PV+TV+MV+MV', 'AV+PV+TV+MV', 'AV+PV+TV+MV', 'AV+PV+TV+MV', 'AV+MV', 'AV+TV+MV', 'AV+PV+TV+MV', 'AV+PV+TV+MV', 'AV+PV+TV+MV', 'AV+MV', 'AV+PV+TV+MV', 'PV+TV+MV', 'AV+PV+TV+MV', 'AV+PV+TV+MV', 'AV+MV', 'AV+MV', 'PV+TV+MV', 'AV+PV+TV+MV', 'AV+PV+TV+MV+Phc', 'AV+PV+TV+MV', 'AV+PV+TV', 'PV+TV+MV', 'AV+PV+TV+MV', 'AV+MV', 'AV+PV+TV+MV', 'AV+PV+TV+MV', 'AV+AV+AV+MV', 'AV+PV+TV+MV', 'AV+PV+TV+MV', 'AV+PV+TV+MV', 'AV+MV', 'AV+PV+TV+MV', 'AV+PV+TV+MV', 'AV+PV+TV+MV', 'AV+PV+TV+MV', 'AV+PV+TV+MV', 'AV+PV+TV+MV', 'AV+PV+TV+MV', 'AV+PV+TV+MV', 'AV+PV+TV+MV', 'AV+PV+TV+MV', 'AV+PV+TV+MV', 'AV', 'AV+PV+TV+MV', 'AV+PV+TV+MV', 'AV+PV+MV', 'AV+PV+TV+MV', 'AV+TV+MV', 'PV', 'AV+PV+TV+MV', 'AV+AV+PV+TV+MV+MV', 'AV+PV+TV+MV', 'MV', 'AV+PV+TV+MV', 'AV+PV+TV+MV', 'AV+MV', 'PV+TV+MV', 'AV+MV', 'PV+TV+MV', 'AV+PV+TV+MV', 'AV+PV+TV+MV', 'AV+PV+TV+MV', 'AV+PV+TV+TV+MV', 'AV+PV+TV+MV', 'PV+TV+MV', 'AV+PV+TV+MV', 'AV+PV+TV+MV', 'AV+PV+TV+MV', 'AV+PV+TV+MV', 'AV+PV+TV+MV', 'AV+PV+TV+MV', 'AV+PV+TV+MV', 'AV+PV+TV+MV', 'AV+PV+MV', 'MV', 'AV+PV+TV+MV', 'AV+PV+TV+MV', 'PV+TV+MV', 'AV+PV+TV+MV', 'AV+MV', 'AV+PV+TV+MV', 'AV+PV+TV+MV', 'AV+PV+TV+MV', 'AV+PV+TV+MV', 'PV+TV+MV', 'PV+TV+MV', 'AV+PV+TV+MV', 'AV+PV+TV+MV', 'AV+PV+TV+MV', 'AV+PV+TV+MV', 'AV+PV+TV+MV', 'AV+PV+TV+MV', 'AV+PV+TV+MV', 'AV+PV+TV+MV', 'AV+PV+TV+MV', 'AV+PV+TV+MV', 'PV+TV', 'PV+TV+MV', 'AV+PV+TV+MV', 'AV+MV', 'AV+PV+TV+MV', 'AV+PV+TV+MV', 'AV+PV+TV+MV', 'AV+PV+TV+MV', 'AV+PV+TV+MV', 'TV', 'AV+PV+TV+MV', 'AV+PV+TV+MV', 'AV+PV+TV+MV', 'AV+MV', 'AV+PV+TV+MV', 'AV+MV', 'AV+PV+TV+MV', 'AV+PV+TV+MV', 'PV+MV', 'PV+TV', 'PV+TV+MV', 'AV+PV+TV+MV', 'AV+PV+TV+MV', 'AV+PV+TV+MV', 'AV+PV+TV+MV', 'AV+PV+TV+MV', 'AV+PV+TV+MV', 'AV+PV+TV+MV', 'AV+PV+TV+MV', 'AV+PV+TV+MV', 'AV+PV+TV+MV', 'AV+MV', 'AV+PV+TV+MV', 'AV+PV+TV+MV', 'AV+PV+TV', 'AV+PV+TV+MV', 'AV+PV+TV+MV', 'AV+PV+TV+MV', 'TV+MV', 'AV+PV+TV+MV', 'AV+PV+TV+MV', 'AV+PV+TV+MV', 'AV+PV+TV+MV', 'AV+PV+TV+MV', 'AV+PV+TV+MV', 'AV+PV+TV+MV', 'AV+PV+TV+MV', 'AV+PV+TV+MV', 'AV+MV', 'AV+PV+TV+MV', 'AV+PV+TV+MV', 'AV+MV', 'AV+PV+TV+MV', 'AV+PV+TV+MV', 'AV+PV+TV', 'AV+PV+TV+MV', 'AV+PV+TV+MV', 'AV+PV+TV+MV', 'AV+PV+TV+MV', 'AV+PV+TV+MV', 'AV+PV+TV+MV', 'AV+PV+TV+MV', 'AV+PV+TV+MV', 'AV+PV+TV+MV', 'AV+PV+TV+MV', 'AV+PV+TV+MV', 'AV+PV+TV+MV', 'AV+PV+TV+MV', 'AV+PV+TV+MV', 'AV+PV+TV+MV', 'PV+TV+MV', 'AV+PV+TV', 'AV+PV+TV+MV', 'AV+PV+TV', 'AV+PV+TV+MV', 'AV+PV+TV+MV', 'MV', 'AV+PV+TV+MV', 'PV+TV+MV', 'AV+PV+TV+MV', 'AV+PV+TV+MV', 'AV+TV+MV', 'AV+PV+TV+MV', 'AV+PV+TV+MV', 'AV+PV+TV+MV', 'PV+TV+MV', 'AV+PV+TV+MV', 'AV+PV+TV+MV', 'AV+PV+TV+MV', 'AV+PV+TV+MV', 'AV+PV+TV+MV', 'AV+PV+TV+MV', 'AV+PV+TV+MV', 'AV+PV+TV+MV', 'AV+PV+TV+MV', 'AV+PV+TV+MV', 'AV+PV+TV+MV', 'AV+PV+TV+MV', 'AV+PV+TV+MV', 'AV+PV+TV+MV', 'AV+PV+TV+MV', 'AV+PV+TV+MV', 'AV+PV+TV+MV', 'AV+PV+TV+MV', 'AV+PV+TV+MV', 'PV+TV+MV', 'AV+PV+TV+MV', 'AV+PV+TV+MV', 'AV+PV+TV+MV', 'AV+PV+TV+MV', 'AV+PV+TV+MV', 'AV+MV', 'PV+TV+MV', 'PV', 'AV+PV+TV+MV', 'AV+PV+TV+MV', 'AV+PV+TV+MV', 'AV+MV', 'AV+PV+TV+MV', 'AV+PV+TV+MV', 'MV', 'AV+PV+TV+MV', 'AV+MV', 'AV+MV', 'AV+PV+TV+MV', 'AV+PV+TV+MV', 'MV', 'AV+PV+TV+MV', 'AV+PV+TV+MV', 'AV+MV', 'AV+PV', 'MV', 'AV+MV', 'MV', 'AV+PV+TV+MV', 'TV+MV+Phc', 'AV+PV+TV+MV', 'AV+PV+TV+MV', 'AV+PV+TV+MV', 'AV+PV+TV+MV', 'AV+PV+TV+MV', 'AV+PV+TV+MV', 'PV+TV+MV', 'PV', 'AV+PV+TV+MV', 'AV+MV', 'AV+PV+TV+MV', 'AV+PV+TV+MV', 'AV+PV+TV+MV', 'AV+PV+TV', 'AV+TV+MV', 'AV+PV+TV+MV', 'AV+PV+TV+MV', 'AV', 'AV+PV+TV+MV', 'AV+PV+TV+MV', 'PV+TV+MV', 'AV+PV+TV+MV', 'AV+PV+TV+MV', 'MV', 'AV+MV', 'AV+PV+TV+MV', 'AV+PV+TV+MV', 'AV+PV+TV+MV', 'AV+MV', 'AV+PV+TV+MV', 'AV+PV+TV+MV', 'AV+PV+TV+MV', 'AV+PV+TV+MV', 'PV', 'TV', 'AV+PV+TV+MV', 'AV+PV+TV+MV', 'AV+PV+TV+MV', 'AV+PV+TV+MV', 'AV+TV+MV', 'MV', 'AV+PV+TV+MV', 'PV+TV+MV', 'AV+PV+TV+MV', 'AV+PV+TV+MV', 'AV+PV+TV+MV', 'AV+PV+TV+MV', 'PV+TV', 'PV+MV', 'AV+PV+TV+MV', 'AV+PV+TV+MV', 'AV+PV+TV+MV', 'AV+PV+TV+MV', 'AV+PV+TV+MV', 'AV+MV', 'AV+PV+TV+MV', 'AV+PV+MV', 'AV', 'AV+PV+TV+MV', 'AV+MV', 'AV+PV+TV+MV', 'AV+PV+TV+MV', 'AV+PV+TV+MV', 'AV+PV+TV+MV', 'MV', 'AV+PV+TV+MV', 'AV+MV', 'AV+PV+TV+MV', 'AV+PV+TV+MV', 'AV+PV+TV+MV', 'AV+PV', 'AV+PV+TV+MV', 'AV+PV+TV+MV', 'AV+PV+TV+MV', 'AV+MV', 'AV+PV+TV+MV', 'AV+PV+TV+MV', 'AV+PV+TV+MV', 'AV+PV+TV+MV', 'AV+PV+TV+MV', 'AV+PV', 'AV+PV+TV+MV', 'AV+PV+TV+MV', 'TV+MV', 'AV+PV+TV+MV', 'AV+PV+TV+MV', 'AV+PV+TV+MV', 'AV+PV+TV+MV', 'PV+TV+MV', 'AV+PV+TV+MV', 'AV+MV', 'AV+PV+TV+MV', 'AV+PV+TV+MV', 'AV+PV+TV+MV', 'AV+PV+TV+MV', 'AV+PV+TV+MV', 'AV+PV+TV+MV', 'AV+PV+TV+MV', 'AV+PV+TV+MV', 'AV+PV+TV+MV', 'PV+TV', 'AV+MV', 'AV+PV+TV+MV', 'AV+PV+TV+MV', 'AV+PV+TV+MV', 'AV+PV+TV+MV', 'AV+PV+TV+MV', 'AV+PV+TV+MV', 'AV+PV+TV+MV', 'AV+MV', 'PV', 'AV+PV+TV+MV', 'AV+PV+TV+MV', 'AV+PV+MV', 'AV+PV', 'AV+PV+TV+MV', 'AV+PV+TV+MV', 'AV+MV', 'AV+PV+TV+MV', 'AV+PV+TV+MV', 'PV', 'PV+TV', 'AV+PV+TV+MV', 'AV+PV+TV+MV', 'AV+MV', 'AV+PV+TV+MV', 'AV+PV+TV+MV', 'AV+PV+TV+MV', 'AV+PV+TV+MV', 'AV+PV+TV+MV', 'AV', 'AV+PV+TV+MV', 'AV+PV+TV+MV', 'AV+PV+TV+MV', 'AV+PV+TV+MV', 'AV+PV+TV', 'AV+PV+TV+MV', 'AV+PV+TV+MV', 'AV+PV+TV+MV', 'AV+PV+TV+MV', 'AV+PV+TV', 'AV+PV+TV', 'AV+PV+TV+MV', 'AV+PV+TV+MV', 'AV+PV+TV+MV', 'AV+PV+TV+MV', 'AV+PV+TV+MV', 'AV+PV', 'MV', 'AV+MV', 'PV+TV+MV', 'AV+PV+TV+MV', 'AV+PV+TV+MV', 'AV+PV+TV+MV', 'AV+PV+TV+MV', 'AV+PV+TV+MV', 'AV+PV+TV+MV', 'PV+TV+MV', 'PV+MV', 'AV+PV+TV+MV', 'AV+PV+TV+MV', 'AV+PV+TV+MV', 'AV+PV+MV', 'AV+PV+TV+MV', 'AV+PV+TV+MV', 'AV+PV+TV', 'AV+PV+TV+MV', 'AV+PV+TV+MV', 'AV+MV', 'AV+PV+TV+MV', 'AV+PV+TV+MV', 'AV+PV+TV+MV', 'MV', 'AV+PV+TV+MV', 'AV+MV', 'AV+PV+TV+MV', 'AV+MV', 'AV+MV', 'AV+PV+TV+MV', 'AV+PV+TV+MV', 'AV+PV+TV+MV', 'AV+MV', 'AV+PV+TV+MV', 'AV+PV+TV+MV', 'AV+PV+TV+MV', 'AV+PV+TV+MV', 'AV+PV+TV+MV', 'AV+PV+TV+MV', 'AV+MV', 'AV+PV+TV+MV', 'AV+PV+TV+MV', 'AV+PV+TV+MV', 'AV+PV+TV+MV', 'AV+PV+TV+MV', 'PV+TV+MV', 'AV+PV', 'AV+PV+TV+MV', 'AV+PV+TV+MV', 'PV+TV+MV', 'AV+PV+TV+MV', 'AV+PV+TV', 'AV+PV+TV+MV', 'AV+PV+TV+MV', 'MV', 'AV+PV+TV+MV', 'MV', 'AV+PV+TV+MV', 'AV+PV+TV+MV', 'PV+MV', 'AV+PV+TV+MV', 'AV+PV+TV+MV', 'AV+PV+TV+MV', 'AV+MV', 'AV+PV+TV', 'AV+PV+TV+MV', 'AV+PV+TV+MV', 'PV+TV+MV', 'AV+MV', 'AV+PV+TV+MV', 'AV+PV+TV+MV', 'AV+PV+TV+MV', 'AV+PV+TV+MV', 'AV+PV', 'AV+PV+TV+MV', 'AV+PV+TV', 'PV+TV', 'AV+PV+TV+MV', 'AV+PV+TV+MV', 'AV+PV+TV+MV', 'AV+PV+TV+MV', 'AV+PV+TV+MV', 'AV+PV+TV+MV', 'AV+PV+TV+MV', 'AV+PV+TV+MV', 'AV+PV+TV+MV', 'AV+PV+TV+MV', 'AV+PV+TV+MV', 'AV+PV+TV+MV', 'AV+PV+TV+MV', 'AV+PV+TV+MV', 'AV+PV+TV+MV', 'AV+PV+TV+MV', 'AV+PV+TV+MV', 'AV+PV+TV+MV', 'AV+PV+TV+MV', 'AV+PV+TV+MV', 'PV+TV+MV', 'AV+PV+TV+MV', 'PV+TV+MV', 'AV+PV+MV', 'AV+PV+TV+MV', 'AV+MV', 'MV', 'AV+PV+TV+MV', 'AV+PV+TV+MV', 'AV+PV', 'AV+PV+TV+MV', 'AV+PV+TV+MV', 'AV+PV', 'AV+PV+TV+MV', 'AV', 'AV+PV+TV+MV', 'AV+MV', 'AV+PV+TV+MV', 'AV+PV+TV+MV', 'AV+PV+TV+MV', 'AV+PV+TV+MV', 'AV+MV', 'AV+PV+TV+MV', 'PV+TV', 'AV+PV+TV+MV', 'AV+PV+TV+MV', 'AV+PV+TV+MV', 'AV+PV+TV+MV', 'AV+PV+TV+MV', 'AV+PV+TV+MV', 'AV+PV+TV+MV', 'AV+PV', 'AV+PV+TV+MV', 'AV+PV+TV+MV', 'AV+PV+TV', 'AV+PV+TV+MV', 'AV+PV+TV+MV', 'AV+PV+TV+MV', 'AV+PV+TV+MV', 'AV+PV', 'AV+MV', 'AV+MV', 'AV+PV+TV+MV', 'AV+PV+TV+MV', 'AV+PV+TV+MV', 'AV+PV+TV+MV', 'AV+PV+TV+MV', 'AV+PV+TV+MV', 'AV+PV+TV+MV', 'AV+PV+TV+MV', 'AV+PV+TV', 'AV+PV+TV+MV', 'PV+TV+MV', 'AV+PV+TV+MV', 'PV+TV+MV', 'AV+PV+TV+MV', 'AV+PV+TV+MV', 'AV+PV+TV+MV', 'AV+PV+TV+MV', 'AV+PV+TV+MV', 'AV+PV+TV', 'AV+PV+TV+MV', 'MV', 'AV+PV', 'AV+PV+TV+MV', 'AV+PV+TV', 'AV+PV+TV+MV', 'AV+PV+TV+MV', 'AV+PV+TV+MV', 'AV+PV+TV+MV', 'AV+PV+TV+MV', 'AV+PV+TV+MV', 'AV+PV+TV+MV', 'AV+MV', 'AV+PV+TV+MV', 'AV+PV+TV+MV', 'MV', 'AV+PV+TV+MV', 'AV+PV', 'AV+PV+TV+MV', 'MV', 'AV+PV+TV+MV', 'AV+PV+TV+MV', 'AV+PV+TV+MV', 'AV+PV+TV+MV', 'AV+PV+TV+MV', 'AV+PV+TV+MV', 'PV+TV+MV', 'AV+PV+TV+MV', 'AV+PV+TV+MV', 'AV+MV', 'AV+PV+TV+MV', 'AV+PV+TV+MV', 'AV+MV', 'AV+PV+TV+MV', 'AV+PV+TV+MV', 'AV+MV', 'AV+PV+TV+MV', 'AV+PV+TV+MV', 'PV+TV+MV', 'AV+PV+TV+MV', 'AV+PV+TV+MV', 'AV', 'AV+PV+TV+MV', 'PV+TV', 'TV', 'PV', 'AV+PV+TV+MV', 'AV+PV+TV+MV', 'AV+PV+TV+MV', 'AV+PV+TV+MV', 'AV+PV+TV+MV', 'AV+PV', 'AV+PV+TV+MV', 'AV+PV+TV', 'AV+MV', 'AV+PV+TV+MV', 'AV+PV+TV+MV', 'MV', 'AV+PV+TV+MV', 'AV+PV+TV+MV', 'AV+PV+TV+MV', 'AV+PV', 'AV+PV+TV']\n",
      "['Absent', 'Present', 'Unknown', 'Present', 'Present', 'Absent', 'Absent', 'Absent', 'Present', 'Unknown', 'Absent', 'Present', 'Present', 'Absent', 'Absent', 'Absent', 'Unknown', 'Absent', 'Absent', 'Present', 'Absent', 'Present', 'Present', 'Present', 'Absent', 'Present', 'Present', 'Present', 'Unknown', 'Absent', 'Absent', 'Absent', 'Present', 'Present', 'Absent', 'Absent', 'Present', 'Absent', 'Unknown', 'Absent', 'Unknown', 'Absent', 'Present', 'Present', 'Present', 'Absent', 'Unknown', 'Absent', 'Absent', 'Absent', 'Absent', 'Unknown', 'Absent', 'Absent', 'Absent', 'Present', 'Absent', 'Present', 'Absent', 'Absent', 'Absent', 'Absent', 'Present', 'Present', 'Present', 'Unknown', 'Absent', 'Absent', 'Present', 'Present', 'Present', 'Absent', 'Absent', 'Present', 'Absent', 'Absent', 'Present', 'Absent', 'Absent', 'Absent', 'Absent', 'Absent', 'Present', 'Present', 'Absent', 'Present', 'Absent', 'Absent', 'Absent', 'Absent', 'Absent', 'Present', 'Absent', 'Absent', 'Absent', 'Absent', 'Absent', 'Absent', 'Absent', 'Absent', 'Absent', 'Absent', 'Absent', 'Present', 'Absent', 'Absent', 'Present', 'Absent', 'Absent', 'Absent', 'Absent', 'Absent', 'Absent', 'Absent', 'Absent', 'Absent', 'Absent', 'Absent', 'Absent', 'Absent', 'Absent', 'Absent', 'Absent', 'Absent', 'Absent', 'Absent', 'Unknown', 'Absent', 'Absent', 'Absent', 'Absent', 'Absent', 'Absent', 'Absent', 'Absent', 'Present', 'Present', 'Absent', 'Absent', 'Absent', 'Absent', 'Absent', 'Absent', 'Absent', 'Absent', 'Absent', 'Absent', 'Absent', 'Absent', 'Absent', 'Absent', 'Absent', 'Absent', 'Absent', 'Absent', 'Absent', 'Present', 'Absent', 'Absent', 'Absent', 'Absent', 'Absent', 'Absent', 'Absent', 'Present', 'Unknown', 'Absent', 'Present', 'Absent', 'Absent', 'Absent', 'Unknown', 'Absent', 'Absent', 'Present', 'Absent', 'Present', 'Absent', 'Present', 'Absent', 'Present', 'Absent', 'Absent', 'Absent', 'Absent', 'Absent', 'Present', 'Present', 'Absent', 'Unknown', 'Absent', 'Absent', 'Present', 'Absent', 'Present', 'Absent', 'Absent', 'Absent', 'Absent', 'Absent', 'Absent', 'Absent', 'Absent', 'Present', 'Absent', 'Absent', 'Absent', 'Absent', 'Unknown', 'Absent', 'Absent', 'Present', 'Present', 'Absent', 'Absent', 'Absent', 'Present', 'Absent', 'Absent', 'Present', 'Present', 'Absent', 'Absent', 'Absent', 'Absent', 'Unknown', 'Absent', 'Absent', 'Absent', 'Absent', 'Absent', 'Present', 'Present', 'Present', 'Absent', 'Absent', 'Absent', 'Absent', 'Absent', 'Absent', 'Absent', 'Absent', 'Present', 'Absent', 'Present', 'Absent', 'Absent', 'Present', 'Present', 'Absent', 'Absent', 'Absent', 'Absent', 'Absent', 'Absent', 'Unknown', 'Absent', 'Unknown', 'Absent', 'Absent', 'Absent', 'Absent', 'Absent', 'Absent', 'Absent', 'Present', 'Absent', 'Absent', 'Absent', 'Present', 'Absent', 'Unknown', 'Present', 'Present', 'Absent', 'Absent', 'Absent', 'Absent', 'Absent', 'Absent', 'Absent', 'Absent', 'Absent', 'Absent', 'Absent', 'Absent', 'Absent', 'Absent', 'Absent', 'Absent', 'Absent', 'Absent', 'Absent', 'Absent', 'Absent', 'Absent', 'Absent', 'Absent', 'Absent', 'Absent', 'Absent', 'Unknown', 'Unknown', 'Absent', 'Present', 'Absent', 'Absent', 'Unknown', 'Absent', 'Unknown', 'Absent', 'Absent', 'Absent', 'Absent', 'Absent', 'Absent', 'Absent', 'Absent', 'Absent', 'Absent', 'Present', 'Absent', 'Absent', 'Absent', 'Absent', 'Absent', 'Absent', 'Absent', 'Absent', 'Absent', 'Absent', 'Absent', 'Present', 'Absent', 'Absent', 'Absent', 'Absent', 'Absent', 'Absent', 'Absent', 'Absent', 'Absent', 'Absent', 'Absent', 'Absent', 'Absent', 'Absent', 'Absent', 'Absent', 'Absent', 'Absent', 'Absent', 'Absent', 'Absent', 'Absent', 'Absent', 'Absent', 'Absent', 'Present', 'Present', 'Present', 'Absent', 'Absent', 'Absent', 'Absent', 'Absent', 'Absent', 'Present', 'Present', 'Absent', 'Absent', 'Absent', 'Absent', 'Absent', 'Absent', 'Absent', 'Absent', 'Present', 'Absent', 'Absent', 'Absent', 'Absent', 'Absent', 'Absent', 'Absent', 'Absent', 'Absent', 'Absent', 'Absent', 'Present', 'Absent', 'Absent', 'Absent', 'Absent', 'Absent', 'Present', 'Absent', 'Unknown', 'Absent', 'Absent', 'Absent', 'Absent', 'Absent', 'Absent', 'Absent', 'Absent', 'Absent', 'Absent', 'Absent', 'Absent', 'Absent', 'Absent', 'Absent', 'Absent', 'Present', 'Absent', 'Present', 'Present', 'Present', 'Absent', 'Present', 'Absent', 'Absent', 'Absent', 'Present', 'Absent', 'Unknown', 'Absent', 'Absent', 'Present', 'Present', 'Absent', 'Absent', 'Absent', 'Present', 'Absent', 'Absent', 'Present', 'Absent', 'Unknown', 'Present', 'Present', 'Absent', 'Absent', 'Absent', 'Unknown', 'Present', 'Unknown', 'Absent', 'Present', 'Absent', 'Present', 'Absent', 'Present', 'Absent', 'Absent', 'Absent', 'Absent', 'Absent', 'Absent', 'Absent', 'Absent', 'Present', 'Present', 'Absent', 'Absent', 'Present', 'Present', 'Absent', 'Present', 'Absent', 'Present', 'Absent', 'Absent', 'Absent', 'Absent', 'Absent', 'Absent', 'Absent', 'Present', 'Absent', 'Absent', 'Absent', 'Absent', 'Unknown', 'Present', 'Present', 'Unknown', 'Present', 'Absent', 'Absent', 'Absent', 'Absent', 'Absent', 'Absent', 'Absent', 'Absent', 'Absent', 'Present', 'Absent', 'Absent', 'Absent', 'Present', 'Absent', 'Absent', 'Absent', 'Absent', 'Absent', 'Unknown', 'Absent', 'Unknown', 'Absent', 'Absent', 'Absent', 'Unknown', 'Present', 'Absent', 'Absent', 'Absent', 'Absent', 'Absent', 'Absent', 'Absent', 'Absent', 'Unknown', 'Absent', 'Unknown', 'Present', 'Present', 'Present', 'Absent', 'Present', 'Absent', 'Absent', 'Present', 'Absent', 'Absent', 'Absent', 'Absent', 'Present', 'Absent', 'Present', 'Absent', 'Absent', 'Absent', 'Absent', 'Absent', 'Absent', 'Present', 'Unknown', 'Absent', 'Present', 'Absent', 'Absent', 'Absent', 'Present', 'Unknown', 'Present', 'Present', 'Unknown', 'Absent', 'Absent', 'Absent', 'Absent', 'Absent', 'Absent', 'Absent', 'Present', 'Absent', 'Absent', 'Absent', 'Present', 'Present', 'Present', 'Present', 'Absent', 'Absent', 'Absent', 'Present', 'Absent', 'Absent', 'Absent', 'Absent', 'Absent', 'Absent', 'Absent', 'Present', 'Absent', 'Present', 'Unknown', 'Absent', 'Absent', 'Absent', 'Absent', 'Present', 'Absent', 'Present', 'Absent', 'Absent', 'Absent', 'Unknown', 'Absent', 'Absent', 'Absent', 'Absent', 'Unknown', 'Unknown', 'Absent', 'Absent', 'Present', 'Absent', 'Absent', 'Unknown', 'Absent', 'Absent', 'Absent', 'Absent', 'Absent', 'Unknown', 'Absent', 'Absent', 'Absent', 'Absent', 'Absent', 'Absent', 'Absent', 'Absent', 'Absent', 'Present', 'Absent', 'Absent', 'Absent', 'Absent', 'Absent', 'Present', 'Absent', 'Absent', 'Absent', 'Absent', 'Absent', 'Absent', 'Absent', 'Absent', 'Absent', 'Absent', 'Absent', 'Absent', 'Absent', 'Absent', 'Absent', 'Present', 'Absent', 'Unknown', 'Absent', 'Absent', 'Present', 'Absent', 'Absent', 'Present', 'Present', 'Absent', 'Absent', 'Present', 'Absent', 'Absent', 'Present', 'Present', 'Present', 'Absent', 'Absent', 'Absent', 'Absent', 'Unknown', 'Absent', 'Absent', 'Absent', 'Absent', 'Absent', 'Present', 'Absent', 'Absent', 'Present', 'Unknown', 'Absent', 'Absent', 'Unknown', 'Absent', 'Absent', 'Present', 'Unknown', 'Absent', 'Absent', 'Absent', 'Unknown', 'Absent', 'Absent', 'Absent', 'Absent', 'Absent', 'Absent', 'Absent', 'Absent', 'Unknown', 'Absent', 'Absent', 'Present', 'Absent', 'Absent', 'Absent', 'Absent', 'Absent', 'Present', 'Unknown', 'Absent', 'Absent', 'Absent', 'Absent', 'Absent', 'Absent', 'Absent', 'Absent', 'Absent', 'Absent', 'Absent', 'Absent', 'Absent', 'Absent', 'Absent', 'Absent', 'Unknown', 'Unknown', 'Absent', 'Absent', 'Absent', 'Unknown', 'Absent', 'Absent', 'Absent', 'Absent', 'Absent', 'Unknown', 'Absent', 'Absent', 'Present', 'Present', 'Absent', 'Absent', 'Absent', 'Absent', 'Absent', 'Absent', 'Absent', 'Present', 'Absent', 'Absent', 'Absent', 'Absent', 'Present', 'Present', 'Absent', 'Absent', 'Absent', 'Present', 'Present', 'Absent', 'Present', 'Unknown', 'Absent', 'Absent', 'Absent', 'Absent', 'Absent', 'Present', 'Present', 'Absent', 'Absent', 'Absent', 'Absent', 'Present', 'Absent', 'Absent', 'Absent', 'Present', 'Present', 'Unknown', 'Absent', 'Absent', 'Present', 'Absent', 'Absent', 'Absent', 'Absent', 'Absent', 'Absent', 'Absent', 'Absent', 'Absent', 'Absent', 'Present', 'Absent', 'Present', 'Absent', 'Absent', 'Absent', 'Absent', 'Absent', 'Absent', 'Present', 'Absent', 'Absent', 'Absent', 'Absent', 'Absent', 'Absent', 'Absent', 'Present', 'Present', 'Absent', 'Present', 'Absent', 'Absent', 'Absent', 'Absent', 'Absent', 'Present', 'Absent', 'Absent', 'Absent', 'Absent', 'Absent', 'Absent', 'Absent', 'Unknown', 'Absent', 'Absent', 'Absent', 'Absent', 'Absent', 'Absent', 'Present', 'Absent', 'Absent', 'Absent', 'Present', 'Present', 'Absent', 'Absent', 'Absent', 'Absent', 'Absent', 'Unknown', 'Absent', 'Absent', 'Absent', 'Unknown', 'Absent', 'Present', 'Present', 'Unknown', 'Unknown', 'Present', 'Absent', 'Absent', 'Absent', 'Absent', 'Absent', 'Absent', 'Present', 'Absent', 'Absent', 'Absent', 'Unknown', 'Unknown', 'Absent', 'Absent', 'Absent', 'Absent', 'Absent', 'Absent', 'Absent', 'Absent', 'Present', 'Absent', 'Absent', 'Absent', 'Absent', 'Absent', 'Absent', 'Absent', 'Absent', 'Absent', 'Present', 'Present', 'Absent', 'Absent', 'Absent', 'Present', 'Absent', 'Present', 'Absent', 'Absent', 'Absent', 'Absent', 'Absent', 'Absent', 'Absent', 'Absent', 'Absent', 'Unknown', 'Absent', 'Absent', 'Unknown', 'Absent', 'Absent', 'Present', 'Absent', 'Absent', 'Absent', 'Absent', 'Absent', 'Absent', 'Unknown', 'Absent', 'Unknown', 'Absent', 'Absent', 'Absent', 'Absent', 'Absent', 'Absent', 'Absent', 'Absent', 'Absent', 'Absent', 'Absent', 'Absent', 'Present', 'Absent', 'Absent', 'Present', 'Absent', 'Absent']\n",
      "[nan, 'AV+MV+PV+TV', nan, 'TV', 'AV+MV+PV+TV', nan, nan, nan, 'AV+MV+PV+TV', nan, nan, 'MV+TV', 'MV+PV+TV', nan, nan, nan, nan, nan, nan, 'AV+MV+PV+TV', nan, 'AV+MV+PV+TV', 'MV+TV', 'AV+MV+PV+TV', nan, 'MV+PV+TV', 'MV', 'MV', nan, nan, nan, nan, 'MV+PV', 'AV+MV+PV+TV', nan, nan, 'AV+MV', nan, nan, nan, nan, nan, 'AV+MV+PV+TV', 'AV+MV+PV+TV', 'MV+PV+TV', nan, nan, nan, nan, nan, nan, nan, nan, nan, nan, 'AV+MV+PV+TV', nan, 'AV+MV+PV+TV', nan, nan, nan, nan, 'AV+PV+TV', 'MV+PV+TV', 'AV+MV+PV+TV', nan, nan, nan, 'AV+MV+PV+TV', 'MV+PV+TV', 'AV+MV+PV', nan, nan, 'MV', nan, nan, 'AV+MV', nan, nan, nan, nan, nan, 'AV+MV+PV+TV', 'AV+MV', nan, 'AV+PV', nan, nan, nan, nan, nan, 'MV', nan, nan, nan, nan, nan, nan, nan, nan, nan, nan, nan, 'PV', nan, nan, 'AV+MV+PV+TV', nan, nan, nan, nan, nan, nan, nan, nan, nan, nan, nan, nan, nan, nan, nan, nan, nan, nan, nan, nan, nan, nan, nan, nan, nan, nan, nan, nan, 'MV+PV', 'AV+MV+PV+TV', nan, nan, nan, nan, nan, nan, nan, nan, nan, nan, nan, nan, nan, nan, nan, nan, nan, nan, nan, 'MV+PV+TV', nan, nan, nan, nan, nan, nan, nan, 'AV+PV+TV', nan, nan, 'PV', nan, nan, nan, nan, nan, nan, 'MV+TV', nan, 'AV+MV+PV+TV', nan, 'AV+MV', nan, 'AV+MV', nan, nan, nan, nan, nan, 'MV', 'AV+PV+TV', nan, nan, nan, nan, 'MV', nan, 'MV+PV+TV', nan, nan, nan, nan, nan, nan, nan, nan, 'AV+MV+PV+TV', nan, nan, nan, nan, nan, nan, nan, 'AV+MV', 'AV+MV', nan, nan, nan, 'AV+MV+PV+TV', nan, nan, 'AV+MV+PV+TV', 'AV+MV+PV+TV', nan, nan, nan, nan, nan, nan, nan, nan, nan, nan, 'AV+PV+TV', 'TV', 'AV+MV+PV+TV', nan, nan, nan, nan, nan, nan, nan, nan, 'AV+MV+PV+TV', nan, 'AV+PV+TV', nan, nan, 'MV', 'AV+PV+TV', nan, nan, nan, nan, nan, nan, nan, nan, nan, nan, nan, nan, nan, nan, nan, nan, 'TV', nan, nan, nan, 'AV+MV+PV', nan, nan, 'AV+MV+PV+TV', 'AV+MV', nan, nan, nan, nan, nan, nan, nan, nan, nan, nan, nan, nan, nan, nan, nan, nan, nan, nan, nan, nan, nan, nan, nan, nan, nan, nan, nan, nan, nan, nan, 'AV+MV', nan, nan, nan, nan, nan, nan, nan, nan, nan, nan, nan, nan, nan, nan, nan, 'MV+TV', nan, nan, nan, nan, nan, nan, nan, nan, nan, nan, nan, 'AV+MV+PV+TV', nan, nan, nan, nan, nan, nan, nan, nan, nan, nan, nan, nan, nan, nan, nan, nan, nan, nan, nan, nan, nan, nan, nan, nan, nan, 'AV+MV+PV+Phc+TV', 'MV+PV+TV', 'PV+TV', nan, nan, nan, nan, nan, nan, 'MV+PV+TV', 'MV', nan, nan, nan, nan, nan, nan, nan, nan, 'MV+TV', nan, nan, nan, nan, nan, nan, nan, nan, nan, nan, nan, 'AV+PV', nan, nan, nan, nan, nan, 'AV+MV', nan, nan, nan, nan, nan, nan, nan, nan, nan, nan, nan, nan, nan, nan, nan, nan, nan, nan, 'MV', nan, 'AV+MV+PV+TV', 'PV+TV', 'MV+PV+TV', nan, 'TV', nan, nan, nan, 'MV+PV+TV', nan, nan, nan, nan, 'AV+MV+PV+TV', 'PV', nan, nan, nan, 'AV+MV+PV+TV', nan, nan, 'MV+PV', nan, nan, 'AV+MV+PV+TV', 'AV+MV+PV+TV', nan, nan, nan, nan, 'AV+MV+PV+TV', nan, nan, 'AV+MV', nan, 'AV+MV', nan, 'AV+MV+PV+TV', nan, nan, nan, nan, nan, nan, nan, nan, 'MV', 'AV+MV+PV+TV', nan, nan, 'AV+MV+PV+TV', 'AV', nan, 'AV+MV+PV+TV', nan, 'AV+MV+PV+TV', nan, nan, nan, nan, nan, nan, nan, 'AV+MV+PV+TV', nan, nan, nan, nan, nan, 'AV+MV+PV+TV', 'MV+TV', nan, 'AV+MV+PV+TV', nan, nan, nan, nan, nan, nan, nan, nan, nan, 'AV+MV+PV+TV', nan, nan, nan, 'MV+PV+TV', nan, nan, nan, nan, nan, nan, nan, nan, nan, nan, nan, nan, 'TV', nan, nan, nan, nan, nan, nan, nan, nan, nan, nan, nan, 'AV+MV+PV+TV', 'AV+MV+PV+TV', 'AV+MV+PV+TV', nan, 'AV+PV', nan, nan, 'MV+PV+TV', nan, nan, nan, nan, 'AV+MV+PV+TV', nan, 'MV+PV+TV', nan, nan, nan, nan, nan, nan, 'MV+PV+TV', nan, nan, 'AV+MV+PV+TV', nan, nan, nan, 'AV+MV+PV+TV', nan, 'MV+TV', 'AV+MV', nan, nan, nan, nan, nan, nan, nan, nan, 'MV', nan, nan, nan, 'MV+Phc+TV', 'AV+MV+PV+TV', 'AV+MV+PV+TV', 'AV+TV', nan, nan, nan, 'MV+PV+TV', nan, nan, nan, nan, nan, nan, nan, 'AV+MV+TV', nan, 'AV+MV+PV+TV', nan, nan, nan, nan, nan, 'PV+TV', nan, 'MV', nan, nan, nan, nan, nan, nan, nan, nan, nan, nan, nan, nan, 'AV+MV+PV+TV', nan, nan, nan, nan, nan, nan, nan, nan, nan, nan, nan, nan, nan, nan, nan, nan, nan, nan, 'MV+PV', nan, nan, nan, nan, nan, 'AV+PV', nan, nan, nan, nan, nan, nan, nan, nan, nan, nan, nan, nan, nan, nan, nan, 'AV+MV+PV+TV', nan, nan, nan, nan, 'MV+TV', nan, nan, 'TV', 'AV+MV+PV+TV', nan, nan, 'AV+MV', nan, nan, 'AV+MV+PV+TV', 'AV+MV+PV+TV', 'AV+MV+PV+TV', nan, nan, nan, nan, nan, nan, nan, nan, nan, nan, 'PV+TV', nan, nan, 'AV+MV', nan, nan, nan, nan, nan, nan, 'AV+MV', nan, nan, nan, nan, nan, nan, nan, nan, nan, nan, nan, nan, nan, nan, nan, nan, 'PV+TV', nan, nan, nan, nan, nan, 'AV+MV+PV+TV', nan, nan, nan, nan, nan, nan, nan, nan, nan, nan, nan, nan, nan, nan, nan, nan, nan, nan, nan, nan, nan, nan, nan, nan, nan, nan, nan, nan, nan, nan, nan, 'AV+MV+PV+TV', 'MV', nan, nan, nan, nan, nan, nan, nan, 'AV+MV+PV+TV', nan, nan, nan, nan, 'PV+TV', 'AV+MV+PV+TV', nan, nan, nan, 'AV+MV+PV+TV', 'TV', nan, 'PV+TV', nan, nan, nan, nan, nan, nan, 'AV+PV', 'AV+MV+PV+TV', nan, nan, nan, nan, 'TV', nan, nan, nan, 'AV+MV+PV+TV', 'AV+MV+PV+TV', nan, nan, nan, 'AV+MV+PV+TV', nan, nan, nan, nan, nan, nan, nan, nan, nan, nan, 'TV', nan, 'AV+MV+PV+TV', nan, nan, nan, nan, nan, nan, 'AV+PV', nan, nan, nan, nan, nan, nan, nan, 'PV+TV', 'AV+MV+PV+TV', nan, 'TV', nan, nan, nan, nan, nan, 'MV', nan, nan, nan, nan, nan, nan, nan, nan, nan, nan, nan, nan, nan, nan, 'AV+MV', nan, nan, nan, 'AV', 'AV+MV+PV+TV', nan, nan, nan, nan, nan, nan, nan, nan, nan, nan, nan, 'AV+MV+PV+TV', 'PV', nan, nan, 'AV+MV+PV+TV', nan, nan, nan, nan, nan, nan, 'MV+PV+TV', nan, nan, nan, nan, nan, nan, nan, nan, nan, nan, nan, nan, nan, 'PV', nan, nan, nan, nan, nan, nan, nan, nan, nan, 'AV+MV', 'AV+MV+PV+TV', nan, nan, nan, 'PV', nan, 'MV', nan, nan, nan, nan, nan, nan, nan, nan, nan, nan, nan, nan, nan, nan, nan, 'AV+MV', nan, nan, nan, nan, nan, nan, nan, nan, nan, nan, nan, nan, nan, nan, nan, nan, nan, nan, nan, nan, nan, 'MV', nan, nan, 'MV+TV', nan, nan]\n",
      "[nan, 'Holosystolic', nan, 'Holosystolic', 'Early-systolic', nan, nan, nan, 'Holosystolic', nan, nan, 'Holosystolic', 'Holosystolic', nan, nan, nan, nan, nan, nan, 'Mid-systolic', nan, 'Holosystolic', 'Holosystolic', 'Mid-systolic', nan, 'Holosystolic', 'Holosystolic', 'Holosystolic', nan, nan, nan, nan, 'Early-systolic', 'Holosystolic', nan, nan, 'Holosystolic', nan, nan, nan, nan, nan, 'Mid-systolic', 'Holosystolic', 'Holosystolic', nan, nan, nan, nan, nan, nan, nan, nan, nan, nan, 'Early-systolic', nan, 'Mid-systolic', nan, nan, nan, nan, 'Holosystolic', 'Holosystolic', 'Mid-systolic', nan, nan, nan, 'Holosystolic', 'Holosystolic', 'Holosystolic', nan, nan, 'Holosystolic', nan, nan, 'Holosystolic', nan, nan, nan, nan, nan, 'Mid-systolic', 'Holosystolic', nan, 'Early-systolic', nan, nan, nan, nan, nan, 'Mid-systolic', nan, nan, nan, nan, nan, nan, nan, nan, nan, nan, nan, 'Early-systolic', nan, nan, 'Holosystolic', nan, nan, nan, nan, nan, nan, nan, nan, nan, nan, nan, nan, nan, nan, nan, nan, nan, nan, nan, nan, nan, nan, nan, nan, nan, nan, nan, nan, 'Early-systolic', 'Holosystolic', nan, nan, nan, nan, nan, nan, nan, nan, nan, nan, nan, nan, nan, nan, nan, nan, nan, nan, nan, 'Holosystolic', nan, nan, nan, nan, nan, nan, nan, 'Early-systolic', nan, nan, 'Holosystolic', nan, nan, nan, nan, nan, nan, 'Early-systolic', nan, 'Holosystolic', nan, 'Holosystolic', nan, 'Holosystolic', nan, nan, nan, nan, nan, 'Early-systolic', 'Early-systolic', nan, nan, nan, nan, 'Early-systolic', nan, 'Holosystolic', nan, nan, nan, nan, nan, nan, nan, nan, 'Holosystolic', nan, nan, nan, nan, nan, nan, nan, 'Holosystolic', 'Early-systolic', nan, nan, nan, 'Holosystolic', nan, nan, 'Holosystolic', 'Early-systolic', nan, nan, nan, nan, nan, nan, nan, nan, nan, nan, 'Early-systolic', 'Early-systolic', 'Holosystolic', nan, nan, nan, nan, nan, nan, nan, nan, 'Holosystolic', nan, 'Early-systolic', nan, nan, 'Holosystolic', 'Early-systolic', nan, nan, nan, nan, nan, nan, nan, nan, nan, nan, nan, nan, nan, nan, nan, nan, 'Holosystolic', nan, nan, nan, 'Early-systolic', nan, nan, 'Holosystolic', 'Early-systolic', nan, nan, nan, nan, nan, nan, nan, nan, nan, nan, nan, nan, nan, nan, nan, nan, nan, nan, nan, nan, nan, nan, nan, nan, nan, nan, nan, nan, nan, nan, 'Holosystolic', nan, nan, nan, nan, nan, nan, nan, nan, nan, nan, nan, nan, nan, nan, nan, 'Holosystolic', nan, nan, nan, nan, nan, nan, nan, nan, nan, nan, nan, 'Early-systolic', nan, nan, nan, nan, nan, nan, nan, nan, nan, nan, nan, nan, nan, nan, nan, nan, nan, nan, nan, nan, nan, nan, nan, nan, nan, 'Holosystolic', 'Holosystolic', 'Holosystolic', nan, nan, nan, nan, nan, nan, 'Holosystolic', 'Holosystolic', nan, nan, nan, nan, nan, nan, nan, nan, 'Early-systolic', nan, nan, nan, nan, nan, nan, nan, nan, nan, nan, nan, 'Early-systolic', nan, nan, nan, nan, nan, 'Holosystolic', nan, nan, nan, nan, nan, nan, nan, nan, nan, nan, nan, nan, nan, nan, nan, nan, nan, nan, 'Holosystolic', nan, 'Early-systolic', 'Mid-systolic', 'Holosystolic', nan, 'Early-systolic', nan, nan, nan, 'Holosystolic', nan, nan, nan, nan, 'Holosystolic', 'Early-systolic', nan, nan, nan, 'Early-systolic', nan, nan, 'Holosystolic', nan, nan, 'Mid-systolic', 'Early-systolic', nan, nan, nan, nan, 'Early-systolic', nan, nan, 'Mid-systolic', nan, 'Early-systolic', nan, 'Holosystolic', nan, nan, nan, nan, nan, nan, nan, nan, 'Holosystolic', 'Early-systolic', nan, nan, 'Early-systolic', 'Holosystolic', nan, 'Early-systolic', nan, 'Mid-systolic', nan, nan, nan, nan, nan, nan, nan, 'Holosystolic', nan, nan, nan, nan, nan, 'Holosystolic', 'Holosystolic', nan, 'Early-systolic', nan, nan, nan, nan, nan, nan, nan, nan, nan, 'Holosystolic', nan, nan, nan, 'Holosystolic', nan, nan, nan, nan, nan, nan, nan, nan, nan, nan, nan, nan, 'Early-systolic', nan, nan, nan, nan, nan, nan, nan, nan, nan, nan, nan, 'Holosystolic', 'Mid-systolic', 'Holosystolic', nan, 'Early-systolic', nan, nan, 'Early-systolic', nan, nan, nan, nan, 'Holosystolic', nan, 'Holosystolic', nan, nan, nan, nan, nan, nan, 'Holosystolic', nan, nan, 'Mid-systolic', nan, nan, nan, 'Holosystolic', nan, 'Early-systolic', 'Holosystolic', nan, nan, nan, nan, nan, nan, nan, nan, 'Holosystolic', nan, nan, nan, 'Holosystolic', 'Holosystolic', 'Holosystolic', 'Early-systolic', nan, nan, nan, 'Early-systolic', nan, nan, nan, nan, nan, nan, nan, 'Holosystolic', nan, 'Holosystolic', nan, nan, nan, nan, nan, 'Holosystolic', nan, 'Early-systolic', nan, nan, nan, nan, nan, nan, nan, nan, nan, nan, nan, nan, 'Mid-systolic', nan, nan, nan, nan, nan, nan, nan, nan, nan, nan, nan, nan, nan, nan, nan, nan, nan, nan, 'Early-systolic', nan, nan, nan, nan, nan, 'Holosystolic', nan, nan, nan, nan, nan, nan, nan, nan, nan, nan, nan, nan, nan, nan, nan, 'Holosystolic', nan, nan, nan, nan, 'Mid-systolic', nan, nan, 'Early-systolic', 'Holosystolic', nan, nan, 'Early-systolic', nan, nan, 'Holosystolic', 'Holosystolic', 'Early-systolic', nan, nan, nan, nan, nan, nan, nan, nan, nan, nan, 'Early-systolic', nan, nan, 'Holosystolic', nan, nan, nan, nan, nan, nan, 'Early-systolic', nan, nan, nan, nan, nan, nan, nan, nan, nan, nan, nan, nan, nan, nan, nan, nan, 'Early-systolic', nan, nan, nan, nan, nan, 'Holosystolic', nan, nan, nan, nan, nan, nan, nan, nan, nan, nan, nan, nan, nan, nan, nan, nan, nan, nan, nan, nan, nan, nan, nan, nan, nan, nan, nan, nan, nan, nan, nan, 'Mid-systolic', 'Mid-systolic', nan, nan, nan, nan, nan, nan, nan, 'Holosystolic', nan, nan, nan, nan, 'Holosystolic', 'Holosystolic', nan, nan, nan, 'Holosystolic', 'Early-systolic', nan, 'Early-systolic', nan, nan, nan, nan, nan, nan, 'Early-systolic', 'Early-systolic', nan, nan, nan, nan, 'Early-systolic', nan, nan, nan, 'Early-systolic', 'Early-systolic', nan, nan, nan, 'Holosystolic', nan, nan, nan, nan, nan, nan, nan, nan, nan, nan, 'Early-systolic', nan, 'Holosystolic', nan, nan, nan, nan, nan, nan, nan, nan, nan, nan, nan, nan, nan, nan, 'Late-systolic', 'Holosystolic', nan, 'Early-systolic', nan, nan, nan, nan, nan, 'Holosystolic', nan, nan, nan, nan, nan, nan, nan, nan, nan, nan, nan, nan, nan, nan, 'Holosystolic', nan, nan, nan, 'Holosystolic', 'Holosystolic', nan, nan, nan, nan, nan, nan, nan, nan, nan, nan, nan, 'Holosystolic', 'Holosystolic', nan, nan, 'Holosystolic', nan, nan, nan, nan, nan, nan, 'Holosystolic', nan, nan, nan, nan, nan, nan, nan, nan, nan, nan, nan, nan, nan, 'Early-systolic', nan, nan, nan, nan, nan, nan, nan, nan, nan, 'Holosystolic', 'Holosystolic', nan, nan, nan, 'Early-systolic', nan, 'Holosystolic', nan, nan, nan, nan, nan, nan, nan, nan, nan, nan, nan, nan, nan, nan, nan, 'Holosystolic', nan, nan, nan, nan, nan, nan, nan, nan, nan, nan, nan, nan, nan, nan, nan, nan, nan, nan, nan, nan, nan, 'Holosystolic', nan, nan, 'Early-systolic', nan, nan]\n"
     ]
    }
   ],
   "source": [
    "patient_id = list(df[\"Patient ID\"])\n",
    "recording_loc = list(df[\"Recording locations:\"])\n",
    "murmur = list(df[\"Murmur\"])\n",
    "murmur_loc = list(df[\"Murmur locations\"])\n",
    "systolic_murmur_timing = list(df[\"Systolic murmur timing\"])\n",
    "print(patient_id)\n",
    "print(recording_loc)\n",
    "print(murmur)\n",
    "print(murmur_loc)\n",
    "print(systolic_murmur_timing)"
   ]
  },
  {
   "cell_type": "code",
   "execution_count": 4,
   "id": "df431a7c",
   "metadata": {},
   "outputs": [],
   "source": [
    "recording_loc = [x.split(\"+\") for x in recording_loc]\n",
    "\n",
    "for i in range(len(murmur_loc)):\n",
    "    if murmur_loc[i] is np.nan:\n",
    "        murmur_loc[i] = []\n",
    "    else:\n",
    "        murmur_loc[i] = murmur_loc[i].split(\"+\")"
   ]
  },
  {
   "cell_type": "code",
   "execution_count": 5,
   "id": "a58a8741",
   "metadata": {},
   "outputs": [
    {
     "name": "stdout",
     "output_type": "stream",
     "text": [
      "Error on patient ID: 85119\n",
      "Error on patient ID: 85119\n"
     ]
    }
   ],
   "source": [
    "import scipy.io.wavfile as wav\n",
    "\n",
    "\n",
    "X = []\n",
    "y = []\n",
    "\n",
    "for i in range(len(patient_id)):\n",
    "    if murmur[i] == \"Absent\":\n",
    "        for recloc in recording_loc[i]:\n",
    "            try:\n",
    "                samplerate, full_recording = wav.read(\"./the-circor-digiscope-phonocardiogram-dataset-1.0.3/training_data/\" + str(patient_id[i]) + \"_\" + str(recloc) + \".wav\")\n",
    "            except:\n",
    "                samplerate, full_recording = wav.read(\"./the-circor-digiscope-phonocardiogram-dataset-1.0.3/training_data/\" + str(patient_id[i]) + \"_\" + str(recloc) + \"_1.wav\")\n",
    "            initial = 0\n",
    "            while (initial+400) <= len(full_recording):\n",
    "                X.append(full_recording[initial:initial+400])\n",
    "                y.append([1, 0, 0, 0, 0])\n",
    "                initial += 200\n",
    "    elif murmur[i] == \"Present\":\n",
    "        for recloc in recording_loc[i]:\n",
    "            if recloc in murmur_loc[i]:\n",
    "                try:\n",
    "                    samplerate, full_recording = wav.read(\"./the-circor-digiscope-phonocardiogram-dataset-1.0.3/training_data/\" + str(patient_id[i]) + \"_\" + str(recloc) + \".wav\")\n",
    "                except:\n",
    "                    samplerate, full_recording = wav.read(\"./the-circor-digiscope-phonocardiogram-dataset-1.0.3/training_data/\" + str(patient_id[i]) + \"_\" + str(recloc) + \"_1.wav\")\n",
    "                initial = 0\n",
    "                if systolic_murmur_timing[i] == \"Holosystolic\":\n",
    "                    while (initial+400) <= len(full_recording):\n",
    "                        X.append(full_recording[initial:initial+400])\n",
    "                        y.append([0, 1, 0, 0, 0])\n",
    "                        initial += 200\n",
    "                elif systolic_murmur_timing[i] == \"Early-systolic\":\n",
    "                    while (initial+400) <= len(full_recording):\n",
    "                        X.append(full_recording[initial:initial+400])\n",
    "                        y.append([0, 0, 1, 0, 0])\n",
    "                        initial += 200\n",
    "                elif systolic_murmur_timing[i] == \"Mid-systolic\":\n",
    "                    while (initial+400) <= len(full_recording):\n",
    "                        X.append(full_recording[initial:initial+400])\n",
    "                        y.append([0, 0, 0, 1, 0])\n",
    "                        initial += 200\n",
    "                elif systolic_murmur_timing[i] == \"Late-systolic\":\n",
    "                    while (initial+400) <= len(full_recording):\n",
    "                        X.append(full_recording[initial:initial+400])\n",
    "                        y.append([0, 0, 0, 0, 1])\n",
    "                        initial += 200\n",
    "                else:\n",
    "                    print(\"Error on patient ID:\", patient_id[i])\n",
    "            else:\n",
    "                try:\n",
    "                    samplerate, full_recording = wav.read(\"./the-circor-digiscope-phonocardiogram-dataset-1.0.3/training_data/\" + str(patient_id[i]) + \"_\" + str(recloc) + \".wav\")\n",
    "                except:\n",
    "                    samplerate, full_recording = wav.read(\"./the-circor-digiscope-phonocardiogram-dataset-1.0.3/training_data/\" + str(patient_id[i]) + \"_\" + str(recloc) + \"_1.wav\")\n",
    "                initial = 0\n",
    "                while (initial+400) <= len(full_recording):\n",
    "                    X.append(full_recording[initial:initial+400])\n",
    "                    y.append([1, 0, 0, 0, 0])\n",
    "                    initial += 200"
   ]
  },
  {
   "cell_type": "code",
   "execution_count": 6,
   "id": "7f7ebe2a",
   "metadata": {},
   "outputs": [],
   "source": [
    "time_steps = 400\n",
    "feature_length = 1\n",
    "batch_size = 256"
   ]
  },
  {
   "cell_type": "code",
   "execution_count": 7,
   "id": "07b0d68f",
   "metadata": {},
   "outputs": [],
   "source": [
    "from sklearn.model_selection import train_test_split as tts\n",
    "X_train, X_test, y_train, y_test = tts(X, y, test_size = 0.25)"
   ]
  },
  {
   "cell_type": "code",
   "execution_count": 8,
   "id": "8398c293",
   "metadata": {},
   "outputs": [],
   "source": [
    "X_train_final = []\n",
    "y_train_final = []\n",
    "\n",
    "for i in range(len(X_train)):\n",
    "    if y_train[i] == [1, 0, 0, 0, 0]:\n",
    "        #randnum = random.uniform(0, 1)\n",
    "        randnum = random.random()\n",
    "        if randnum >= 0.66:\n",
    "            X_train_final.append(X_train[i])\n",
    "            y_train_final.append(y_train[i])\n",
    "    else:\n",
    "        X_train_final.append(X_train[i])\n",
    "        y_train_final.append(y_train[i])"
   ]
  },
  {
   "cell_type": "code",
   "execution_count": 9,
   "id": "a5c34df2",
   "metadata": {},
   "outputs": [
    {
     "name": "stdout",
     "output_type": "stream",
     "text": [
      "1027032 1027032\n",
      "460331 460331\n",
      "342344 342344\n"
     ]
    }
   ],
   "source": [
    "print(len(X_train), len(y_train))\n",
    "print(len(X_train_final), len(y_train_final))\n",
    "print(len(X_test), len(y_test))"
   ]
  },
  {
   "cell_type": "code",
   "execution_count": 10,
   "id": "e2deb750",
   "metadata": {},
   "outputs": [],
   "source": [
    "X_train_final = np.array(X_train_final)\n",
    "y_train_final = np.array(y_train_final)"
   ]
  },
  {
   "cell_type": "code",
   "execution_count": 11,
   "id": "99d15e6b",
   "metadata": {},
   "outputs": [],
   "source": [
    "X_train_final = X_train_final.reshape((X_train_final.shape[0], X_train_final.shape[1], feature_length))"
   ]
  },
  {
   "cell_type": "code",
   "execution_count": 12,
   "id": "cfc29ded",
   "metadata": {},
   "outputs": [
    {
     "name": "stdout",
     "output_type": "stream",
     "text": [
      "WARNING:tensorflow:From C:\\Users\\savit\\anaconda3\\Lib\\site-packages\\keras\\src\\backend.py:873: The name tf.get_default_graph is deprecated. Please use tf.compat.v1.get_default_graph instead.\n",
      "\n",
      "Model: \"sequential\"\n",
      "_________________________________________________________________\n",
      " Layer (type)                Output Shape              Param #   \n",
      "=================================================================\n",
      " gru (GRU)                   (None, 50)                7950      \n",
      "                                                                 \n",
      " dense (Dense)               (None, 18)                918       \n",
      "                                                                 \n",
      " dense_1 (Dense)             (None, 128)               2432      \n",
      "                                                                 \n",
      " dense_2 (Dense)             (None, 16)                2064      \n",
      "                                                                 \n",
      " dense_3 (Dense)             (None, 5)                 85        \n",
      "                                                                 \n",
      "=================================================================\n",
      "Total params: 13449 (52.54 KB)\n",
      "Trainable params: 13449 (52.54 KB)\n",
      "Non-trainable params: 0 (0.00 Byte)\n",
      "_________________________________________________________________\n"
     ]
    }
   ],
   "source": [
    "model = Sequential()\n",
    "model.add(GRU(50, input_shape=(time_steps, feature_length)))\n",
    "model.add(Dense(18, activation=\"sigmoid\"))\n",
    "model.add(Dense(128, activation=\"sigmoid\"))\n",
    "model.add(Dense(16, activation=\"sigmoid\"))\n",
    "model.add(Dense(5, activation=\"sigmoid\"))\n",
    "model.summary()"
   ]
  },
  {
   "cell_type": "code",
   "execution_count": 13,
   "id": "b480213c",
   "metadata": {},
   "outputs": [
    {
     "name": "stdout",
     "output_type": "stream",
     "text": [
      "WARNING:tensorflow:From C:\\Users\\savit\\anaconda3\\Lib\\site-packages\\keras\\src\\optimizers\\__init__.py:309: The name tf.train.Optimizer is deprecated. Please use tf.compat.v1.train.Optimizer instead.\n",
      "\n"
     ]
    }
   ],
   "source": [
    "model.compile(optimizer='adam', loss='mse', metrics=['accuracy'])"
   ]
  },
  {
   "cell_type": "code",
   "execution_count": 14,
   "id": "c6aa88e6",
   "metadata": {},
   "outputs": [],
   "source": [
    "X_train = np.array(X_train)\n",
    "y_train = np.array(y_train)\n",
    "X_test = np.array(X_test)\n",
    "y_test = np.array(y_test)"
   ]
  },
  {
   "cell_type": "code",
   "execution_count": 15,
   "id": "91e9a4ec",
   "metadata": {
    "scrolled": true
   },
   "outputs": [
    {
     "name": "stdout",
     "output_type": "stream",
     "text": [
      "Epoch 1/3\n",
      "WARNING:tensorflow:From C:\\Users\\savit\\anaconda3\\Lib\\site-packages\\keras\\src\\utils\\tf_utils.py:492: The name tf.ragged.RaggedTensorValue is deprecated. Please use tf.compat.v1.ragged.RaggedTensorValue instead.\n",
      "\n",
      "WARNING:tensorflow:From C:\\Users\\savit\\anaconda3\\Lib\\site-packages\\keras\\src\\engine\\base_layer_utils.py:384: The name tf.executing_eagerly_outside_functions is deprecated. Please use tf.compat.v1.executing_eagerly_outside_functions instead.\n",
      "\n",
      "1799/1799 [==============================] - 459s 254ms/step - loss: 0.1118 - accuracy: 0.6269\n",
      "Epoch 2/3\n",
      "1799/1799 [==============================] - 469s 261ms/step - loss: 0.1043 - accuracy: 0.6335\n",
      "Epoch 3/3\n",
      "1799/1799 [==============================] - 475s 264ms/step - loss: 0.1040 - accuracy: 0.6335\n"
     ]
    },
    {
     "data": {
      "text/plain": [
       "<keras.src.callbacks.History at 0x26fa9f53290>"
      ]
     },
     "execution_count": 15,
     "metadata": {},
     "output_type": "execute_result"
    }
   ],
   "source": [
    "model.fit(X_train_final, y_train_final, epochs=3, batch_size=batch_size)"
   ]
  },
  {
   "cell_type": "code",
   "execution_count": 16,
   "id": "431713ed",
   "metadata": {},
   "outputs": [
    {
     "name": "stdout",
     "output_type": "stream",
     "text": [
      "10699/10699 [==============================] - 207s 19ms/step\n"
     ]
    },
    {
     "data": {
      "text/plain": [
       "(342344, 5)"
      ]
     },
     "execution_count": 16,
     "metadata": {},
     "output_type": "execute_result"
    }
   ],
   "source": [
    "final_final_predicts = model.predict(X_test)\n",
    "final_final_predicts.shape"
   ]
  },
  {
   "cell_type": "code",
   "execution_count": 17,
   "id": "06687759",
   "metadata": {},
   "outputs": [
    {
     "name": "stdout",
     "output_type": "stream",
     "text": [
      "Test loss: 0.06454864889383316\n",
      "Accuracy: 0.8355374932289124\n"
     ]
    }
   ],
   "source": [
    "X = np.array(X)\n",
    "y = np.array(y)\n",
    "score_full = model.evaluate(X, y, batch_size=batch_size, verbose=0)\n",
    "print('Test loss:', score_full[0])\n",
    "print('Accuracy:', score_full[1])"
   ]
  },
  {
   "cell_type": "code",
   "execution_count": 18,
   "id": "12bbd064",
   "metadata": {},
   "outputs": [
    {
     "name": "stdout",
     "output_type": "stream",
     "text": [
      "Test loss: 0.0646577924489975\n",
      "Accuracy: 0.8349584341049194\n"
     ]
    }
   ],
   "source": [
    "score = model.evaluate(X_test, y_test, batch_size=batch_size, verbose=0)\n",
    "print('Test loss:', score[0])\n",
    "print('Accuracy:', score[1])"
   ]
  },
  {
   "cell_type": "code",
   "execution_count": 19,
   "id": "fd58108f",
   "metadata": {
    "scrolled": true
   },
   "outputs": [
    {
     "data": {
      "text/plain": [
       "array([[0.72898793, 0.14144437, 0.11101988, 0.02363273, 0.00610171],\n",
       "       [0.66272247, 0.1864404 , 0.10609135, 0.03050621, 0.00533607],\n",
       "       [0.64003193, 0.20315707, 0.10525652, 0.03332314, 0.00512367],\n",
       "       ...,\n",
       "       [0.6782469 , 0.17556271, 0.10711722, 0.02879383, 0.00549502],\n",
       "       [0.73241276, 0.13931067, 0.11155326, 0.02340248, 0.00616419],\n",
       "       [0.6288122 , 0.21232495, 0.10496943, 0.0350056 , 0.00508214]],\n",
       "      dtype=float32)"
      ]
     },
     "execution_count": 19,
     "metadata": {},
     "output_type": "execute_result"
    }
   ],
   "source": [
    "final_final_predicts"
   ]
  },
  {
   "cell_type": "code",
   "execution_count": 20,
   "id": "722b8319",
   "metadata": {},
   "outputs": [],
   "source": [
    "for i in range(len(final_final_predicts)):\n",
    "    if max(final_final_predicts[i]) != final_final_predicts[i][0]:\n",
    "        print(i, final_final_predicts[i])"
   ]
  },
  {
   "cell_type": "code",
   "execution_count": 21,
   "id": "5c027a44",
   "metadata": {},
   "outputs": [
    {
     "name": "stdout",
     "output_type": "stream",
     "text": [
      "42793/42793 [==============================] - 813s 19ms/step\n"
     ]
    },
    {
     "data": {
      "text/plain": [
       "array([[0.7445877 , 0.13175294, 0.11332737, 0.0224711 , 0.0063703 ],\n",
       "       [0.70616823, 0.15604658, 0.1089135 , 0.02573524, 0.00576957],\n",
       "       [0.6736739 , 0.17859562, 0.1066943 , 0.02919799, 0.00542801],\n",
       "       ...,\n",
       "       [0.47732556, 0.35302964, 0.09785189, 0.06353831, 0.00474196],\n",
       "       [0.6160623 , 0.22269498, 0.1043358 , 0.03683105, 0.00502543],\n",
       "       [0.6047267 , 0.23196076, 0.10399996, 0.03850988, 0.00495489]],\n",
       "      dtype=float32)"
      ]
     },
     "execution_count": 21,
     "metadata": {},
     "output_type": "execute_result"
    }
   ],
   "source": [
    "full_predicts = model.predict(X)\n",
    "full_predicts"
   ]
  },
  {
   "cell_type": "code",
   "execution_count": 22,
   "id": "9e48cb0e",
   "metadata": {},
   "outputs": [],
   "source": [
    "for i in range(len(full_predicts)):\n",
    "    if max(full_predicts[i]) != full_predicts[i][0]:\n",
    "        print(i, full_predicts[i])"
   ]
  },
  {
   "cell_type": "code",
   "execution_count": 30,
   "id": "637b4f5b",
   "metadata": {},
   "outputs": [
    {
     "data": {
      "text/plain": [
       "array([0, 0, 0, ..., 0, 0, 0], dtype=int64)"
      ]
     },
     "execution_count": 30,
     "metadata": {},
     "output_type": "execute_result"
    }
   ],
   "source": [
    "np.argmax(final_final_predicts, axis=1)"
   ]
  },
  {
   "cell_type": "code",
   "execution_count": 32,
   "id": "0960ca4e",
   "metadata": {},
   "outputs": [
    {
     "name": "stdout",
     "output_type": "stream",
     "text": [
      "              precision    recall  f1-score   support\n",
      "\n",
      "           0       1.00      0.83      0.91    342344\n",
      "           1       0.00      0.00      0.00         0\n",
      "           2       0.00      0.00      0.00         0\n",
      "           3       0.00      0.00      0.00         0\n",
      "           4       0.00      0.00      0.00         0\n",
      "\n",
      "    accuracy                           0.83    342344\n",
      "   macro avg       0.20      0.17      0.18    342344\n",
      "weighted avg       1.00      0.83      0.91    342344\n",
      "\n"
     ]
    },
    {
     "name": "stderr",
     "output_type": "stream",
     "text": [
      "C:\\Users\\savit\\anaconda3\\Lib\\site-packages\\sklearn\\metrics\\_classification.py:1344: UndefinedMetricWarning: Recall and F-score are ill-defined and being set to 0.0 in labels with no true samples. Use `zero_division` parameter to control this behavior.\n",
      "  _warn_prf(average, modifier, msg_start, len(result))\n",
      "C:\\Users\\savit\\anaconda3\\Lib\\site-packages\\sklearn\\metrics\\_classification.py:1344: UndefinedMetricWarning: Recall and F-score are ill-defined and being set to 0.0 in labels with no true samples. Use `zero_division` parameter to control this behavior.\n",
      "  _warn_prf(average, modifier, msg_start, len(result))\n",
      "C:\\Users\\savit\\anaconda3\\Lib\\site-packages\\sklearn\\metrics\\_classification.py:1344: UndefinedMetricWarning: Recall and F-score are ill-defined and being set to 0.0 in labels with no true samples. Use `zero_division` parameter to control this behavior.\n",
      "  _warn_prf(average, modifier, msg_start, len(result))\n"
     ]
    }
   ],
   "source": [
    "#%% Confusion Matrix and Classification Report\n",
    "from sklearn.metrics import confusion_matrix, classification_report \n",
    "\n",
    "# Classification Report\n",
    "model_report = classification_report(np.argmax(final_final_predicts, axis=1), np.argmax(y_test, axis=1))\n",
    "print(model_report)"
   ]
  },
  {
   "cell_type": "code",
   "execution_count": null,
   "id": "5ee118a9",
   "metadata": {},
   "outputs": [],
   "source": [
    "model_conf = confusion_matrix(np.argmax(y_test), axis=1), final_final_predicts)\n",
    "print(model_conf)"
   ]
  },
  {
   "cell_type": "code",
   "execution_count": null,
   "id": "2a15d8c1",
   "metadata": {},
   "outputs": [],
   "source": [
    "#%% ROC-AUC Curve\n",
    "\n",
    "y_score = model.predict_proba(X_test)\n",
    "\n",
    "from scipy import interp\n",
    "import matplotlib.pyplot as plt\n",
    "from sklearn.metrics import roc_curve, auc\n",
    "# Learn to predict each class against the other\n",
    "\n",
    "\n",
    "n_classes = 5 # number of class\n",
    "\n",
    "\n",
    "\n",
    "\n",
    "# Compute ROC curve and ROC area for each class\n",
    "fpr = dict()\n",
    "tpr = dict()\n",
    "roc_auc = dict()\n",
    "for i in range(n_classes):\n",
    "    fpr[i], tpr[i], _ = roc_curve(y_test[:, i], y_score[:, i])\n",
    "    roc_auc[i] = auc(fpr[i], tpr[i])\n",
    "\n",
    "# Compute micro-average ROC curve and ROC area\n",
    "fpr[\"micro\"], tpr[\"micro\"], _ = roc_curve(y_test.ravel(), y_score.ravel())\n",
    "roc_auc[\"micro\"] = auc(fpr[\"micro\"], tpr[\"micro\"])"
   ]
  },
  {
   "cell_type": "code",
   "execution_count": null,
   "id": "59d703c9",
   "metadata": {},
   "outputs": [],
   "source": [
    "# Process of plotting roc-auc curve belonging to all classes.\n",
    "\n",
    "from itertools import cycle\n",
    "\n",
    "# First aggregate all false positive rates\n",
    "all_fpr = np.unique(np.concatenate([fpr[i] for i in range(n_classes)]))\n",
    "\n",
    "# Then interpolate all ROC curves at this points\n",
    "mean_tpr = np.zeros_like(all_fpr)\n",
    "for i in range(n_classes):\n",
    "    mean_tpr += interp(all_fpr, fpr[i], tpr[i])\n",
    "\n",
    "# Finally average it and compute AUC\n",
    "mean_tpr /= n_classes\n",
    "\n",
    "fpr[\"macro\"] = all_fpr\n",
    "tpr[\"macro\"] = mean_tpr\n",
    "roc_auc[\"macro\"] = auc(fpr[\"macro\"], tpr[\"macro\"])\n",
    "\n",
    "# Plot all ROC curves\n",
    "plt.figure()\n",
    "plt.plot(fpr[\"micro\"], tpr[\"micro\"],\n",
    "         label='micro-average ROC curve (area = {0:0.2f})'\n",
    "               ''.format(roc_auc[\"micro\"]),\n",
    "         color='deeppink', linestyle=':', linewidth=4)\n",
    "\n",
    "plt.plot(fpr[\"macro\"], tpr[\"macro\"],\n",
    "         label='macro-average ROC curve (area = {0:0.2f})'\n",
    "               ''.format(roc_auc[\"macro\"]),\n",
    "         color='navy', linestyle=':', linewidth=4)\n",
    "\n",
    "colors = cycle(['aqua', 'darkorange', 'cornflowerblue'])\n",
    "for i, color in zip(range(n_classes), colors):\n",
    "    plt.plot(fpr[i], tpr[i], color=color, lw=lw,\n",
    "             label='ROC curve of class {0} (area = {1:0.2f})'\n",
    "             ''.format(i, roc_auc[i]))\n",
    "\n",
    "plt.plot([0, 1], [0, 1], 'k--', lw=lw)\n",
    "plt.xlim([0.0, 1.0])\n",
    "plt.ylim([0.0, 1.05])\n",
    "plt.xlabel('False Positive Rate')\n",
    "plt.ylabel('True Positive Rate')\n",
    "plt.title('Multi-Class Systolic Murmur Timing LSTM')\n",
    "plt.legend(loc=\"lower right\")\n",
    "plt.show()"
   ]
  },
  {
   "cell_type": "code",
   "execution_count": null,
   "id": "a834dfa2",
   "metadata": {},
   "outputs": [],
   "source": []
  }
 ],
 "metadata": {
  "kernelspec": {
   "display_name": "Python 3 (ipykernel)",
   "language": "python",
   "name": "python3"
  },
  "language_info": {
   "codemirror_mode": {
    "name": "ipython",
    "version": 3
   },
   "file_extension": ".py",
   "mimetype": "text/x-python",
   "name": "python",
   "nbconvert_exporter": "python",
   "pygments_lexer": "ipython3",
   "version": "3.11.5"
  }
 },
 "nbformat": 4,
 "nbformat_minor": 5
}
