{
 "cells": [
  {
   "cell_type": "code",
   "execution_count": 1,
   "id": "d8588fce",
   "metadata": {
    "scrolled": true
   },
   "outputs": [
    {
     "name": "stdout",
     "output_type": "stream",
     "text": [
      "WARNING:tensorflow:From C:\\Users\\savit\\anaconda3\\Lib\\site-packages\\keras\\src\\losses.py:2976: The name tf.losses.sparse_softmax_cross_entropy is deprecated. Please use tf.compat.v1.losses.sparse_softmax_cross_entropy instead.\n",
      "\n"
     ]
    }
   ],
   "source": [
    "from keras.models import Sequential\n",
    "from keras.layers import LSTM, Dense\n",
    "import numpy as np\n",
    "import random"
   ]
  },
  {
   "cell_type": "code",
   "execution_count": 2,
   "id": "82683317",
   "metadata": {},
   "outputs": [],
   "source": [
    "import pandas as pd\n",
    "\n",
    "df = pd.read_csv(\"the-circor-digiscope-phonocardiogram-dataset-1.0.3/training_data.csv\")"
   ]
  },
  {
   "cell_type": "code",
   "execution_count": 3,
   "id": "8c1ecbed",
   "metadata": {},
   "outputs": [
    {
     "name": "stdout",
     "output_type": "stream",
     "text": [
      "[2530, 9979, 9983, 13918, 14241, 14998, 23625, 24160, 29045, 29378, 31737, 33151, 36327, 38337, 39043, 39403, 39456, 40058, 40798, 40840, 43852, 44514, 45843, 46065, 46532, 46579, 46778, 47002, 49558, 49561, 49562, 49568, 49572, 49574, 49577, 49585, 49595, 49598, 49607, 49610, 49618, 49622, 49627, 49628, 49630, 49631, 49638, 49641, 49653, 49659, 49661, 49669, 49678, 49683, 49687, 49691, 49704, 49712, 49719, 49729, 49735, 49745, 49748, 49751, 49754, 49761, 49776, 49808, 49821, 49823, 49824, 49829, 49832, 49838, 49839, 49842, 49850, 49853, 49854, 49873, 49876, 49896, 49897, 49900, 49930, 49931, 49946, 49952, 49959, 49960, 49963, 49966, 49968, 49969, 49970, 49974, 49978, 49979, 49980, 49983, 49986, 49987, 49988, 49989, 49990, 49993, 49994, 49995, 49998, 49999, 50001, 50004, 50005, 50006, 50007, 50008, 50009, 50012, 50014, 50015, 50017, 50018, 50023, 50026, 50027, 50029, 50030, 50032, 50034, 50037, 50043, 50047, 50048, 50049, 50053, 50054, 50056, 50057, 50061, 50066, 50067, 50070, 50072, 50074, 50075, 50076, 50077, 50078, 50079, 50080, 50085, 50086, 50089, 50092, 50094, 50096, 50099, 50100, 50103, 50104, 50105, 50109, 50111, 50113, 50115, 50116, 50117, 50118, 50119, 50121, 50122, 50123, 50125, 50126, 50127, 50128, 50129, 50133, 50136, 50137, 50138, 50141, 50142, 50143, 50145, 50146, 50149, 50150, 50151, 50152, 50153, 50155, 50159, 50160, 50161, 50164, 50165, 50166, 50168, 50174, 50204, 50206, 50207, 50209, 50210, 50213, 50214, 50216, 50217, 50218, 50219, 50220, 50221, 50222, 50225, 50228, 50229, 50230, 50231, 50233, 50238, 50239, 50241, 50244, 50247, 50248, 50249, 50250, 50251, 50254, 50255, 50256, 50258, 50260, 50261, 50263, 50264, 50271, 50272, 50273, 50275, 50276, 50277, 50278, 50280, 50281, 50284, 50285, 50289, 50291, 50295, 50296, 50297, 50298, 50299, 50300, 50303, 50304, 50306, 50311, 50312, 50314, 50316, 50317, 50318, 50319, 50321, 50323, 50325, 50326, 50327, 50330, 50331, 50332, 50334, 50335, 50336, 50337, 50339, 50341, 50342, 50343, 50345, 50348, 50349, 50350, 50352, 50354, 50359, 50375, 50379, 50384, 50385, 50386, 50388, 50391, 50393, 50619, 50620, 50621, 50624, 50625, 50626, 50628, 50629, 50631, 50635, 50636, 50639, 50640, 50641, 50643, 50644, 50645, 50646, 50647, 50649, 50652, 50654, 50655, 50656, 50657, 50658, 50659, 50661, 50664, 50665, 50667, 50668, 50669, 50671, 50673, 50676, 50677, 50678, 50680, 50685, 50687, 50688, 50689, 50690, 50691, 50693, 50699, 50704, 50707, 50708, 50713, 50715, 50720, 50721, 50722, 50723, 50725, 50727, 50729, 50731, 50732, 50734, 50735, 50736, 50737, 50738, 50739, 50740, 50742, 50743, 50744, 50746, 50747, 50748, 50749, 50751, 50752, 50753, 50754, 50756, 50757, 50758, 50762, 50763, 50766, 50768, 50770, 50771, 50772, 50773, 50774, 50776, 50781, 50782, 50784, 50787, 50788, 50789, 50790, 50793, 50795, 50796, 50797, 50798, 50800, 50802, 50803, 50805, 50807, 50812, 50815, 50818, 50819, 50820, 50822, 50826, 50829, 51064, 51331, 55945, 57700, 57706, 59536, 61117, 61610, 63456, 63581, 64256, 64715, 68175, 68182, 68186, 68194, 68204, 68213, 68219, 68222, 68255, 68260, 68269, 68279, 68292, 68298, 68303, 68306, 68316, 68318, 68327, 68330, 68337, 68347, 68359, 68363, 68368, 68374, 68377, 68379, 68394, 68395, 68404, 68406, 68407, 68412, 68413, 68419, 68423, 68425, 68427, 68431, 68432, 68435, 68436, 68444, 68449, 68456, 68460, 68465, 68470, 68477, 68478, 68482, 68484, 68487, 68498, 68504, 68532, 68545, 68556, 68560, 68567, 68576, 68582, 68624, 68632, 68646, 68659, 68660, 68682, 68698, 68702, 68705, 68708, 68711, 68737, 68738, 68740, 68741, 68752, 68755, 68756, 68757, 68796, 68827, 68831, 68849, 68857, 68861, 68864, 68874, 68886, 68887, 68888, 68895, 68901, 68908, 68909, 68952, 69060, 69066, 69067, 69068, 69079, 69093, 69095, 69096, 69106, 69112, 69120, 69125, 69129, 69141, 69144, 69147, 69152, 69155, 69159, 69161, 69174, 69176, 69188, 70280, 72283, 72288, 73316, 73497, 74417, 74420, 75440, 76240, 76758, 77373, 78280, 78582, 78592, 80348, 81035, 81297, 81501, 81638, 82275, 83094, 84687, 84688, 84689, 84690, 84692, 84693, 84695, 84696, 84697, 84699, 84702, 84704, 84706, 84708, 84709, 84710, 84711, 84713, 84714, 84716, 84718, 84720, 84721, 84724, 84725, 84727, 84730, 84731, 84732, 84733, 84734, 84735, 84736, 84738, 84740, 84742, 84743, 84746, 84747, 84749, 84750, 84751, 84753, 84754, 84755, 84758, 84760, 84761, 84762, 84764, 84765, 84768, 84769, 84775, 84776, 84778, 84779, 84780, 84784, 84785, 84786, 84790, 84793, 84796, 84798, 84799, 84802, 84803, 84804, 84805, 84807, 84808, 84809, 84813, 84814, 84815, 84822, 84823, 84824, 84826, 84829, 84831, 84834, 84835, 84837, 84838, 84839, 84840, 84851, 84852, 84853, 84854, 84855, 84856, 84857, 84859, 84861, 84863, 84864, 84865, 84866, 84868, 84870, 84874, 84875, 84876, 84877, 84878, 84879, 84881, 84882, 84883, 84884, 84885, 84886, 84887, 84890, 84892, 84893, 84894, 84896, 84900, 84912, 84917, 84918, 84919, 84920, 84921, 84922, 84923, 84928, 84930, 84931, 84933, 84934, 84935, 84936, 84937, 84939, 84942, 84945, 84946, 84947, 84949, 84950, 84952, 84957, 84960, 84961, 84962, 84965, 84966, 84969, 84970, 84971, 84973, 84974, 84976, 84977, 84978, 84982, 84983, 84984, 84985, 84986, 84987, 84988, 84990, 84991, 84992, 84993, 84994, 84995, 84996, 85000, 85002, 85004, 85010, 85011, 85012, 85018, 85019, 85020, 85023, 85024, 85026, 85027, 85028, 85029, 85030, 85031, 85033, 85034, 85035, 85036, 85037, 85038, 85042, 85043, 85044, 85046, 85048, 85052, 85053, 85055, 85057, 85062, 85063, 85064, 85066, 85069, 85075, 85076, 85077, 85079, 85080, 85081, 85084, 85086, 85087, 85090, 85091, 85093, 85094, 85096, 85099, 85100, 85102, 85103, 85105, 85108, 85109, 85110, 85112, 85113, 85114, 85115, 85116, 85118, 85119, 85121, 85122, 85123, 85124, 85127, 85128, 85131, 85132, 85133, 85134, 85135, 85136, 85139, 85140, 85143, 85144, 85145, 85147, 85148, 85150, 85151, 85152, 85153, 85154, 85155, 85157, 85159, 85161, 85162, 85163, 85164, 85165, 85166, 85167, 85168, 85169, 85172, 85174, 85175, 85176, 85180, 85181, 85182, 85184, 85186, 85192, 85196, 85197, 85198, 85199, 85202, 85203, 85207, 85210, 85212, 85213, 85214, 85216, 85217, 85219, 85222, 85225, 85226, 85227, 85229, 85230, 85234, 85235, 85236, 85239, 85240, 85241, 85242, 85243, 85244, 85245, 85246, 85247, 85249, 85250, 85252, 85253, 85258, 85259, 85261, 85262, 85264, 85265, 85269, 85270, 85276, 85277, 85278, 85279, 85282, 85285, 85286, 85287, 85288, 85293, 85294, 85296, 85299, 85300, 85301, 85305, 85306, 85308, 85312, 85313, 85315, 85316, 85317, 85319, 85321, 85322, 85323, 85326, 85327, 85328, 85329, 85331, 85332, 85334, 85335, 85336, 85337, 85338, 85339, 85340, 85341, 85343, 85345, 85349]\n",
      "['AV+PV+TV+MV', 'AV+PV+TV+MV', 'AV+PV+TV+MV', 'AV+PV+TV+MV', 'AV+PV+TV+MV', 'AV+PV+TV+MV', 'AV+PV+TV+MV', 'AV+PV+TV+MV', 'AV+PV+TV+MV', 'AV+MV', 'AV+PV+TV+MV', 'AV+PV+TV+MV', 'AV+PV+TV+MV', 'AV+MV', 'AV+PV+TV+MV', 'AV+PV+TV+MV', 'PV+TV+MV', 'AV+PV+TV+MV', 'AV+PV+TV+MV', 'AV+PV+TV+MV', 'AV+PV+TV+MV', 'AV+PV+TV+MV', 'AV+PV+TV+MV', 'AV+PV+TV+MV', 'AV', 'AV+PV+TV+MV', 'MV', 'AV+MV', 'AV+MV', 'AV+PV+TV+MV', 'AV+PV+TV+MV', 'AV+PV+TV+MV', 'PV+TV+MV', 'AV+PV+TV+MV', 'AV+PV+TV+MV', 'AV+PV+TV+MV', 'AV+MV', 'AV+MV', 'MV', 'AV+PV+TV+MV', 'AV+MV', 'AV+MV', 'AV+PV+TV+MV', 'AV+PV+TV+MV', 'AV+PV+TV+MV', 'AV+MV', 'AV+PV+MV', 'AV+PV+TV+MV', 'AV+PV+TV+MV', 'AV+PV+TV+MV', 'AV+MV', 'PV+MV', 'AV+PV+TV+MV', 'AV+PV+TV+MV', 'AV+PV+TV+MV', 'AV+PV+TV+MV', 'AV+MV', 'AV+PV+TV+MV', 'AV+PV+TV+MV', 'AV+PV+TV+MV', 'PV+TV+MV', 'AV+PV+TV+MV', 'AV+AV+PV+PV+TV+MV', 'AV+PV+TV+MV', 'AV+PV+TV+MV', 'AV+MV', 'AV+MV', 'PV+TV+MV', 'AV+PV+TV+MV', 'PV+TV+MV', 'AV+PV+MV', 'AV+PV+TV+MV', 'AV+MV', 'MV', 'AV+PV+TV+MV', 'AV+PV+TV+MV', 'AV+MV', 'AV+PV+TV+MV', 'AV+PV+TV+MV', 'AV+MV', 'AV+PV+TV+MV', 'AV+PV+TV+MV', 'AV+PV+TV+MV', 'AV+MV', 'AV+PV+TV+MV', 'AV+PV+TV', 'PV+TV+MV', 'AV+PV+TV+MV+MV', 'AV+MV', 'AV+PV+TV+MV', 'AV+PV+TV+MV', 'MV', 'PV+TV+MV', 'MV', 'AV+MV', 'AV+PV+TV+MV', 'PV', 'MV', 'AV+PV+TV+MV', 'AV+PV+TV+MV', 'AV+MV', 'AV+MV', 'AV+PV+TV+MV', 'PV+MV', 'AV+PV+TV+MV', 'AV+PV+TV+MV', 'AV+PV+TV+MV', 'AV+PV+TV+MV', 'PV+TV+MV', 'AV+PV+TV+MV', 'AV+PV+TV+MV', 'PV+TV+MV', 'MV', 'AV+MV', 'AV+PV+TV+MV', 'AV+PV+TV+MV', 'AV', 'MV', 'AV+PV+TV+MV', 'AV+PV+TV+MV', 'AV+PV+TV+MV', 'AV+MV', 'AV+PV+TV+MV', 'AV+MV', 'AV+MV', 'AV+PV+TV+MV', 'PV+TV+MV', 'PV+TV+TV', 'AV+MV', 'AV+MV', 'AV+PV+TV', 'PV+TV+MV', 'PV+TV+MV', 'AV+PV+TV+MV', 'AV+PV+TV', 'AV+PV+TV+MV', 'AV+PV+TV+MV', 'PV+TV+MV', 'AV+PV+TV+MV', 'AV+MV', 'PV+TV+MV', 'AV+PV+TV+MV', 'PV+TV+MV', 'AV+PV+TV+MV', 'AV+MV', 'AV+PV+TV+MV', 'MV', 'AV+PV+TV+MV', 'AV+PV+TV', 'AV+PV+TV+MV', 'AV+PV+TV+MV', 'PV+TV+MV', 'AV+PV+TV', 'AV+PV+TV+MV', 'PV+TV+MV', 'AV+PV+TV+MV', 'PV+TV+MV', 'AV+MV', 'AV+PV+TV+MV', 'AV+PV+TV+MV', 'PV+TV+MV', 'AV+PV+TV+MV', 'AV+PV+TV+MV', 'AV+PV+TV+MV', 'AV+PV+PV+TV+TV+MV', 'AV+PV+TV+MV', 'PV+TV+MV', 'PV+TV+MV', 'PV', 'PV+TV', 'PV+TV+MV', 'MV', 'PV+TV+MV', 'AV+PV+TV+MV', 'AV+PV+TV+MV', 'AV+PV+TV+MV', 'AV+PV+TV+MV', 'MV', 'AV+MV', 'PV+TV+MV', 'AV+MV', 'AV', 'AV+MV', 'PV+TV', 'MV', 'MV', 'PV+MV', 'AV+PV+TV+MV', 'PV', 'AV+MV', 'AV+MV', 'AV+PV+TV', 'PV+TV+MV', 'PV+TV+MV', 'PV+TV+MV', 'PV+TV+MV', 'AV+PV+MV', 'MV', 'PV+TV+MV', 'AV+PV+TV+MV', 'AV+MV+MV', 'PV+TV+MV', 'AV+MV', 'AV+PV+TV+MV', 'AV+PV+TV+MV+MV', 'AV+PV+TV+MV', 'AV+MV', 'AV+PV+MV+Phc+Phc', 'AV+PV', 'AV+PV+TV+MV', 'AV+PV+MV', 'AV+MV', 'AV+MV', 'PV+TV', 'AV+PV+TV+MV', 'AV+MV', 'AV+PV+TV+MV', 'AV+PV+TV+MV', 'AV+PV+TV+MV', 'AV+PV+TV+MV', 'AV+PV+TV+MV', 'AV+PV+TV+MV', 'MV', 'AV+PV+TV+MV', 'AV+PV+MV', 'TV', 'AV+AV+MV', 'AV+PV+TV+TV+MV', 'AV+MV', 'AV+PV+TV+MV', 'AV+MV', 'AV+PV+TV+MV', 'PV+TV+MV', 'AV+PV+TV+MV', 'AV+PV+TV+MV', 'AV+PV+TV+TV+MV', 'AV+MV', 'AV+PV+TV+MV', 'AV+PV+TV+MV', 'AV+PV+TV+MV', 'AV+PV+TV+MV', 'AV+PV+TV+MV', 'AV+PV+TV+MV', 'AV+PV+TV+MV', 'AV+PV+TV', 'PV+TV+MV', 'AV+PV+TV+MV', 'MV', 'AV+PV+TV+MV', 'AV+PV+MV', 'AV+PV+TV+MV', 'AV+PV+TV+MV', 'AV+PV+TV+MV', 'PV+TV+MV', 'AV+PV+TV+MV', 'AV+MV', 'AV+PV+MV', 'PV', 'AV+PV+TV+MV', 'PV+TV+MV', 'AV+PV+TV+MV', 'AV+PV+TV+MV', 'AV+MV', 'AV+PV+TV', 'AV+PV+TV+MV', 'AV+PV+TV+MV', 'AV+AV+MV+MV', 'AV+PV+TV+MV', 'AV+PV+TV+MV', 'AV+PV+TV+MV', 'AV+PV+TV+MV', 'AV+MV', 'AV+PV+TV+MV', 'AV+MV', 'AV+PV+TV+MV', 'AV+MV', 'PV+TV+MV', 'PV+TV+MV', 'AV+PV+TV+MV', 'AV+MV', 'AV+MV', 'AV+PV+TV+MV', 'PV+TV+MV', 'AV+AV+PV+TV+MV', 'AV+PV+TV+MV', 'AV+PV+TV+MV', 'AV+PV+TV', 'AV+PV+TV+MV', 'AV+PV+TV+MV', 'AV+MV', 'AV+PV+TV+MV', 'AV+PV+TV+MV', 'AV+PV+TV+MV', 'AV+PV+TV+MV', 'AV+PV+TV+MV', 'PV+TV+MV', 'AV+PV+TV+MV', 'AV+PV+TV+MV', 'PV+TV', 'PV', 'AV+PV+TV+MV', 'AV+MV', 'AV+MV', 'AV+MV', 'AV+MV', 'AV+MV', 'AV+PV+TV+MV', 'AV+MV', 'PV+TV', 'MV', 'PV+TV+MV', 'AV+MV', 'AV+MV', 'AV+PV+TV+MV', 'AV+MV', 'AV+PV+TV+MV', 'AV+PV+TV+MV', 'AV+MV', 'AV+PV+TV', 'AV+MV', 'AV+PV+TV+TV+MV', 'AV+PV+TV+MV', 'AV+PV+TV+MV', 'AV+PV+TV+MV', 'AV+MV', 'AV+PV', 'PV+TV', 'AV+PV+TV+MV', 'AV+PV+TV+MV', 'AV+PV+TV+MV', 'MV', 'AV+PV+TV+MV', 'AV+PV+TV+MV', 'AV+PV', 'PV+TV+MV', 'AV+PV+TV+MV', 'AV+TV+MV', 'AV+PV+TV+MV', 'AV+PV+TV+MV', 'AV+PV+TV+MV', 'AV+PV+TV+MV+MV', 'AV+PV+TV+MV', 'AV+PV+TV+MV', 'AV+PV+TV+MV', 'AV+MV', 'AV+TV+MV', 'AV+PV+TV+MV', 'AV+PV+TV+MV', 'AV+PV+TV+MV', 'AV+MV', 'AV+PV+TV+MV', 'PV+TV+MV', 'AV+PV+TV+MV', 'AV+PV+TV+MV', 'AV+MV', 'AV+MV', 'PV+TV+MV', 'AV+PV+TV+MV', 'AV+PV+TV+MV+Phc', 'AV+PV+TV+MV', 'AV+PV+TV', 'PV+TV+MV', 'AV+PV+TV+MV', 'AV+MV', 'AV+PV+TV+MV', 'AV+PV+TV+MV', 'AV+AV+AV+MV', 'AV+PV+TV+MV', 'AV+PV+TV+MV', 'AV+PV+TV+MV', 'AV+MV', 'AV+PV+TV+MV', 'AV+PV+TV+MV', 'AV+PV+TV+MV', 'AV+PV+TV+MV', 'AV+PV+TV+MV', 'AV+PV+TV+MV', 'AV+PV+TV+MV', 'AV+PV+TV+MV', 'AV+PV+TV+MV', 'AV+PV+TV+MV', 'AV+PV+TV+MV', 'AV', 'AV+PV+TV+MV', 'AV+PV+TV+MV', 'AV+PV+MV', 'AV+PV+TV+MV', 'AV+TV+MV', 'PV', 'AV+PV+TV+MV', 'AV+AV+PV+TV+MV+MV', 'AV+PV+TV+MV', 'MV', 'AV+PV+TV+MV', 'AV+PV+TV+MV', 'AV+MV', 'PV+TV+MV', 'AV+MV', 'PV+TV+MV', 'AV+PV+TV+MV', 'AV+PV+TV+MV', 'AV+PV+TV+MV', 'AV+PV+TV+TV+MV', 'AV+PV+TV+MV', 'PV+TV+MV', 'AV+PV+TV+MV', 'AV+PV+TV+MV', 'AV+PV+TV+MV', 'AV+PV+TV+MV', 'AV+PV+TV+MV', 'AV+PV+TV+MV', 'AV+PV+TV+MV', 'AV+PV+TV+MV', 'AV+PV+MV', 'MV', 'AV+PV+TV+MV', 'AV+PV+TV+MV', 'PV+TV+MV', 'AV+PV+TV+MV', 'AV+MV', 'AV+PV+TV+MV', 'AV+PV+TV+MV', 'AV+PV+TV+MV', 'AV+PV+TV+MV', 'PV+TV+MV', 'PV+TV+MV', 'AV+PV+TV+MV', 'AV+PV+TV+MV', 'AV+PV+TV+MV', 'AV+PV+TV+MV', 'AV+PV+TV+MV', 'AV+PV+TV+MV', 'AV+PV+TV+MV', 'AV+PV+TV+MV', 'AV+PV+TV+MV', 'AV+PV+TV+MV', 'PV+TV', 'PV+TV+MV', 'AV+PV+TV+MV', 'AV+MV', 'AV+PV+TV+MV', 'AV+PV+TV+MV', 'AV+PV+TV+MV', 'AV+PV+TV+MV', 'AV+PV+TV+MV', 'TV', 'AV+PV+TV+MV', 'AV+PV+TV+MV', 'AV+PV+TV+MV', 'AV+MV', 'AV+PV+TV+MV', 'AV+MV', 'AV+PV+TV+MV', 'AV+PV+TV+MV', 'PV+MV', 'PV+TV', 'PV+TV+MV', 'AV+PV+TV+MV', 'AV+PV+TV+MV', 'AV+PV+TV+MV', 'AV+PV+TV+MV', 'AV+PV+TV+MV', 'AV+PV+TV+MV', 'AV+PV+TV+MV', 'AV+PV+TV+MV', 'AV+PV+TV+MV', 'AV+PV+TV+MV', 'AV+MV', 'AV+PV+TV+MV', 'AV+PV+TV+MV', 'AV+PV+TV', 'AV+PV+TV+MV', 'AV+PV+TV+MV', 'AV+PV+TV+MV', 'TV+MV', 'AV+PV+TV+MV', 'AV+PV+TV+MV', 'AV+PV+TV+MV', 'AV+PV+TV+MV', 'AV+PV+TV+MV', 'AV+PV+TV+MV', 'AV+PV+TV+MV', 'AV+PV+TV+MV', 'AV+PV+TV+MV', 'AV+MV', 'AV+PV+TV+MV', 'AV+PV+TV+MV', 'AV+MV', 'AV+PV+TV+MV', 'AV+PV+TV+MV', 'AV+PV+TV', 'AV+PV+TV+MV', 'AV+PV+TV+MV', 'AV+PV+TV+MV', 'AV+PV+TV+MV', 'AV+PV+TV+MV', 'AV+PV+TV+MV', 'AV+PV+TV+MV', 'AV+PV+TV+MV', 'AV+PV+TV+MV', 'AV+PV+TV+MV', 'AV+PV+TV+MV', 'AV+PV+TV+MV', 'AV+PV+TV+MV', 'AV+PV+TV+MV', 'AV+PV+TV+MV', 'PV+TV+MV', 'AV+PV+TV', 'AV+PV+TV+MV', 'AV+PV+TV', 'AV+PV+TV+MV', 'AV+PV+TV+MV', 'MV', 'AV+PV+TV+MV', 'PV+TV+MV', 'AV+PV+TV+MV', 'AV+PV+TV+MV', 'AV+TV+MV', 'AV+PV+TV+MV', 'AV+PV+TV+MV', 'AV+PV+TV+MV', 'PV+TV+MV', 'AV+PV+TV+MV', 'AV+PV+TV+MV', 'AV+PV+TV+MV', 'AV+PV+TV+MV', 'AV+PV+TV+MV', 'AV+PV+TV+MV', 'AV+PV+TV+MV', 'AV+PV+TV+MV', 'AV+PV+TV+MV', 'AV+PV+TV+MV', 'AV+PV+TV+MV', 'AV+PV+TV+MV', 'AV+PV+TV+MV', 'AV+PV+TV+MV', 'AV+PV+TV+MV', 'AV+PV+TV+MV', 'AV+PV+TV+MV', 'AV+PV+TV+MV', 'AV+PV+TV+MV', 'PV+TV+MV', 'AV+PV+TV+MV', 'AV+PV+TV+MV', 'AV+PV+TV+MV', 'AV+PV+TV+MV', 'AV+PV+TV+MV', 'AV+MV', 'PV+TV+MV', 'PV', 'AV+PV+TV+MV', 'AV+PV+TV+MV', 'AV+PV+TV+MV', 'AV+MV', 'AV+PV+TV+MV', 'AV+PV+TV+MV', 'MV', 'AV+PV+TV+MV', 'AV+MV', 'AV+MV', 'AV+PV+TV+MV', 'AV+PV+TV+MV', 'MV', 'AV+PV+TV+MV', 'AV+PV+TV+MV', 'AV+MV', 'AV+PV', 'MV', 'AV+MV', 'MV', 'AV+PV+TV+MV', 'TV+MV+Phc', 'AV+PV+TV+MV', 'AV+PV+TV+MV', 'AV+PV+TV+MV', 'AV+PV+TV+MV', 'AV+PV+TV+MV', 'AV+PV+TV+MV', 'PV+TV+MV', 'PV', 'AV+PV+TV+MV', 'AV+MV', 'AV+PV+TV+MV', 'AV+PV+TV+MV', 'AV+PV+TV+MV', 'AV+PV+TV', 'AV+TV+MV', 'AV+PV+TV+MV', 'AV+PV+TV+MV', 'AV', 'AV+PV+TV+MV', 'AV+PV+TV+MV', 'PV+TV+MV', 'AV+PV+TV+MV', 'AV+PV+TV+MV', 'MV', 'AV+MV', 'AV+PV+TV+MV', 'AV+PV+TV+MV', 'AV+PV+TV+MV', 'AV+MV', 'AV+PV+TV+MV', 'AV+PV+TV+MV', 'AV+PV+TV+MV', 'AV+PV+TV+MV', 'PV', 'TV', 'AV+PV+TV+MV', 'AV+PV+TV+MV', 'AV+PV+TV+MV', 'AV+PV+TV+MV', 'AV+TV+MV', 'MV', 'AV+PV+TV+MV', 'PV+TV+MV', 'AV+PV+TV+MV', 'AV+PV+TV+MV', 'AV+PV+TV+MV', 'AV+PV+TV+MV', 'PV+TV', 'PV+MV', 'AV+PV+TV+MV', 'AV+PV+TV+MV', 'AV+PV+TV+MV', 'AV+PV+TV+MV', 'AV+PV+TV+MV', 'AV+MV', 'AV+PV+TV+MV', 'AV+PV+MV', 'AV', 'AV+PV+TV+MV', 'AV+MV', 'AV+PV+TV+MV', 'AV+PV+TV+MV', 'AV+PV+TV+MV', 'AV+PV+TV+MV', 'MV', 'AV+PV+TV+MV', 'AV+MV', 'AV+PV+TV+MV', 'AV+PV+TV+MV', 'AV+PV+TV+MV', 'AV+PV', 'AV+PV+TV+MV', 'AV+PV+TV+MV', 'AV+PV+TV+MV', 'AV+MV', 'AV+PV+TV+MV', 'AV+PV+TV+MV', 'AV+PV+TV+MV', 'AV+PV+TV+MV', 'AV+PV+TV+MV', 'AV+PV', 'AV+PV+TV+MV', 'AV+PV+TV+MV', 'TV+MV', 'AV+PV+TV+MV', 'AV+PV+TV+MV', 'AV+PV+TV+MV', 'AV+PV+TV+MV', 'PV+TV+MV', 'AV+PV+TV+MV', 'AV+MV', 'AV+PV+TV+MV', 'AV+PV+TV+MV', 'AV+PV+TV+MV', 'AV+PV+TV+MV', 'AV+PV+TV+MV', 'AV+PV+TV+MV', 'AV+PV+TV+MV', 'AV+PV+TV+MV', 'AV+PV+TV+MV', 'PV+TV', 'AV+MV', 'AV+PV+TV+MV', 'AV+PV+TV+MV', 'AV+PV+TV+MV', 'AV+PV+TV+MV', 'AV+PV+TV+MV', 'AV+PV+TV+MV', 'AV+PV+TV+MV', 'AV+MV', 'PV', 'AV+PV+TV+MV', 'AV+PV+TV+MV', 'AV+PV+MV', 'AV+PV', 'AV+PV+TV+MV', 'AV+PV+TV+MV', 'AV+MV', 'AV+PV+TV+MV', 'AV+PV+TV+MV', 'PV', 'PV+TV', 'AV+PV+TV+MV', 'AV+PV+TV+MV', 'AV+MV', 'AV+PV+TV+MV', 'AV+PV+TV+MV', 'AV+PV+TV+MV', 'AV+PV+TV+MV', 'AV+PV+TV+MV', 'AV', 'AV+PV+TV+MV', 'AV+PV+TV+MV', 'AV+PV+TV+MV', 'AV+PV+TV+MV', 'AV+PV+TV', 'AV+PV+TV+MV', 'AV+PV+TV+MV', 'AV+PV+TV+MV', 'AV+PV+TV+MV', 'AV+PV+TV', 'AV+PV+TV', 'AV+PV+TV+MV', 'AV+PV+TV+MV', 'AV+PV+TV+MV', 'AV+PV+TV+MV', 'AV+PV+TV+MV', 'AV+PV', 'MV', 'AV+MV', 'PV+TV+MV', 'AV+PV+TV+MV', 'AV+PV+TV+MV', 'AV+PV+TV+MV', 'AV+PV+TV+MV', 'AV+PV+TV+MV', 'AV+PV+TV+MV', 'PV+TV+MV', 'PV+MV', 'AV+PV+TV+MV', 'AV+PV+TV+MV', 'AV+PV+TV+MV', 'AV+PV+MV', 'AV+PV+TV+MV', 'AV+PV+TV+MV', 'AV+PV+TV', 'AV+PV+TV+MV', 'AV+PV+TV+MV', 'AV+MV', 'AV+PV+TV+MV', 'AV+PV+TV+MV', 'AV+PV+TV+MV', 'MV', 'AV+PV+TV+MV', 'AV+MV', 'AV+PV+TV+MV', 'AV+MV', 'AV+MV', 'AV+PV+TV+MV', 'AV+PV+TV+MV', 'AV+PV+TV+MV', 'AV+MV', 'AV+PV+TV+MV', 'AV+PV+TV+MV', 'AV+PV+TV+MV', 'AV+PV+TV+MV', 'AV+PV+TV+MV', 'AV+PV+TV+MV', 'AV+MV', 'AV+PV+TV+MV', 'AV+PV+TV+MV', 'AV+PV+TV+MV', 'AV+PV+TV+MV', 'AV+PV+TV+MV', 'PV+TV+MV', 'AV+PV', 'AV+PV+TV+MV', 'AV+PV+TV+MV', 'PV+TV+MV', 'AV+PV+TV+MV', 'AV+PV+TV', 'AV+PV+TV+MV', 'AV+PV+TV+MV', 'MV', 'AV+PV+TV+MV', 'MV', 'AV+PV+TV+MV', 'AV+PV+TV+MV', 'PV+MV', 'AV+PV+TV+MV', 'AV+PV+TV+MV', 'AV+PV+TV+MV', 'AV+MV', 'AV+PV+TV', 'AV+PV+TV+MV', 'AV+PV+TV+MV', 'PV+TV+MV', 'AV+MV', 'AV+PV+TV+MV', 'AV+PV+TV+MV', 'AV+PV+TV+MV', 'AV+PV+TV+MV', 'AV+PV', 'AV+PV+TV+MV', 'AV+PV+TV', 'PV+TV', 'AV+PV+TV+MV', 'AV+PV+TV+MV', 'AV+PV+TV+MV', 'AV+PV+TV+MV', 'AV+PV+TV+MV', 'AV+PV+TV+MV', 'AV+PV+TV+MV', 'AV+PV+TV+MV', 'AV+PV+TV+MV', 'AV+PV+TV+MV', 'AV+PV+TV+MV', 'AV+PV+TV+MV', 'AV+PV+TV+MV', 'AV+PV+TV+MV', 'AV+PV+TV+MV', 'AV+PV+TV+MV', 'AV+PV+TV+MV', 'AV+PV+TV+MV', 'AV+PV+TV+MV', 'AV+PV+TV+MV', 'PV+TV+MV', 'AV+PV+TV+MV', 'PV+TV+MV', 'AV+PV+MV', 'AV+PV+TV+MV', 'AV+MV', 'MV', 'AV+PV+TV+MV', 'AV+PV+TV+MV', 'AV+PV', 'AV+PV+TV+MV', 'AV+PV+TV+MV', 'AV+PV', 'AV+PV+TV+MV', 'AV', 'AV+PV+TV+MV', 'AV+MV', 'AV+PV+TV+MV', 'AV+PV+TV+MV', 'AV+PV+TV+MV', 'AV+PV+TV+MV', 'AV+MV', 'AV+PV+TV+MV', 'PV+TV', 'AV+PV+TV+MV', 'AV+PV+TV+MV', 'AV+PV+TV+MV', 'AV+PV+TV+MV', 'AV+PV+TV+MV', 'AV+PV+TV+MV', 'AV+PV+TV+MV', 'AV+PV', 'AV+PV+TV+MV', 'AV+PV+TV+MV', 'AV+PV+TV', 'AV+PV+TV+MV', 'AV+PV+TV+MV', 'AV+PV+TV+MV', 'AV+PV+TV+MV', 'AV+PV', 'AV+MV', 'AV+MV', 'AV+PV+TV+MV', 'AV+PV+TV+MV', 'AV+PV+TV+MV', 'AV+PV+TV+MV', 'AV+PV+TV+MV', 'AV+PV+TV+MV', 'AV+PV+TV+MV', 'AV+PV+TV+MV', 'AV+PV+TV', 'AV+PV+TV+MV', 'PV+TV+MV', 'AV+PV+TV+MV', 'PV+TV+MV', 'AV+PV+TV+MV', 'AV+PV+TV+MV', 'AV+PV+TV+MV', 'AV+PV+TV+MV', 'AV+PV+TV+MV', 'AV+PV+TV', 'AV+PV+TV+MV', 'MV', 'AV+PV', 'AV+PV+TV+MV', 'AV+PV+TV', 'AV+PV+TV+MV', 'AV+PV+TV+MV', 'AV+PV+TV+MV', 'AV+PV+TV+MV', 'AV+PV+TV+MV', 'AV+PV+TV+MV', 'AV+PV+TV+MV', 'AV+MV', 'AV+PV+TV+MV', 'AV+PV+TV+MV', 'MV', 'AV+PV+TV+MV', 'AV+PV', 'AV+PV+TV+MV', 'MV', 'AV+PV+TV+MV', 'AV+PV+TV+MV', 'AV+PV+TV+MV', 'AV+PV+TV+MV', 'AV+PV+TV+MV', 'AV+PV+TV+MV', 'PV+TV+MV', 'AV+PV+TV+MV', 'AV+PV+TV+MV', 'AV+MV', 'AV+PV+TV+MV', 'AV+PV+TV+MV', 'AV+MV', 'AV+PV+TV+MV', 'AV+PV+TV+MV', 'AV+MV', 'AV+PV+TV+MV', 'AV+PV+TV+MV', 'PV+TV+MV', 'AV+PV+TV+MV', 'AV+PV+TV+MV', 'AV', 'AV+PV+TV+MV', 'PV+TV', 'TV', 'PV', 'AV+PV+TV+MV', 'AV+PV+TV+MV', 'AV+PV+TV+MV', 'AV+PV+TV+MV', 'AV+PV+TV+MV', 'AV+PV', 'AV+PV+TV+MV', 'AV+PV+TV', 'AV+MV', 'AV+PV+TV+MV', 'AV+PV+TV+MV', 'MV', 'AV+PV+TV+MV', 'AV+PV+TV+MV', 'AV+PV+TV+MV', 'AV+PV', 'AV+PV+TV']\n",
      "['Absent', 'Present', 'Unknown', 'Present', 'Present', 'Absent', 'Absent', 'Absent', 'Present', 'Unknown', 'Absent', 'Present', 'Present', 'Absent', 'Absent', 'Absent', 'Unknown', 'Absent', 'Absent', 'Present', 'Absent', 'Present', 'Present', 'Present', 'Absent', 'Present', 'Present', 'Present', 'Unknown', 'Absent', 'Absent', 'Absent', 'Present', 'Present', 'Absent', 'Absent', 'Present', 'Absent', 'Unknown', 'Absent', 'Unknown', 'Absent', 'Present', 'Present', 'Present', 'Absent', 'Unknown', 'Absent', 'Absent', 'Absent', 'Absent', 'Unknown', 'Absent', 'Absent', 'Absent', 'Present', 'Absent', 'Present', 'Absent', 'Absent', 'Absent', 'Absent', 'Present', 'Present', 'Present', 'Unknown', 'Absent', 'Absent', 'Present', 'Present', 'Present', 'Absent', 'Absent', 'Present', 'Absent', 'Absent', 'Present', 'Absent', 'Absent', 'Absent', 'Absent', 'Absent', 'Present', 'Present', 'Absent', 'Present', 'Absent', 'Absent', 'Absent', 'Absent', 'Absent', 'Present', 'Absent', 'Absent', 'Absent', 'Absent', 'Absent', 'Absent', 'Absent', 'Absent', 'Absent', 'Absent', 'Absent', 'Present', 'Absent', 'Absent', 'Present', 'Absent', 'Absent', 'Absent', 'Absent', 'Absent', 'Absent', 'Absent', 'Absent', 'Absent', 'Absent', 'Absent', 'Absent', 'Absent', 'Absent', 'Absent', 'Absent', 'Absent', 'Absent', 'Absent', 'Unknown', 'Absent', 'Absent', 'Absent', 'Absent', 'Absent', 'Absent', 'Absent', 'Absent', 'Present', 'Present', 'Absent', 'Absent', 'Absent', 'Absent', 'Absent', 'Absent', 'Absent', 'Absent', 'Absent', 'Absent', 'Absent', 'Absent', 'Absent', 'Absent', 'Absent', 'Absent', 'Absent', 'Absent', 'Absent', 'Present', 'Absent', 'Absent', 'Absent', 'Absent', 'Absent', 'Absent', 'Absent', 'Present', 'Unknown', 'Absent', 'Present', 'Absent', 'Absent', 'Absent', 'Unknown', 'Absent', 'Absent', 'Present', 'Absent', 'Present', 'Absent', 'Present', 'Absent', 'Present', 'Absent', 'Absent', 'Absent', 'Absent', 'Absent', 'Present', 'Present', 'Absent', 'Unknown', 'Absent', 'Absent', 'Present', 'Absent', 'Present', 'Absent', 'Absent', 'Absent', 'Absent', 'Absent', 'Absent', 'Absent', 'Absent', 'Present', 'Absent', 'Absent', 'Absent', 'Absent', 'Unknown', 'Absent', 'Absent', 'Present', 'Present', 'Absent', 'Absent', 'Absent', 'Present', 'Absent', 'Absent', 'Present', 'Present', 'Absent', 'Absent', 'Absent', 'Absent', 'Unknown', 'Absent', 'Absent', 'Absent', 'Absent', 'Absent', 'Present', 'Present', 'Present', 'Absent', 'Absent', 'Absent', 'Absent', 'Absent', 'Absent', 'Absent', 'Absent', 'Present', 'Absent', 'Present', 'Absent', 'Absent', 'Present', 'Present', 'Absent', 'Absent', 'Absent', 'Absent', 'Absent', 'Absent', 'Unknown', 'Absent', 'Unknown', 'Absent', 'Absent', 'Absent', 'Absent', 'Absent', 'Absent', 'Absent', 'Present', 'Absent', 'Absent', 'Absent', 'Present', 'Absent', 'Unknown', 'Present', 'Present', 'Absent', 'Absent', 'Absent', 'Absent', 'Absent', 'Absent', 'Absent', 'Absent', 'Absent', 'Absent', 'Absent', 'Absent', 'Absent', 'Absent', 'Absent', 'Absent', 'Absent', 'Absent', 'Absent', 'Absent', 'Absent', 'Absent', 'Absent', 'Absent', 'Absent', 'Absent', 'Absent', 'Unknown', 'Unknown', 'Absent', 'Present', 'Absent', 'Absent', 'Unknown', 'Absent', 'Unknown', 'Absent', 'Absent', 'Absent', 'Absent', 'Absent', 'Absent', 'Absent', 'Absent', 'Absent', 'Absent', 'Present', 'Absent', 'Absent', 'Absent', 'Absent', 'Absent', 'Absent', 'Absent', 'Absent', 'Absent', 'Absent', 'Absent', 'Present', 'Absent', 'Absent', 'Absent', 'Absent', 'Absent', 'Absent', 'Absent', 'Absent', 'Absent', 'Absent', 'Absent', 'Absent', 'Absent', 'Absent', 'Absent', 'Absent', 'Absent', 'Absent', 'Absent', 'Absent', 'Absent', 'Absent', 'Absent', 'Absent', 'Absent', 'Present', 'Present', 'Present', 'Absent', 'Absent', 'Absent', 'Absent', 'Absent', 'Absent', 'Present', 'Present', 'Absent', 'Absent', 'Absent', 'Absent', 'Absent', 'Absent', 'Absent', 'Absent', 'Present', 'Absent', 'Absent', 'Absent', 'Absent', 'Absent', 'Absent', 'Absent', 'Absent', 'Absent', 'Absent', 'Absent', 'Present', 'Absent', 'Absent', 'Absent', 'Absent', 'Absent', 'Present', 'Absent', 'Unknown', 'Absent', 'Absent', 'Absent', 'Absent', 'Absent', 'Absent', 'Absent', 'Absent', 'Absent', 'Absent', 'Absent', 'Absent', 'Absent', 'Absent', 'Absent', 'Absent', 'Present', 'Absent', 'Present', 'Present', 'Present', 'Absent', 'Present', 'Absent', 'Absent', 'Absent', 'Present', 'Absent', 'Unknown', 'Absent', 'Absent', 'Present', 'Present', 'Absent', 'Absent', 'Absent', 'Present', 'Absent', 'Absent', 'Present', 'Absent', 'Unknown', 'Present', 'Present', 'Absent', 'Absent', 'Absent', 'Unknown', 'Present', 'Unknown', 'Absent', 'Present', 'Absent', 'Present', 'Absent', 'Present', 'Absent', 'Absent', 'Absent', 'Absent', 'Absent', 'Absent', 'Absent', 'Absent', 'Present', 'Present', 'Absent', 'Absent', 'Present', 'Present', 'Absent', 'Present', 'Absent', 'Present', 'Absent', 'Absent', 'Absent', 'Absent', 'Absent', 'Absent', 'Absent', 'Present', 'Absent', 'Absent', 'Absent', 'Absent', 'Unknown', 'Present', 'Present', 'Unknown', 'Present', 'Absent', 'Absent', 'Absent', 'Absent', 'Absent', 'Absent', 'Absent', 'Absent', 'Absent', 'Present', 'Absent', 'Absent', 'Absent', 'Present', 'Absent', 'Absent', 'Absent', 'Absent', 'Absent', 'Unknown', 'Absent', 'Unknown', 'Absent', 'Absent', 'Absent', 'Unknown', 'Present', 'Absent', 'Absent', 'Absent', 'Absent', 'Absent', 'Absent', 'Absent', 'Absent', 'Unknown', 'Absent', 'Unknown', 'Present', 'Present', 'Present', 'Absent', 'Present', 'Absent', 'Absent', 'Present', 'Absent', 'Absent', 'Absent', 'Absent', 'Present', 'Absent', 'Present', 'Absent', 'Absent', 'Absent', 'Absent', 'Absent', 'Absent', 'Present', 'Unknown', 'Absent', 'Present', 'Absent', 'Absent', 'Absent', 'Present', 'Unknown', 'Present', 'Present', 'Unknown', 'Absent', 'Absent', 'Absent', 'Absent', 'Absent', 'Absent', 'Absent', 'Present', 'Absent', 'Absent', 'Absent', 'Present', 'Present', 'Present', 'Present', 'Absent', 'Absent', 'Absent', 'Present', 'Absent', 'Absent', 'Absent', 'Absent', 'Absent', 'Absent', 'Absent', 'Present', 'Absent', 'Present', 'Unknown', 'Absent', 'Absent', 'Absent', 'Absent', 'Present', 'Absent', 'Present', 'Absent', 'Absent', 'Absent', 'Unknown', 'Absent', 'Absent', 'Absent', 'Absent', 'Unknown', 'Unknown', 'Absent', 'Absent', 'Present', 'Absent', 'Absent', 'Unknown', 'Absent', 'Absent', 'Absent', 'Absent', 'Absent', 'Unknown', 'Absent', 'Absent', 'Absent', 'Absent', 'Absent', 'Absent', 'Absent', 'Absent', 'Absent', 'Present', 'Absent', 'Absent', 'Absent', 'Absent', 'Absent', 'Present', 'Absent', 'Absent', 'Absent', 'Absent', 'Absent', 'Absent', 'Absent', 'Absent', 'Absent', 'Absent', 'Absent', 'Absent', 'Absent', 'Absent', 'Absent', 'Present', 'Absent', 'Unknown', 'Absent', 'Absent', 'Present', 'Absent', 'Absent', 'Present', 'Present', 'Absent', 'Absent', 'Present', 'Absent', 'Absent', 'Present', 'Present', 'Present', 'Absent', 'Absent', 'Absent', 'Absent', 'Unknown', 'Absent', 'Absent', 'Absent', 'Absent', 'Absent', 'Present', 'Absent', 'Absent', 'Present', 'Unknown', 'Absent', 'Absent', 'Unknown', 'Absent', 'Absent', 'Present', 'Unknown', 'Absent', 'Absent', 'Absent', 'Unknown', 'Absent', 'Absent', 'Absent', 'Absent', 'Absent', 'Absent', 'Absent', 'Absent', 'Unknown', 'Absent', 'Absent', 'Present', 'Absent', 'Absent', 'Absent', 'Absent', 'Absent', 'Present', 'Unknown', 'Absent', 'Absent', 'Absent', 'Absent', 'Absent', 'Absent', 'Absent', 'Absent', 'Absent', 'Absent', 'Absent', 'Absent', 'Absent', 'Absent', 'Absent', 'Absent', 'Unknown', 'Unknown', 'Absent', 'Absent', 'Absent', 'Unknown', 'Absent', 'Absent', 'Absent', 'Absent', 'Absent', 'Unknown', 'Absent', 'Absent', 'Present', 'Present', 'Absent', 'Absent', 'Absent', 'Absent', 'Absent', 'Absent', 'Absent', 'Present', 'Absent', 'Absent', 'Absent', 'Absent', 'Present', 'Present', 'Absent', 'Absent', 'Absent', 'Present', 'Present', 'Absent', 'Present', 'Unknown', 'Absent', 'Absent', 'Absent', 'Absent', 'Absent', 'Present', 'Present', 'Absent', 'Absent', 'Absent', 'Absent', 'Present', 'Absent', 'Absent', 'Absent', 'Present', 'Present', 'Unknown', 'Absent', 'Absent', 'Present', 'Absent', 'Absent', 'Absent', 'Absent', 'Absent', 'Absent', 'Absent', 'Absent', 'Absent', 'Absent', 'Present', 'Absent', 'Present', 'Absent', 'Absent', 'Absent', 'Absent', 'Absent', 'Absent', 'Present', 'Absent', 'Absent', 'Absent', 'Absent', 'Absent', 'Absent', 'Absent', 'Present', 'Present', 'Absent', 'Present', 'Absent', 'Absent', 'Absent', 'Absent', 'Absent', 'Present', 'Absent', 'Absent', 'Absent', 'Absent', 'Absent', 'Absent', 'Absent', 'Unknown', 'Absent', 'Absent', 'Absent', 'Absent', 'Absent', 'Absent', 'Present', 'Absent', 'Absent', 'Absent', 'Present', 'Present', 'Absent', 'Absent', 'Absent', 'Absent', 'Absent', 'Unknown', 'Absent', 'Absent', 'Absent', 'Unknown', 'Absent', 'Present', 'Present', 'Unknown', 'Unknown', 'Present', 'Absent', 'Absent', 'Absent', 'Absent', 'Absent', 'Absent', 'Present', 'Absent', 'Absent', 'Absent', 'Unknown', 'Unknown', 'Absent', 'Absent', 'Absent', 'Absent', 'Absent', 'Absent', 'Absent', 'Absent', 'Present', 'Absent', 'Absent', 'Absent', 'Absent', 'Absent', 'Absent', 'Absent', 'Absent', 'Absent', 'Present', 'Present', 'Absent', 'Absent', 'Absent', 'Present', 'Absent', 'Present', 'Absent', 'Absent', 'Absent', 'Absent', 'Absent', 'Absent', 'Absent', 'Absent', 'Absent', 'Unknown', 'Absent', 'Absent', 'Unknown', 'Absent', 'Absent', 'Present', 'Absent', 'Absent', 'Absent', 'Absent', 'Absent', 'Absent', 'Unknown', 'Absent', 'Unknown', 'Absent', 'Absent', 'Absent', 'Absent', 'Absent', 'Absent', 'Absent', 'Absent', 'Absent', 'Absent', 'Absent', 'Absent', 'Present', 'Absent', 'Absent', 'Present', 'Absent', 'Absent']\n",
      "[nan, 'AV+MV+PV+TV', nan, 'TV', 'AV+MV+PV+TV', nan, nan, nan, 'AV+MV+PV+TV', nan, nan, 'MV+TV', 'MV+PV+TV', nan, nan, nan, nan, nan, nan, 'AV+MV+PV+TV', nan, 'AV+MV+PV+TV', 'MV+TV', 'AV+MV+PV+TV', nan, 'MV+PV+TV', 'MV', 'MV', nan, nan, nan, nan, 'MV+PV', 'AV+MV+PV+TV', nan, nan, 'AV+MV', nan, nan, nan, nan, nan, 'AV+MV+PV+TV', 'AV+MV+PV+TV', 'MV+PV+TV', nan, nan, nan, nan, nan, nan, nan, nan, nan, nan, 'AV+MV+PV+TV', nan, 'AV+MV+PV+TV', nan, nan, nan, nan, 'AV+PV+TV', 'MV+PV+TV', 'AV+MV+PV+TV', nan, nan, nan, 'AV+MV+PV+TV', 'MV+PV+TV', 'AV+MV+PV', nan, nan, 'MV', nan, nan, 'AV+MV', nan, nan, nan, nan, nan, 'AV+MV+PV+TV', 'AV+MV', nan, 'AV+PV', nan, nan, nan, nan, nan, 'MV', nan, nan, nan, nan, nan, nan, nan, nan, nan, nan, nan, 'PV', nan, nan, 'AV+MV+PV+TV', nan, nan, nan, nan, nan, nan, nan, nan, nan, nan, nan, nan, nan, nan, nan, nan, nan, nan, nan, nan, nan, nan, nan, nan, nan, nan, nan, nan, 'MV+PV', 'AV+MV+PV+TV', nan, nan, nan, nan, nan, nan, nan, nan, nan, nan, nan, nan, nan, nan, nan, nan, nan, nan, nan, 'MV+PV+TV', nan, nan, nan, nan, nan, nan, nan, 'AV+PV+TV', nan, nan, 'PV', nan, nan, nan, nan, nan, nan, 'MV+TV', nan, 'AV+MV+PV+TV', nan, 'AV+MV', nan, 'AV+MV', nan, nan, nan, nan, nan, 'MV', 'AV+PV+TV', nan, nan, nan, nan, 'MV', nan, 'MV+PV+TV', nan, nan, nan, nan, nan, nan, nan, nan, 'AV+MV+PV+TV', nan, nan, nan, nan, nan, nan, nan, 'AV+MV', 'AV+MV', nan, nan, nan, 'AV+MV+PV+TV', nan, nan, 'AV+MV+PV+TV', 'AV+MV+PV+TV', nan, nan, nan, nan, nan, nan, nan, nan, nan, nan, 'AV+PV+TV', 'TV', 'AV+MV+PV+TV', nan, nan, nan, nan, nan, nan, nan, nan, 'AV+MV+PV+TV', nan, 'AV+PV+TV', nan, nan, 'MV', 'AV+PV+TV', nan, nan, nan, nan, nan, nan, nan, nan, nan, nan, nan, nan, nan, nan, nan, nan, 'TV', nan, nan, nan, 'AV+MV+PV', nan, nan, 'AV+MV+PV+TV', 'AV+MV', nan, nan, nan, nan, nan, nan, nan, nan, nan, nan, nan, nan, nan, nan, nan, nan, nan, nan, nan, nan, nan, nan, nan, nan, nan, nan, nan, nan, nan, nan, 'AV+MV', nan, nan, nan, nan, nan, nan, nan, nan, nan, nan, nan, nan, nan, nan, nan, 'MV+TV', nan, nan, nan, nan, nan, nan, nan, nan, nan, nan, nan, 'AV+MV+PV+TV', nan, nan, nan, nan, nan, nan, nan, nan, nan, nan, nan, nan, nan, nan, nan, nan, nan, nan, nan, nan, nan, nan, nan, nan, nan, 'AV+MV+PV+Phc+TV', 'MV+PV+TV', 'PV+TV', nan, nan, nan, nan, nan, nan, 'MV+PV+TV', 'MV', nan, nan, nan, nan, nan, nan, nan, nan, 'MV+TV', nan, nan, nan, nan, nan, nan, nan, nan, nan, nan, nan, 'AV+PV', nan, nan, nan, nan, nan, 'AV+MV', nan, nan, nan, nan, nan, nan, nan, nan, nan, nan, nan, nan, nan, nan, nan, nan, nan, nan, 'MV', nan, 'AV+MV+PV+TV', 'PV+TV', 'MV+PV+TV', nan, 'TV', nan, nan, nan, 'MV+PV+TV', nan, nan, nan, nan, 'AV+MV+PV+TV', 'PV', nan, nan, nan, 'AV+MV+PV+TV', nan, nan, 'MV+PV', nan, nan, 'AV+MV+PV+TV', 'AV+MV+PV+TV', nan, nan, nan, nan, 'AV+MV+PV+TV', nan, nan, 'AV+MV', nan, 'AV+MV', nan, 'AV+MV+PV+TV', nan, nan, nan, nan, nan, nan, nan, nan, 'MV', 'AV+MV+PV+TV', nan, nan, 'AV+MV+PV+TV', 'AV', nan, 'AV+MV+PV+TV', nan, 'AV+MV+PV+TV', nan, nan, nan, nan, nan, nan, nan, 'AV+MV+PV+TV', nan, nan, nan, nan, nan, 'AV+MV+PV+TV', 'MV+TV', nan, 'AV+MV+PV+TV', nan, nan, nan, nan, nan, nan, nan, nan, nan, 'AV+MV+PV+TV', nan, nan, nan, 'MV+PV+TV', nan, nan, nan, nan, nan, nan, nan, nan, nan, nan, nan, nan, 'TV', nan, nan, nan, nan, nan, nan, nan, nan, nan, nan, nan, 'AV+MV+PV+TV', 'AV+MV+PV+TV', 'AV+MV+PV+TV', nan, 'AV+PV', nan, nan, 'MV+PV+TV', nan, nan, nan, nan, 'AV+MV+PV+TV', nan, 'MV+PV+TV', nan, nan, nan, nan, nan, nan, 'MV+PV+TV', nan, nan, 'AV+MV+PV+TV', nan, nan, nan, 'AV+MV+PV+TV', nan, 'MV+TV', 'AV+MV', nan, nan, nan, nan, nan, nan, nan, nan, 'MV', nan, nan, nan, 'MV+Phc+TV', 'AV+MV+PV+TV', 'AV+MV+PV+TV', 'AV+TV', nan, nan, nan, 'MV+PV+TV', nan, nan, nan, nan, nan, nan, nan, 'AV+MV+TV', nan, 'AV+MV+PV+TV', nan, nan, nan, nan, nan, 'PV+TV', nan, 'MV', nan, nan, nan, nan, nan, nan, nan, nan, nan, nan, nan, nan, 'AV+MV+PV+TV', nan, nan, nan, nan, nan, nan, nan, nan, nan, nan, nan, nan, nan, nan, nan, nan, nan, nan, 'MV+PV', nan, nan, nan, nan, nan, 'AV+PV', nan, nan, nan, nan, nan, nan, nan, nan, nan, nan, nan, nan, nan, nan, nan, 'AV+MV+PV+TV', nan, nan, nan, nan, 'MV+TV', nan, nan, 'TV', 'AV+MV+PV+TV', nan, nan, 'AV+MV', nan, nan, 'AV+MV+PV+TV', 'AV+MV+PV+TV', 'AV+MV+PV+TV', nan, nan, nan, nan, nan, nan, nan, nan, nan, nan, 'PV+TV', nan, nan, 'AV+MV', nan, nan, nan, nan, nan, nan, 'AV+MV', nan, nan, nan, nan, nan, nan, nan, nan, nan, nan, nan, nan, nan, nan, nan, nan, 'PV+TV', nan, nan, nan, nan, nan, 'AV+MV+PV+TV', nan, nan, nan, nan, nan, nan, nan, nan, nan, nan, nan, nan, nan, nan, nan, nan, nan, nan, nan, nan, nan, nan, nan, nan, nan, nan, nan, nan, nan, nan, nan, 'AV+MV+PV+TV', 'MV', nan, nan, nan, nan, nan, nan, nan, 'AV+MV+PV+TV', nan, nan, nan, nan, 'PV+TV', 'AV+MV+PV+TV', nan, nan, nan, 'AV+MV+PV+TV', 'TV', nan, 'PV+TV', nan, nan, nan, nan, nan, nan, 'AV+PV', 'AV+MV+PV+TV', nan, nan, nan, nan, 'TV', nan, nan, nan, 'AV+MV+PV+TV', 'AV+MV+PV+TV', nan, nan, nan, 'AV+MV+PV+TV', nan, nan, nan, nan, nan, nan, nan, nan, nan, nan, 'TV', nan, 'AV+MV+PV+TV', nan, nan, nan, nan, nan, nan, 'AV+PV', nan, nan, nan, nan, nan, nan, nan, 'PV+TV', 'AV+MV+PV+TV', nan, 'TV', nan, nan, nan, nan, nan, 'MV', nan, nan, nan, nan, nan, nan, nan, nan, nan, nan, nan, nan, nan, nan, 'AV+MV', nan, nan, nan, 'AV', 'AV+MV+PV+TV', nan, nan, nan, nan, nan, nan, nan, nan, nan, nan, nan, 'AV+MV+PV+TV', 'PV', nan, nan, 'AV+MV+PV+TV', nan, nan, nan, nan, nan, nan, 'MV+PV+TV', nan, nan, nan, nan, nan, nan, nan, nan, nan, nan, nan, nan, nan, 'PV', nan, nan, nan, nan, nan, nan, nan, nan, nan, 'AV+MV', 'AV+MV+PV+TV', nan, nan, nan, 'PV', nan, 'MV', nan, nan, nan, nan, nan, nan, nan, nan, nan, nan, nan, nan, nan, nan, nan, 'AV+MV', nan, nan, nan, nan, nan, nan, nan, nan, nan, nan, nan, nan, nan, nan, nan, nan, nan, nan, nan, nan, nan, 'MV', nan, nan, 'MV+TV', nan, nan]\n",
      "[nan, 'Holosystolic', nan, 'Holosystolic', 'Early-systolic', nan, nan, nan, 'Holosystolic', nan, nan, 'Holosystolic', 'Holosystolic', nan, nan, nan, nan, nan, nan, 'Mid-systolic', nan, 'Holosystolic', 'Holosystolic', 'Mid-systolic', nan, 'Holosystolic', 'Holosystolic', 'Holosystolic', nan, nan, nan, nan, 'Early-systolic', 'Holosystolic', nan, nan, 'Holosystolic', nan, nan, nan, nan, nan, 'Mid-systolic', 'Holosystolic', 'Holosystolic', nan, nan, nan, nan, nan, nan, nan, nan, nan, nan, 'Early-systolic', nan, 'Mid-systolic', nan, nan, nan, nan, 'Holosystolic', 'Holosystolic', 'Mid-systolic', nan, nan, nan, 'Holosystolic', 'Holosystolic', 'Holosystolic', nan, nan, 'Holosystolic', nan, nan, 'Holosystolic', nan, nan, nan, nan, nan, 'Mid-systolic', 'Holosystolic', nan, 'Early-systolic', nan, nan, nan, nan, nan, 'Mid-systolic', nan, nan, nan, nan, nan, nan, nan, nan, nan, nan, nan, 'Early-systolic', nan, nan, 'Holosystolic', nan, nan, nan, nan, nan, nan, nan, nan, nan, nan, nan, nan, nan, nan, nan, nan, nan, nan, nan, nan, nan, nan, nan, nan, nan, nan, nan, nan, 'Early-systolic', 'Holosystolic', nan, nan, nan, nan, nan, nan, nan, nan, nan, nan, nan, nan, nan, nan, nan, nan, nan, nan, nan, 'Holosystolic', nan, nan, nan, nan, nan, nan, nan, 'Early-systolic', nan, nan, 'Holosystolic', nan, nan, nan, nan, nan, nan, 'Early-systolic', nan, 'Holosystolic', nan, 'Holosystolic', nan, 'Holosystolic', nan, nan, nan, nan, nan, 'Early-systolic', 'Early-systolic', nan, nan, nan, nan, 'Early-systolic', nan, 'Holosystolic', nan, nan, nan, nan, nan, nan, nan, nan, 'Holosystolic', nan, nan, nan, nan, nan, nan, nan, 'Holosystolic', 'Early-systolic', nan, nan, nan, 'Holosystolic', nan, nan, 'Holosystolic', 'Early-systolic', nan, nan, nan, nan, nan, nan, nan, nan, nan, nan, 'Early-systolic', 'Early-systolic', 'Holosystolic', nan, nan, nan, nan, nan, nan, nan, nan, 'Holosystolic', nan, 'Early-systolic', nan, nan, 'Holosystolic', 'Early-systolic', nan, nan, nan, nan, nan, nan, nan, nan, nan, nan, nan, nan, nan, nan, nan, nan, 'Holosystolic', nan, nan, nan, 'Early-systolic', nan, nan, 'Holosystolic', 'Early-systolic', nan, nan, nan, nan, nan, nan, nan, nan, nan, nan, nan, nan, nan, nan, nan, nan, nan, nan, nan, nan, nan, nan, nan, nan, nan, nan, nan, nan, nan, nan, 'Holosystolic', nan, nan, nan, nan, nan, nan, nan, nan, nan, nan, nan, nan, nan, nan, nan, 'Holosystolic', nan, nan, nan, nan, nan, nan, nan, nan, nan, nan, nan, 'Early-systolic', nan, nan, nan, nan, nan, nan, nan, nan, nan, nan, nan, nan, nan, nan, nan, nan, nan, nan, nan, nan, nan, nan, nan, nan, nan, 'Holosystolic', 'Holosystolic', 'Holosystolic', nan, nan, nan, nan, nan, nan, 'Holosystolic', 'Holosystolic', nan, nan, nan, nan, nan, nan, nan, nan, 'Early-systolic', nan, nan, nan, nan, nan, nan, nan, nan, nan, nan, nan, 'Early-systolic', nan, nan, nan, nan, nan, 'Holosystolic', nan, nan, nan, nan, nan, nan, nan, nan, nan, nan, nan, nan, nan, nan, nan, nan, nan, nan, 'Holosystolic', nan, 'Early-systolic', 'Mid-systolic', 'Holosystolic', nan, 'Early-systolic', nan, nan, nan, 'Holosystolic', nan, nan, nan, nan, 'Holosystolic', 'Early-systolic', nan, nan, nan, 'Early-systolic', nan, nan, 'Holosystolic', nan, nan, 'Mid-systolic', 'Early-systolic', nan, nan, nan, nan, 'Early-systolic', nan, nan, 'Mid-systolic', nan, 'Early-systolic', nan, 'Holosystolic', nan, nan, nan, nan, nan, nan, nan, nan, 'Holosystolic', 'Early-systolic', nan, nan, 'Early-systolic', 'Holosystolic', nan, 'Early-systolic', nan, 'Mid-systolic', nan, nan, nan, nan, nan, nan, nan, 'Holosystolic', nan, nan, nan, nan, nan, 'Holosystolic', 'Holosystolic', nan, 'Early-systolic', nan, nan, nan, nan, nan, nan, nan, nan, nan, 'Holosystolic', nan, nan, nan, 'Holosystolic', nan, nan, nan, nan, nan, nan, nan, nan, nan, nan, nan, nan, 'Early-systolic', nan, nan, nan, nan, nan, nan, nan, nan, nan, nan, nan, 'Holosystolic', 'Mid-systolic', 'Holosystolic', nan, 'Early-systolic', nan, nan, 'Early-systolic', nan, nan, nan, nan, 'Holosystolic', nan, 'Holosystolic', nan, nan, nan, nan, nan, nan, 'Holosystolic', nan, nan, 'Mid-systolic', nan, nan, nan, 'Holosystolic', nan, 'Early-systolic', 'Holosystolic', nan, nan, nan, nan, nan, nan, nan, nan, 'Holosystolic', nan, nan, nan, 'Holosystolic', 'Holosystolic', 'Holosystolic', 'Early-systolic', nan, nan, nan, 'Early-systolic', nan, nan, nan, nan, nan, nan, nan, 'Holosystolic', nan, 'Holosystolic', nan, nan, nan, nan, nan, 'Holosystolic', nan, 'Early-systolic', nan, nan, nan, nan, nan, nan, nan, nan, nan, nan, nan, nan, 'Mid-systolic', nan, nan, nan, nan, nan, nan, nan, nan, nan, nan, nan, nan, nan, nan, nan, nan, nan, nan, 'Early-systolic', nan, nan, nan, nan, nan, 'Holosystolic', nan, nan, nan, nan, nan, nan, nan, nan, nan, nan, nan, nan, nan, nan, nan, 'Holosystolic', nan, nan, nan, nan, 'Mid-systolic', nan, nan, 'Early-systolic', 'Holosystolic', nan, nan, 'Early-systolic', nan, nan, 'Holosystolic', 'Holosystolic', 'Early-systolic', nan, nan, nan, nan, nan, nan, nan, nan, nan, nan, 'Early-systolic', nan, nan, 'Holosystolic', nan, nan, nan, nan, nan, nan, 'Early-systolic', nan, nan, nan, nan, nan, nan, nan, nan, nan, nan, nan, nan, nan, nan, nan, nan, 'Early-systolic', nan, nan, nan, nan, nan, 'Holosystolic', nan, nan, nan, nan, nan, nan, nan, nan, nan, nan, nan, nan, nan, nan, nan, nan, nan, nan, nan, nan, nan, nan, nan, nan, nan, nan, nan, nan, nan, nan, nan, 'Mid-systolic', 'Mid-systolic', nan, nan, nan, nan, nan, nan, nan, 'Holosystolic', nan, nan, nan, nan, 'Holosystolic', 'Holosystolic', nan, nan, nan, 'Holosystolic', 'Early-systolic', nan, 'Early-systolic', nan, nan, nan, nan, nan, nan, 'Early-systolic', 'Early-systolic', nan, nan, nan, nan, 'Early-systolic', nan, nan, nan, 'Early-systolic', 'Early-systolic', nan, nan, nan, 'Holosystolic', nan, nan, nan, nan, nan, nan, nan, nan, nan, nan, 'Early-systolic', nan, 'Holosystolic', nan, nan, nan, nan, nan, nan, nan, nan, nan, nan, nan, nan, nan, nan, 'Late-systolic', 'Holosystolic', nan, 'Early-systolic', nan, nan, nan, nan, nan, 'Holosystolic', nan, nan, nan, nan, nan, nan, nan, nan, nan, nan, nan, nan, nan, nan, 'Holosystolic', nan, nan, nan, 'Holosystolic', 'Holosystolic', nan, nan, nan, nan, nan, nan, nan, nan, nan, nan, nan, 'Holosystolic', 'Holosystolic', nan, nan, 'Holosystolic', nan, nan, nan, nan, nan, nan, 'Holosystolic', nan, nan, nan, nan, nan, nan, nan, nan, nan, nan, nan, nan, nan, 'Early-systolic', nan, nan, nan, nan, nan, nan, nan, nan, nan, 'Holosystolic', 'Holosystolic', nan, nan, nan, 'Early-systolic', nan, 'Holosystolic', nan, nan, nan, nan, nan, nan, nan, nan, nan, nan, nan, nan, nan, nan, nan, 'Holosystolic', nan, nan, nan, nan, nan, nan, nan, nan, nan, nan, nan, nan, nan, nan, nan, nan, nan, nan, nan, nan, nan, 'Holosystolic', nan, nan, 'Early-systolic', nan, nan]\n"
     ]
    }
   ],
   "source": [
    "patient_id = list(df[\"Patient ID\"])\n",
    "recording_loc = list(df[\"Recording locations:\"])\n",
    "murmur = list(df[\"Murmur\"])\n",
    "murmur_loc = list(df[\"Murmur locations\"])\n",
    "systolic_murmur_timing = list(df[\"Systolic murmur timing\"])\n",
    "print(patient_id)\n",
    "print(recording_loc)\n",
    "print(murmur)\n",
    "print(murmur_loc)\n",
    "print(systolic_murmur_timing)"
   ]
  },
  {
   "cell_type": "code",
   "execution_count": 4,
   "id": "df431a7c",
   "metadata": {},
   "outputs": [],
   "source": [
    "recording_loc = [x.split(\"+\") for x in recording_loc]\n",
    "\n",
    "for i in range(len(murmur_loc)):\n",
    "    if murmur_loc[i] is np.nan:\n",
    "        murmur_loc[i] = []\n",
    "    else:\n",
    "        murmur_loc[i] = murmur_loc[i].split(\"+\")"
   ]
  },
  {
   "cell_type": "code",
   "execution_count": 5,
   "id": "a58a8741",
   "metadata": {},
   "outputs": [
    {
     "name": "stdout",
     "output_type": "stream",
     "text": [
      "Error on patient ID: 85119\n",
      "Error on patient ID: 85119\n"
     ]
    }
   ],
   "source": [
    "X = []\n",
    "y = []\n",
    "\n",
    "for i in range(len(patient_id)):\n",
    "    if murmur[i] == \"Absent\":\n",
    "        for recloc in recording_loc[i]:\n",
    "            full_recording = np.loadtxt(\"SSE/\" + str(patient_id[i]) + \"_\" + recloc + \"_features.csv\", delimiter=',')\n",
    "            initial = 0\n",
    "            while (initial+400) <= len(full_recording):\n",
    "                X.append(full_recording[initial:initial+400])\n",
    "                y.append([1, 0, 0, 0, 0])\n",
    "                initial += 200\n",
    "    elif murmur[i] == \"Present\":\n",
    "        for recloc in recording_loc[i]:\n",
    "            if recloc in murmur_loc[i]:\n",
    "                full_recording = np.loadtxt(\"SSE/\" + str(patient_id[i]) + \"_\" + recloc + \"_features.csv\", delimiter=',')\n",
    "                initial = 0\n",
    "                if systolic_murmur_timing[i] == \"Holosystolic\":\n",
    "                    while (initial+400) <= len(full_recording):\n",
    "                        X.append(full_recording[initial:initial+400])\n",
    "                        y.append([0, 1, 0, 0, 0])\n",
    "                        initial += 200\n",
    "                elif systolic_murmur_timing[i] == \"Early-systolic\":\n",
    "                    while (initial+400) <= len(full_recording):\n",
    "                        X.append(full_recording[initial:initial+400])\n",
    "                        y.append([0, 0, 1, 0, 0])\n",
    "                        initial += 200\n",
    "                elif systolic_murmur_timing[i] == \"Mid-systolic\":\n",
    "                    while (initial+400) <= len(full_recording):\n",
    "                        X.append(full_recording[initial:initial+400])\n",
    "                        y.append([0, 0, 0, 1, 0])\n",
    "                        initial += 200\n",
    "                elif systolic_murmur_timing[i] == \"Late-systolic\":\n",
    "                    while (initial+400) <= len(full_recording):\n",
    "                        X.append(full_recording[initial:initial+400])\n",
    "                        y.append([0, 0, 0, 0, 1])\n",
    "                        initial += 200\n",
    "                else:\n",
    "                    print(\"Error on patient ID:\", patient_id[i])\n",
    "            else:\n",
    "                full_recording = np.loadtxt(\"SSE/\" + str(patient_id[i]) + \"_\" + recloc + \"_features.csv\", delimiter=',')\n",
    "                initial = 0\n",
    "                while (initial+400) <= len(full_recording):\n",
    "                    X.append(full_recording[initial:initial+400])\n",
    "                    y.append([1, 0, 0, 0, 0])\n",
    "                    initial += 200"
   ]
  },
  {
   "cell_type": "code",
   "execution_count": 6,
   "id": "7f7ebe2a",
   "metadata": {},
   "outputs": [],
   "source": [
    "time_steps = 400\n",
    "feature_length = 18\n",
    "batch_size = 3"
   ]
  },
  {
   "cell_type": "code",
   "execution_count": 7,
   "id": "07b0d68f",
   "metadata": {},
   "outputs": [],
   "source": [
    "from sklearn.model_selection import train_test_split as tts\n",
    "X_train, X_test, y_train, y_test = tts(X, y, test_size = 0.25)"
   ]
  },
  {
   "cell_type": "code",
   "execution_count": 8,
   "id": "8398c293",
   "metadata": {},
   "outputs": [],
   "source": [
    "X_train_final = []\n",
    "y_train_final = []\n",
    "\n",
    "for i in range(len(X_train)):\n",
    "    if y_train[i] == [1, 0, 0, 0, 0]:\n",
    "        #randnum = random.uniform(0, 1)\n",
    "        randnum = random.random()\n",
    "        if randnum >= 0.66:\n",
    "            X_train_final.append(X_train[i])\n",
    "            y_train_final.append(y_train[i])\n",
    "    else:\n",
    "        X_train_final.append(X_train[i])\n",
    "        y_train_final.append(y_train[i])"
   ]
  },
  {
   "cell_type": "code",
   "execution_count": 9,
   "id": "a5c34df2",
   "metadata": {},
   "outputs": [
    {
     "name": "stdout",
     "output_type": "stream",
     "text": [
      "22341 22341\n",
      "10005 10005\n",
      "7447 7447\n"
     ]
    }
   ],
   "source": [
    "print(len(X_train), len(y_train))\n",
    "print(len(X_train_final), len(y_train_final))\n",
    "print(len(X_test), len(y_test))"
   ]
  },
  {
   "cell_type": "code",
   "execution_count": 15,
   "id": "cfc29ded",
   "metadata": {},
   "outputs": [
    {
     "name": "stdout",
     "output_type": "stream",
     "text": [
      "Model: \"sequential_4\"\n",
      "_________________________________________________________________\n",
      " Layer (type)                Output Shape              Param #   \n",
      "=================================================================\n",
      " lstm_12 (LSTM)              (None, 400, 128)          75264     \n",
      "                                                                 \n",
      " lstm_13 (LSTM)              (None, 400, 64)           49408     \n",
      "                                                                 \n",
      " lstm_14 (LSTM)              (None, 18)                5976      \n",
      "                                                                 \n",
      " dense_16 (Dense)            (None, 18)                342       \n",
      "                                                                 \n",
      " dense_17 (Dense)            (None, 128)               2432      \n",
      "                                                                 \n",
      " dense_18 (Dense)            (None, 16)                2064      \n",
      "                                                                 \n",
      " dense_19 (Dense)            (None, 5)                 85        \n",
      "                                                                 \n",
      "=================================================================\n",
      "Total params: 135571 (529.57 KB)\n",
      "Trainable params: 135571 (529.57 KB)\n",
      "Non-trainable params: 0 (0.00 Byte)\n",
      "_________________________________________________________________\n"
     ]
    }
   ],
   "source": [
    "model = Sequential()\n",
    "model.add(LSTM(128, return_sequences=True))\n",
    "model.add(LSTM(64, return_sequences=True))\n",
    "model.add(LSTM(18, return_sequences=False))\n",
    "model.add(Dense(18, activation=\"sigmoid\"))\n",
    "model.add(Dense(128, activation=\"sigmoid\"))\n",
    "model.add(Dense(16, activation=\"sigmoid\"))\n",
    "model.add(Dense(5, activation=\"sigmoid\"))\n",
    "model.build((None,400,18))\n",
    "model.summary()"
   ]
  },
  {
   "cell_type": "code",
   "execution_count": 16,
   "id": "b480213c",
   "metadata": {},
   "outputs": [],
   "source": [
    "from keras.optimizers import SGD\n",
    "opt = SGD(learning_rate = 0.001)\n",
    "model.compile(optimizer=opt, loss='categorical_crossentropy', metrics=['accuracy'])"
   ]
  },
  {
   "cell_type": "code",
   "execution_count": 17,
   "id": "c6aa88e6",
   "metadata": {},
   "outputs": [],
   "source": [
    "X_train = np.array(X_train)\n",
    "y_train = np.array(y_train)\n",
    "X_train_final = np.array(X_train_final)\n",
    "y_train_final = np.array(y_train_final)\n",
    "X_test = np.array(X_test)\n",
    "y_test = np.array(y_test)"
   ]
  },
  {
   "cell_type": "code",
   "execution_count": 18,
   "id": "91e9a4ec",
   "metadata": {
    "scrolled": true
   },
   "outputs": [
    {
     "name": "stdout",
     "output_type": "stream",
     "text": [
      "Epoch 1/10\n",
      "WARNING:tensorflow:From C:\\Users\\savit\\anaconda3\\Lib\\site-packages\\keras\\src\\utils\\tf_utils.py:492: The name tf.ragged.RaggedTensorValue is deprecated. Please use tf.compat.v1.ragged.RaggedTensorValue instead.\n",
      "\n",
      "  30/3335 [..............................] - ETA: 46:17 - loss: 1.6216 - accuracy: 0.1889"
     ]
    },
    {
     "ename": "KeyboardInterrupt",
     "evalue": "",
     "output_type": "error",
     "traceback": [
      "\u001b[1;31m---------------------------------------------------------------------------\u001b[0m",
      "\u001b[1;31mKeyboardInterrupt\u001b[0m                         Traceback (most recent call last)",
      "Cell \u001b[1;32mIn[18], line 1\u001b[0m\n\u001b[1;32m----> 1\u001b[0m model\u001b[38;5;241m.\u001b[39mfit(X_train_final, y_train_final, epochs\u001b[38;5;241m=\u001b[39m\u001b[38;5;241m10\u001b[39m, batch_size\u001b[38;5;241m=\u001b[39mbatch_size)\n",
      "File \u001b[1;32m~\\anaconda3\\Lib\\site-packages\\keras\\src\\utils\\traceback_utils.py:65\u001b[0m, in \u001b[0;36mfilter_traceback.<locals>.error_handler\u001b[1;34m(*args, **kwargs)\u001b[0m\n\u001b[0;32m     63\u001b[0m filtered_tb \u001b[38;5;241m=\u001b[39m \u001b[38;5;28;01mNone\u001b[39;00m\n\u001b[0;32m     64\u001b[0m \u001b[38;5;28;01mtry\u001b[39;00m:\n\u001b[1;32m---> 65\u001b[0m     \u001b[38;5;28;01mreturn\u001b[39;00m fn(\u001b[38;5;241m*\u001b[39margs, \u001b[38;5;241m*\u001b[39m\u001b[38;5;241m*\u001b[39mkwargs)\n\u001b[0;32m     66\u001b[0m \u001b[38;5;28;01mexcept\u001b[39;00m \u001b[38;5;167;01mException\u001b[39;00m \u001b[38;5;28;01mas\u001b[39;00m e:\n\u001b[0;32m     67\u001b[0m     filtered_tb \u001b[38;5;241m=\u001b[39m _process_traceback_frames(e\u001b[38;5;241m.\u001b[39m__traceback__)\n",
      "File \u001b[1;32m~\\anaconda3\\Lib\\site-packages\\keras\\src\\engine\\training.py:1807\u001b[0m, in \u001b[0;36mModel.fit\u001b[1;34m(self, x, y, batch_size, epochs, verbose, callbacks, validation_split, validation_data, shuffle, class_weight, sample_weight, initial_epoch, steps_per_epoch, validation_steps, validation_batch_size, validation_freq, max_queue_size, workers, use_multiprocessing)\u001b[0m\n\u001b[0;32m   1799\u001b[0m \u001b[38;5;28;01mwith\u001b[39;00m tf\u001b[38;5;241m.\u001b[39mprofiler\u001b[38;5;241m.\u001b[39mexperimental\u001b[38;5;241m.\u001b[39mTrace(\n\u001b[0;32m   1800\u001b[0m     \u001b[38;5;124m\"\u001b[39m\u001b[38;5;124mtrain\u001b[39m\u001b[38;5;124m\"\u001b[39m,\n\u001b[0;32m   1801\u001b[0m     epoch_num\u001b[38;5;241m=\u001b[39mepoch,\n\u001b[1;32m   (...)\u001b[0m\n\u001b[0;32m   1804\u001b[0m     _r\u001b[38;5;241m=\u001b[39m\u001b[38;5;241m1\u001b[39m,\n\u001b[0;32m   1805\u001b[0m ):\n\u001b[0;32m   1806\u001b[0m     callbacks\u001b[38;5;241m.\u001b[39mon_train_batch_begin(step)\n\u001b[1;32m-> 1807\u001b[0m     tmp_logs \u001b[38;5;241m=\u001b[39m \u001b[38;5;28mself\u001b[39m\u001b[38;5;241m.\u001b[39mtrain_function(iterator)\n\u001b[0;32m   1808\u001b[0m     \u001b[38;5;28;01mif\u001b[39;00m data_handler\u001b[38;5;241m.\u001b[39mshould_sync:\n\u001b[0;32m   1809\u001b[0m         context\u001b[38;5;241m.\u001b[39masync_wait()\n",
      "File \u001b[1;32m~\\anaconda3\\Lib\\site-packages\\tensorflow\\python\\util\\traceback_utils.py:150\u001b[0m, in \u001b[0;36mfilter_traceback.<locals>.error_handler\u001b[1;34m(*args, **kwargs)\u001b[0m\n\u001b[0;32m    148\u001b[0m filtered_tb \u001b[38;5;241m=\u001b[39m \u001b[38;5;28;01mNone\u001b[39;00m\n\u001b[0;32m    149\u001b[0m \u001b[38;5;28;01mtry\u001b[39;00m:\n\u001b[1;32m--> 150\u001b[0m   \u001b[38;5;28;01mreturn\u001b[39;00m fn(\u001b[38;5;241m*\u001b[39margs, \u001b[38;5;241m*\u001b[39m\u001b[38;5;241m*\u001b[39mkwargs)\n\u001b[0;32m    151\u001b[0m \u001b[38;5;28;01mexcept\u001b[39;00m \u001b[38;5;167;01mException\u001b[39;00m \u001b[38;5;28;01mas\u001b[39;00m e:\n\u001b[0;32m    152\u001b[0m   filtered_tb \u001b[38;5;241m=\u001b[39m _process_traceback_frames(e\u001b[38;5;241m.\u001b[39m__traceback__)\n",
      "File \u001b[1;32m~\\anaconda3\\Lib\\site-packages\\tensorflow\\python\\eager\\polymorphic_function\\polymorphic_function.py:832\u001b[0m, in \u001b[0;36mFunction.__call__\u001b[1;34m(self, *args, **kwds)\u001b[0m\n\u001b[0;32m    829\u001b[0m compiler \u001b[38;5;241m=\u001b[39m \u001b[38;5;124m\"\u001b[39m\u001b[38;5;124mxla\u001b[39m\u001b[38;5;124m\"\u001b[39m \u001b[38;5;28;01mif\u001b[39;00m \u001b[38;5;28mself\u001b[39m\u001b[38;5;241m.\u001b[39m_jit_compile \u001b[38;5;28;01melse\u001b[39;00m \u001b[38;5;124m\"\u001b[39m\u001b[38;5;124mnonXla\u001b[39m\u001b[38;5;124m\"\u001b[39m\n\u001b[0;32m    831\u001b[0m \u001b[38;5;28;01mwith\u001b[39;00m OptionalXlaContext(\u001b[38;5;28mself\u001b[39m\u001b[38;5;241m.\u001b[39m_jit_compile):\n\u001b[1;32m--> 832\u001b[0m   result \u001b[38;5;241m=\u001b[39m \u001b[38;5;28mself\u001b[39m\u001b[38;5;241m.\u001b[39m_call(\u001b[38;5;241m*\u001b[39margs, \u001b[38;5;241m*\u001b[39m\u001b[38;5;241m*\u001b[39mkwds)\n\u001b[0;32m    834\u001b[0m new_tracing_count \u001b[38;5;241m=\u001b[39m \u001b[38;5;28mself\u001b[39m\u001b[38;5;241m.\u001b[39mexperimental_get_tracing_count()\n\u001b[0;32m    835\u001b[0m without_tracing \u001b[38;5;241m=\u001b[39m (tracing_count \u001b[38;5;241m==\u001b[39m new_tracing_count)\n",
      "File \u001b[1;32m~\\anaconda3\\Lib\\site-packages\\tensorflow\\python\\eager\\polymorphic_function\\polymorphic_function.py:868\u001b[0m, in \u001b[0;36mFunction._call\u001b[1;34m(self, *args, **kwds)\u001b[0m\n\u001b[0;32m    865\u001b[0m   \u001b[38;5;28mself\u001b[39m\u001b[38;5;241m.\u001b[39m_lock\u001b[38;5;241m.\u001b[39mrelease()\n\u001b[0;32m    866\u001b[0m   \u001b[38;5;66;03m# In this case we have created variables on the first call, so we run the\u001b[39;00m\n\u001b[0;32m    867\u001b[0m   \u001b[38;5;66;03m# defunned version which is guaranteed to never create variables.\u001b[39;00m\n\u001b[1;32m--> 868\u001b[0m   \u001b[38;5;28;01mreturn\u001b[39;00m tracing_compilation\u001b[38;5;241m.\u001b[39mcall_function(\n\u001b[0;32m    869\u001b[0m       args, kwds, \u001b[38;5;28mself\u001b[39m\u001b[38;5;241m.\u001b[39m_no_variable_creation_config\n\u001b[0;32m    870\u001b[0m   )\n\u001b[0;32m    871\u001b[0m \u001b[38;5;28;01melif\u001b[39;00m \u001b[38;5;28mself\u001b[39m\u001b[38;5;241m.\u001b[39m_variable_creation_config \u001b[38;5;129;01mis\u001b[39;00m \u001b[38;5;129;01mnot\u001b[39;00m \u001b[38;5;28;01mNone\u001b[39;00m:\n\u001b[0;32m    872\u001b[0m   \u001b[38;5;66;03m# Release the lock early so that multiple threads can perform the call\u001b[39;00m\n\u001b[0;32m    873\u001b[0m   \u001b[38;5;66;03m# in parallel.\u001b[39;00m\n\u001b[0;32m    874\u001b[0m   \u001b[38;5;28mself\u001b[39m\u001b[38;5;241m.\u001b[39m_lock\u001b[38;5;241m.\u001b[39mrelease()\n",
      "File \u001b[1;32m~\\anaconda3\\Lib\\site-packages\\tensorflow\\python\\eager\\polymorphic_function\\tracing_compilation.py:139\u001b[0m, in \u001b[0;36mcall_function\u001b[1;34m(args, kwargs, tracing_options)\u001b[0m\n\u001b[0;32m    137\u001b[0m bound_args \u001b[38;5;241m=\u001b[39m function\u001b[38;5;241m.\u001b[39mfunction_type\u001b[38;5;241m.\u001b[39mbind(\u001b[38;5;241m*\u001b[39margs, \u001b[38;5;241m*\u001b[39m\u001b[38;5;241m*\u001b[39mkwargs)\n\u001b[0;32m    138\u001b[0m flat_inputs \u001b[38;5;241m=\u001b[39m function\u001b[38;5;241m.\u001b[39mfunction_type\u001b[38;5;241m.\u001b[39munpack_inputs(bound_args)\n\u001b[1;32m--> 139\u001b[0m \u001b[38;5;28;01mreturn\u001b[39;00m function\u001b[38;5;241m.\u001b[39m_call_flat(  \u001b[38;5;66;03m# pylint: disable=protected-access\u001b[39;00m\n\u001b[0;32m    140\u001b[0m     flat_inputs, captured_inputs\u001b[38;5;241m=\u001b[39mfunction\u001b[38;5;241m.\u001b[39mcaptured_inputs\n\u001b[0;32m    141\u001b[0m )\n",
      "File \u001b[1;32m~\\anaconda3\\Lib\\site-packages\\tensorflow\\python\\eager\\polymorphic_function\\concrete_function.py:1323\u001b[0m, in \u001b[0;36mConcreteFunction._call_flat\u001b[1;34m(self, tensor_inputs, captured_inputs)\u001b[0m\n\u001b[0;32m   1319\u001b[0m possible_gradient_type \u001b[38;5;241m=\u001b[39m gradients_util\u001b[38;5;241m.\u001b[39mPossibleTapeGradientTypes(args)\n\u001b[0;32m   1320\u001b[0m \u001b[38;5;28;01mif\u001b[39;00m (possible_gradient_type \u001b[38;5;241m==\u001b[39m gradients_util\u001b[38;5;241m.\u001b[39mPOSSIBLE_GRADIENT_TYPES_NONE\n\u001b[0;32m   1321\u001b[0m     \u001b[38;5;129;01mand\u001b[39;00m executing_eagerly):\n\u001b[0;32m   1322\u001b[0m   \u001b[38;5;66;03m# No tape is watching; skip to running the function.\u001b[39;00m\n\u001b[1;32m-> 1323\u001b[0m   \u001b[38;5;28;01mreturn\u001b[39;00m \u001b[38;5;28mself\u001b[39m\u001b[38;5;241m.\u001b[39m_inference_function\u001b[38;5;241m.\u001b[39mcall_preflattened(args)\n\u001b[0;32m   1324\u001b[0m forward_backward \u001b[38;5;241m=\u001b[39m \u001b[38;5;28mself\u001b[39m\u001b[38;5;241m.\u001b[39m_select_forward_and_backward_functions(\n\u001b[0;32m   1325\u001b[0m     args,\n\u001b[0;32m   1326\u001b[0m     possible_gradient_type,\n\u001b[0;32m   1327\u001b[0m     executing_eagerly)\n\u001b[0;32m   1328\u001b[0m forward_function, args_with_tangents \u001b[38;5;241m=\u001b[39m forward_backward\u001b[38;5;241m.\u001b[39mforward()\n",
      "File \u001b[1;32m~\\anaconda3\\Lib\\site-packages\\tensorflow\\python\\eager\\polymorphic_function\\atomic_function.py:216\u001b[0m, in \u001b[0;36mAtomicFunction.call_preflattened\u001b[1;34m(self, args)\u001b[0m\n\u001b[0;32m    214\u001b[0m \u001b[38;5;28;01mdef\u001b[39;00m \u001b[38;5;21mcall_preflattened\u001b[39m(\u001b[38;5;28mself\u001b[39m, args: Sequence[core\u001b[38;5;241m.\u001b[39mTensor]) \u001b[38;5;241m-\u001b[39m\u001b[38;5;241m>\u001b[39m Any:\n\u001b[0;32m    215\u001b[0m \u001b[38;5;250m  \u001b[39m\u001b[38;5;124;03m\"\"\"Calls with flattened tensor inputs and returns the structured output.\"\"\"\u001b[39;00m\n\u001b[1;32m--> 216\u001b[0m   flat_outputs \u001b[38;5;241m=\u001b[39m \u001b[38;5;28mself\u001b[39m\u001b[38;5;241m.\u001b[39mcall_flat(\u001b[38;5;241m*\u001b[39margs)\n\u001b[0;32m    217\u001b[0m   \u001b[38;5;28;01mreturn\u001b[39;00m \u001b[38;5;28mself\u001b[39m\u001b[38;5;241m.\u001b[39mfunction_type\u001b[38;5;241m.\u001b[39mpack_output(flat_outputs)\n",
      "File \u001b[1;32m~\\anaconda3\\Lib\\site-packages\\tensorflow\\python\\eager\\polymorphic_function\\atomic_function.py:251\u001b[0m, in \u001b[0;36mAtomicFunction.call_flat\u001b[1;34m(self, *args)\u001b[0m\n\u001b[0;32m    249\u001b[0m \u001b[38;5;28;01mwith\u001b[39;00m record\u001b[38;5;241m.\u001b[39mstop_recording():\n\u001b[0;32m    250\u001b[0m   \u001b[38;5;28;01mif\u001b[39;00m \u001b[38;5;28mself\u001b[39m\u001b[38;5;241m.\u001b[39m_bound_context\u001b[38;5;241m.\u001b[39mexecuting_eagerly():\n\u001b[1;32m--> 251\u001b[0m     outputs \u001b[38;5;241m=\u001b[39m \u001b[38;5;28mself\u001b[39m\u001b[38;5;241m.\u001b[39m_bound_context\u001b[38;5;241m.\u001b[39mcall_function(\n\u001b[0;32m    252\u001b[0m         \u001b[38;5;28mself\u001b[39m\u001b[38;5;241m.\u001b[39mname,\n\u001b[0;32m    253\u001b[0m         \u001b[38;5;28mlist\u001b[39m(args),\n\u001b[0;32m    254\u001b[0m         \u001b[38;5;28mlen\u001b[39m(\u001b[38;5;28mself\u001b[39m\u001b[38;5;241m.\u001b[39mfunction_type\u001b[38;5;241m.\u001b[39mflat_outputs),\n\u001b[0;32m    255\u001b[0m     )\n\u001b[0;32m    256\u001b[0m   \u001b[38;5;28;01melse\u001b[39;00m:\n\u001b[0;32m    257\u001b[0m     outputs \u001b[38;5;241m=\u001b[39m make_call_op_in_graph(\n\u001b[0;32m    258\u001b[0m         \u001b[38;5;28mself\u001b[39m,\n\u001b[0;32m    259\u001b[0m         \u001b[38;5;28mlist\u001b[39m(args),\n\u001b[0;32m    260\u001b[0m         \u001b[38;5;28mself\u001b[39m\u001b[38;5;241m.\u001b[39m_bound_context\u001b[38;5;241m.\u001b[39mfunction_call_options\u001b[38;5;241m.\u001b[39mas_attrs(),\n\u001b[0;32m    261\u001b[0m     )\n",
      "File \u001b[1;32m~\\anaconda3\\Lib\\site-packages\\tensorflow\\python\\eager\\context.py:1486\u001b[0m, in \u001b[0;36mContext.call_function\u001b[1;34m(self, name, tensor_inputs, num_outputs)\u001b[0m\n\u001b[0;32m   1484\u001b[0m cancellation_context \u001b[38;5;241m=\u001b[39m cancellation\u001b[38;5;241m.\u001b[39mcontext()\n\u001b[0;32m   1485\u001b[0m \u001b[38;5;28;01mif\u001b[39;00m cancellation_context \u001b[38;5;129;01mis\u001b[39;00m \u001b[38;5;28;01mNone\u001b[39;00m:\n\u001b[1;32m-> 1486\u001b[0m   outputs \u001b[38;5;241m=\u001b[39m execute\u001b[38;5;241m.\u001b[39mexecute(\n\u001b[0;32m   1487\u001b[0m       name\u001b[38;5;241m.\u001b[39mdecode(\u001b[38;5;124m\"\u001b[39m\u001b[38;5;124mutf-8\u001b[39m\u001b[38;5;124m\"\u001b[39m),\n\u001b[0;32m   1488\u001b[0m       num_outputs\u001b[38;5;241m=\u001b[39mnum_outputs,\n\u001b[0;32m   1489\u001b[0m       inputs\u001b[38;5;241m=\u001b[39mtensor_inputs,\n\u001b[0;32m   1490\u001b[0m       attrs\u001b[38;5;241m=\u001b[39mattrs,\n\u001b[0;32m   1491\u001b[0m       ctx\u001b[38;5;241m=\u001b[39m\u001b[38;5;28mself\u001b[39m,\n\u001b[0;32m   1492\u001b[0m   )\n\u001b[0;32m   1493\u001b[0m \u001b[38;5;28;01melse\u001b[39;00m:\n\u001b[0;32m   1494\u001b[0m   outputs \u001b[38;5;241m=\u001b[39m execute\u001b[38;5;241m.\u001b[39mexecute_with_cancellation(\n\u001b[0;32m   1495\u001b[0m       name\u001b[38;5;241m.\u001b[39mdecode(\u001b[38;5;124m\"\u001b[39m\u001b[38;5;124mutf-8\u001b[39m\u001b[38;5;124m\"\u001b[39m),\n\u001b[0;32m   1496\u001b[0m       num_outputs\u001b[38;5;241m=\u001b[39mnum_outputs,\n\u001b[1;32m   (...)\u001b[0m\n\u001b[0;32m   1500\u001b[0m       cancellation_manager\u001b[38;5;241m=\u001b[39mcancellation_context,\n\u001b[0;32m   1501\u001b[0m   )\n",
      "File \u001b[1;32m~\\anaconda3\\Lib\\site-packages\\tensorflow\\python\\eager\\execute.py:53\u001b[0m, in \u001b[0;36mquick_execute\u001b[1;34m(op_name, num_outputs, inputs, attrs, ctx, name)\u001b[0m\n\u001b[0;32m     51\u001b[0m \u001b[38;5;28;01mtry\u001b[39;00m:\n\u001b[0;32m     52\u001b[0m   ctx\u001b[38;5;241m.\u001b[39mensure_initialized()\n\u001b[1;32m---> 53\u001b[0m   tensors \u001b[38;5;241m=\u001b[39m pywrap_tfe\u001b[38;5;241m.\u001b[39mTFE_Py_Execute(ctx\u001b[38;5;241m.\u001b[39m_handle, device_name, op_name,\n\u001b[0;32m     54\u001b[0m                                       inputs, attrs, num_outputs)\n\u001b[0;32m     55\u001b[0m \u001b[38;5;28;01mexcept\u001b[39;00m core\u001b[38;5;241m.\u001b[39m_NotOkStatusException \u001b[38;5;28;01mas\u001b[39;00m e:\n\u001b[0;32m     56\u001b[0m   \u001b[38;5;28;01mif\u001b[39;00m name \u001b[38;5;129;01mis\u001b[39;00m \u001b[38;5;129;01mnot\u001b[39;00m \u001b[38;5;28;01mNone\u001b[39;00m:\n",
      "\u001b[1;31mKeyboardInterrupt\u001b[0m: "
     ]
    }
   ],
   "source": [
    "model.fit(X_train_final, y_train_final, epochs=10, batch_size=batch_size)"
   ]
  },
  {
   "cell_type": "code",
   "execution_count": null,
   "id": "431713ed",
   "metadata": {},
   "outputs": [],
   "source": [
    "final_final_predicts = model.predict(X_test)\n",
    "final_final_predicts.shape"
   ]
  },
  {
   "cell_type": "code",
   "execution_count": null,
   "id": "06687759",
   "metadata": {},
   "outputs": [],
   "source": [
    "X = np.array(X)\n",
    "y = np.array(y)\n",
    "score_full = model.evaluate(X, y, batch_size=batch_size, verbose=0)\n",
    "print('Test loss:', score_full[0])\n",
    "print('Accuracy:', score_full[1])"
   ]
  },
  {
   "cell_type": "code",
   "execution_count": null,
   "id": "12bbd064",
   "metadata": {},
   "outputs": [],
   "source": [
    "score = model.evaluate(X_test, y_test, batch_size=batch_size, verbose=0)\n",
    "print('Test loss:', score[0])\n",
    "print('Accuracy:', score[1])"
   ]
  },
  {
   "cell_type": "code",
   "execution_count": null,
   "id": "fd58108f",
   "metadata": {
    "scrolled": true
   },
   "outputs": [],
   "source": [
    "final_final_predicts"
   ]
  },
  {
   "cell_type": "code",
   "execution_count": null,
   "id": "722b8319",
   "metadata": {},
   "outputs": [],
   "source": [
    "for i in range(len(final_final_predicts)):\n",
    "    if max(final_final_predicts[i]) != final_final_predicts[i][0]:\n",
    "        print(i, final_final_predicts[i])"
   ]
  },
  {
   "cell_type": "code",
   "execution_count": null,
   "id": "5c027a44",
   "metadata": {},
   "outputs": [],
   "source": [
    "full_predicts = model.predict(X)\n",
    "full_predicts"
   ]
  },
  {
   "cell_type": "code",
   "execution_count": null,
   "id": "9e48cb0e",
   "metadata": {},
   "outputs": [],
   "source": [
    "for i in range(len(full_predicts)):\n",
    "    if max(full_predicts[i]) != full_predicts[i][0]:\n",
    "        print(i, full_predicts[i])"
   ]
  },
  {
   "cell_type": "code",
   "execution_count": null,
   "id": "0960ca4e",
   "metadata": {},
   "outputs": [],
   "source": [
    "#%% Confusion Matrix and Classification Report\n",
    "from sklearn.metrics import confusion_matrix, classification_report \n",
    "\n",
    "# Classification Report\n",
    "model_report = classification_report(np.argmax(full_predicts, axis=1), np.argmax(y, axis=1))\n",
    "print(model_report)"
   ]
  },
  {
   "cell_type": "code",
   "execution_count": null,
   "id": "3ae203ae",
   "metadata": {},
   "outputs": [],
   "source": [
    "model_conf = confusion_matrix(np.argmax(full_predicts, axis=1), np.argmax(y, axis=1))\n",
    "print(model_conf)"
   ]
  },
  {
   "cell_type": "code",
   "execution_count": null,
   "id": "344698f6",
   "metadata": {},
   "outputs": [],
   "source": [
    "#from scipy import interp\n",
    "import matplotlib.pyplot as plt\n",
    "from sklearn.metrics import roc_curve, auc\n",
    "# Learn to predict each class against the other\n",
    "\n",
    "\n",
    "n_classes = 5 # number of class\n",
    "\n",
    "\n",
    "\n",
    "\n",
    "# Compute ROC curve and ROC area for each class\n",
    "fpr = dict()\n",
    "tpr = dict()\n",
    "roc_auc = dict()\n",
    "for i in range(n_classes):\n",
    "    fpr[i], tpr[i], _ = roc_curve(y_test[:, i], final_final_predicts[:, i])\n",
    "    roc_auc[i] = auc(fpr[i], tpr[i])\n",
    "\n",
    "# Compute micro-average ROC curve and ROC area\n",
    "fpr[\"micro\"], tpr[\"micro\"], _ = roc_curve(y_test.ravel(), final_final_predicts.ravel())\n",
    "roc_auc[\"micro\"] = auc(fpr[\"micro\"], tpr[\"micro\"])"
   ]
  },
  {
   "cell_type": "code",
   "execution_count": null,
   "id": "a5248b40",
   "metadata": {},
   "outputs": [],
   "source": [
    "n_classes = 5\n",
    "\n",
    "# Process of plotting roc-auc curve belonging to all classes.\n",
    "\n",
    "from itertools import cycle\n",
    "\n",
    "# First aggregate all false positive rates\n",
    "all_fpr = np.unique(np.concatenate([fpr[i] for i in range(n_classes)]))\n",
    "\n",
    "# Then interpolate all ROC curves at this points\n",
    "mean_tpr = np.zeros_like(all_fpr)\n",
    "for i in range(n_classes):\n",
    "    mean_tpr += np.interp(all_fpr, fpr[i], tpr[i])\n",
    "\n",
    "# Finally average it and compute AUC\n",
    "mean_tpr /= n_classes\n",
    "\n",
    "fpr[\"macro\"] = all_fpr\n",
    "tpr[\"macro\"] = mean_tpr\n",
    "roc_auc[\"macro\"] = auc(fpr[\"macro\"], tpr[\"macro\"])\n",
    "\n",
    "# Plot all ROC curves\n",
    "plt.figure(figsize=(10, 4))\n",
    "plt.subplot(121)\n",
    "plt.plot(fpr[\"micro\"], tpr[\"micro\"],\n",
    "         label='micro-average ROC curve (area = {0:0.2f})'\n",
    "               ''.format(roc_auc[\"micro\"]),\n",
    "         color='deeppink', linestyle=':', linewidth=4)\n",
    "\n",
    "plt.plot([0, 1], [0, 1], 'k--', lw=2)\n",
    "plt.xlim([0.0, 1.0])\n",
    "plt.ylim([0.0, 1.05])\n",
    "plt.xlabel('False Positive Rate')\n",
    "plt.ylabel('True Positive Rate')\n",
    "plt.title('Multi-Class ROC')\n",
    "plt.legend(loc=\"lower right\")\n",
    "\n",
    "plt.subplot(122)\n",
    "plt.plot(fpr[\"macro\"], tpr[\"macro\"],\n",
    "         label='macro-average ROC curve (area = {0:0.2f})'\n",
    "               ''.format(roc_auc[\"macro\"]),\n",
    "         color='navy', linestyle=':', linewidth=4)\n",
    "\n",
    "plt.plot([0, 1], [0, 1], 'k--', lw=2)\n",
    "plt.xlim([0.0, 1.0])\n",
    "plt.ylim([0.0, 1.05])\n",
    "plt.xlabel('False Positive Rate')\n",
    "plt.ylabel('True Positive Rate')\n",
    "plt.title('Multi-Class ROC')\n",
    "plt.legend(loc=\"lower right\")\n",
    "plt.show()"
   ]
  },
  {
   "cell_type": "code",
   "execution_count": null,
   "id": "e2d72786",
   "metadata": {},
   "outputs": [],
   "source": [
    "plt.close()\n",
    "plt.figure(figsize=(30, 5))\n",
    "colors = cycle(['aqua', 'darkorange', 'cornflowerblue'])\n",
    "title = ['No Murmur', \"Holosystolic\", \"Early-systolic\", \"Mid-systolic\", \"Late-systolic\"]\n",
    "for i, color in zip(range(n_classes), colors):\n",
    "    if i == 0:\n",
    "        plt.subplot(151)\n",
    "    elif i == 1:\n",
    "        plt.subplot(152)\n",
    "    elif i == 2:\n",
    "        plt.subplot(153)\n",
    "    elif i == 3:\n",
    "        plt.subplot(154)\n",
    "    else:\n",
    "        plt.subplot(155)\n",
    "    plt.plot([0, 1], [0, 1], 'k--', lw=2)\n",
    "    plt.xlim([0.0, 1.0])\n",
    "    plt.ylim([0.0, 1.05])\n",
    "    plt.xlabel('False Positive Rate')\n",
    "    plt.ylabel('True Positive Rate')\n",
    "    plt.title(title[i])\n",
    "    plt.plot(fpr[i], tpr[i], color=color, lw=2, label='ROC curve of class {0} (area = {1:0.2f})'.format(title[i], roc_auc[i]))\n",
    "    plt.legend(loc=\"lower right\")\n",
    "    \n",
    "plt.show()"
   ]
  },
  {
   "cell_type": "code",
   "execution_count": null,
   "id": "52f85708",
   "metadata": {},
   "outputs": [],
   "source": []
  }
 ],
 "metadata": {
  "kernelspec": {
   "display_name": "Python 3 (ipykernel)",
   "language": "python",
   "name": "python3"
  },
  "language_info": {
   "codemirror_mode": {
    "name": "ipython",
    "version": 3
   },
   "file_extension": ".py",
   "mimetype": "text/x-python",
   "name": "python",
   "nbconvert_exporter": "python",
   "pygments_lexer": "ipython3",
   "version": "3.11.5"
  }
 },
 "nbformat": 4,
 "nbformat_minor": 5
}
