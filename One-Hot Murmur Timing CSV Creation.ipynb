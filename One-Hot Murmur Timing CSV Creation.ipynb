{
 "cells": [
  {
   "cell_type": "code",
   "execution_count": 1,
   "id": "03400cfe",
   "metadata": {},
   "outputs": [],
   "source": [
    "import pandas as pd\n",
    "import numpy as np\n",
    "\n",
    "df = pd.read_csv(\"the-circor-digiscope-phonocardiogram-dataset-1.0.3/training_data.csv\")"
   ]
  },
  {
   "cell_type": "code",
   "execution_count": 2,
   "id": "f3915933",
   "metadata": {},
   "outputs": [],
   "source": [
    "patient_id = list(df[\"Patient ID\"])\n",
    "recording_loc = list(df[\"Recording locations:\"])\n",
    "murmur = list(df[\"Murmur\"])\n",
    "murmur_loc = list(df[\"Murmur locations\"])\n",
    "systolic_murmur_timing = list(df[\"Systolic murmur timing\"])"
   ]
  },
  {
   "cell_type": "code",
   "execution_count": 3,
   "id": "685c0395",
   "metadata": {},
   "outputs": [],
   "source": [
    "recording_loc = [x.split(\"+\") for x in recording_loc]\n",
    "\n",
    "for i in range(len(murmur_loc)):\n",
    "    if murmur_loc[i] is np.nan:\n",
    "        murmur_loc[i] = []\n",
    "    else:\n",
    "        murmur_loc[i] = murmur_loc[i].split(\"+\")"
   ]
  },
  {
   "cell_type": "code",
   "execution_count": 4,
   "id": "32f59e56",
   "metadata": {},
   "outputs": [
    {
     "name": "stdout",
     "output_type": "stream",
     "text": [
      "Error on patient ID: 85119\n",
      "Error on patient ID: 85119\n"
     ]
    }
   ],
   "source": [
    "X = []\n",
    "loc = []\n",
    "y = []\n",
    "\n",
    "for i in range(len(patient_id)):\n",
    "    if murmur[i] == \"Absent\":\n",
    "        for recloc in recording_loc[i]:\n",
    "            X.append(patient_id[i])\n",
    "            loc.append(recloc)\n",
    "            y.append([1, 0, 0, 0, 0])\n",
    "    elif murmur[i] == \"Present\":\n",
    "        for recloc in recording_loc[i]:\n",
    "            if recloc in murmur_loc[i]:\n",
    "                if systolic_murmur_timing[i] == \"Holosystolic\":\n",
    "                    X.append(patient_id[i])\n",
    "                    loc.append(recloc)\n",
    "                    y.append([0, 1, 0, 0, 0])\n",
    "                elif systolic_murmur_timing[i] == \"Early-systolic\":\n",
    "                    X.append(patient_id[i])\n",
    "                    loc.append(recloc)\n",
    "                    y.append([0, 0, 1, 0, 0])\n",
    "                elif systolic_murmur_timing[i] == \"Mid-systolic\":\n",
    "                    X.append(patient_id[i])\n",
    "                    loc.append(recloc)\n",
    "                    y.append([0, 0, 0, 1, 0])\n",
    "                elif systolic_murmur_timing[i] == \"Late-systolic\":\n",
    "                    X.append(patient_id[i])\n",
    "                    loc.append(recloc)\n",
    "                    y.append([0, 0, 0, 0, 1])\n",
    "                else:\n",
    "                    print(\"Error on patient ID:\", patient_id[i])\n",
    "            else:\n",
    "                X.append(patient_id[i])\n",
    "                loc.append(recloc)\n",
    "                y.append([1, 0, 0, 0, 0])"
   ]
  },
  {
   "cell_type": "code",
   "execution_count": 5,
   "id": "62fa5726",
   "metadata": {},
   "outputs": [],
   "source": [
    "import xlwt\n",
    "\n",
    "workbook = xlwt.Workbook()\n",
    "worksheet = workbook.add_sheet(\"One-Hot Encoding\")\n",
    "\n",
    "row_num = 0\n",
    "columns = ['ID', 'Location', 'Absent', 'Holosystolic', 'Early-systolic', 'Mid-systolic', 'Late-systolic']\n",
    "for col_num in range(len(columns)):\n",
    "    worksheet.write(row_num, col_num, columns[col_num])\n",
    "    \n",
    "for x in range(len(X)):\n",
    "    row_num += 1\n",
    "    row = [X[x], loc[x], y[x][0], y[x][1], y[x][2], y[x][3], y[x][4]]\n",
    "    for col_num in range(len(row)):\n",
    "        worksheet.write(row_num, col_num, row[col_num])\n",
    "        \n",
    "workbook.save(\"onehotencoding.csv\")"
   ]
  }
 ],
 "metadata": {
  "kernelspec": {
   "display_name": "Python 3",
   "language": "python",
   "name": "python3"
  },
  "language_info": {
   "codemirror_mode": {
    "name": "ipython",
    "version": 3
   },
   "file_extension": ".py",
   "mimetype": "text/x-python",
   "name": "python",
   "nbconvert_exporter": "python",
   "pygments_lexer": "ipython3",
   "version": "3.6.13"
  }
 },
 "nbformat": 4,
 "nbformat_minor": 5
}
